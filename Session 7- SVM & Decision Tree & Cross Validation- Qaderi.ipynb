{
 "cells": [
  {
   "cell_type": "markdown",
   "id": "cc9d2c23",
   "metadata": {},
   "source": [
    "<div style=\"background-color: rgba(247, 200, 115, 0.3); padding: 30px 0;\">\n",
    "    <div style=\"max-width: 800px; margin: 0 auto; text-align: center;\">\n",
    "        <h1 style=\"font-size: 48px; color: #cc7a00; margin-bottom: 10px;\">🚀 Machine Learning 📊</h1>\n",
    "        <h3 style=\"font-size: 28px; color: #cc7a00; margin-bottom: 10px;\">SVM & Decision Tree & Cross Validation</h3>\n",
    "        <h4 style=\"font-size: 18px; color: #cc7a00;\"><a href=\"https://www.linkedin.com/in/mohammadreza-qaderi/\" style=\"color: #1e90ff; text-decoration: none;\">MohammadReza Qaderi</a></h4>\n",
    "        <h4 style=\"font-size: 18px; color: #cc7a00;\"><a href=\"https://github.com/MR-Qaderi/MachineLearningCourseMaterials\" style=\"color: #1e90ff; text-decoration: none;\">GitHub Repository</a></h4>\n",
    "    </div>\n",
    "</div>\n"
   ]
  },
  {
   "cell_type": "markdown",
   "id": "b29d4706",
   "metadata": {},
   "source": [
    "<div align=\"center\" style=\"border: 2px solid #e74c3c; padding: 10px; background-color: #f39c12; border-radius: 5px;\">\n",
    "  <h1 style=\"font-family: 'Palatino Linotype', serif; color: white;\">🔥 SVM 🔥</h1>\n",
    "</div>"
   ]
  },
  {
   "cell_type": "markdown",
   "id": "f9b1951a",
   "metadata": {},
   "source": [
    "<div style=\"background-color: #f9f9f9; border: 1px solid #ccc; padding: 15px; border-radius: 10px; font-family: Arial;\">\n",
    "\n",
    "<h2 style=\"color: #555; text-align: center;\">Support Vector Machine (SVM) Algorithm</h2>\n",
    "\n",
    "<p>The Support Vector Machine (SVM) is a powerful supervised learning algorithm used for both classification and regression tasks. It operates by finding the hyperplane that best separates classes in a high-dimensional feature space.</p>\n",
    "\n",
    "<ul>\n",
    "    <li><strong>Margin Maximization:</strong> SVM aims to find a hyperplane that maximizes the margin, which is the distance between the hyperplane and the nearest data points of each class. This ensures better generalization to unseen data.</li>\n",
    "    <li><strong>Kernel Trick:</strong> SVM can efficiently handle non-linearly separable data by mapping the input features into a higher-dimensional space using kernel functions. This allows for more complex decision boundaries.</li>\n",
    "    <li><strong>Robustness to Outliers:</strong> SVM is less sensitive to outliers due to its margin-based approach. It focuses on correctly classifying instances near the decision boundary.</li>\n",
    "    <li><strong>Effective in High-Dimensional Spaces:</strong> SVM performs well even when the number of features is greater than the number of samples, making it suitable for complex datasets.</li>\n",
    "    <li><strong>Memory Efficiency:</strong> It uses a subset of training points (support vectors) to define the decision boundary, which leads to memory efficiency.</li>\n",
    "</ul>\n",
    "\n",
    "<p>SVM is widely used in various fields such as image classification, text mining, bioinformatics, and more. Its versatility, robustness, and ability to handle non-linear data make it a valuable tool in machine learning.</p>\n",
    "\n",
    "<p style=\"font-style: italic; text-align: center;\">Keep in mind that SVM's performance may be influenced by the choice of kernel and its hyperparameters. Therefore, careful tuning is crucial for achieving optimal results.</p>\n",
    "\n",
    "</div>\n"
   ]
  },
  {
   "cell_type": "markdown",
   "id": "3a973a44",
   "metadata": {},
   "source": [
    "<img src = \"https://alpopkes.com/posts/machine_learning/images/separating_hyperplanes.png\" >"
   ]
  },
  {
   "cell_type": "markdown",
   "id": "943a6729",
   "metadata": {},
   "source": [
    "<img src = \"https://static.javatpoint.com/tutorial/machine-learning/images/support-vector-machine-algorithm.png\" >"
   ]
  },
  {
   "cell_type": "markdown",
   "id": "da58d725",
   "metadata": {},
   "source": [
    "<img src = \"https://upload.wikimedia.org/wikipedia/commons/thumb/7/72/SVM_margin.png/600px-SVM_margin.png\" >"
   ]
  },
  {
   "cell_type": "markdown",
   "id": "9261e7d2",
   "metadata": {},
   "source": [
    "<img src = \"https://docs.opencv.org/3.4/sample-errors-dist.png\" >"
   ]
  },
  {
   "cell_type": "markdown",
   "id": "2b6df72f",
   "metadata": {},
   "source": [
    "<img src = \"https://i.stack.imgur.com/kP0j9.png\" >"
   ]
  },
  {
   "cell_type": "code",
   "execution_count": 1,
   "id": "a20714a8",
   "metadata": {},
   "outputs": [],
   "source": [
    "import time\n",
    "\n",
    "# Record the start time\n",
    "start_time = time.time()"
   ]
  },
  {
   "cell_type": "code",
   "execution_count": 2,
   "id": "fb710934",
   "metadata": {
    "scrolled": false
   },
   "outputs": [
    {
     "data": {
      "text/html": [
       "<div>\n",
       "<style scoped>\n",
       "    .dataframe tbody tr th:only-of-type {\n",
       "        vertical-align: middle;\n",
       "    }\n",
       "\n",
       "    .dataframe tbody tr th {\n",
       "        vertical-align: top;\n",
       "    }\n",
       "\n",
       "    .dataframe thead th {\n",
       "        text-align: right;\n",
       "    }\n",
       "</style>\n",
       "<table border=\"1\" class=\"dataframe\">\n",
       "  <thead>\n",
       "    <tr style=\"text-align: right;\">\n",
       "      <th></th>\n",
       "      <th>mean radius</th>\n",
       "      <th>mean texture</th>\n",
       "      <th>mean perimeter</th>\n",
       "      <th>mean area</th>\n",
       "      <th>mean smoothness</th>\n",
       "      <th>mean compactness</th>\n",
       "      <th>mean concavity</th>\n",
       "      <th>mean concave points</th>\n",
       "      <th>mean symmetry</th>\n",
       "      <th>mean fractal dimension</th>\n",
       "      <th>...</th>\n",
       "      <th>worst texture</th>\n",
       "      <th>worst perimeter</th>\n",
       "      <th>worst area</th>\n",
       "      <th>worst smoothness</th>\n",
       "      <th>worst compactness</th>\n",
       "      <th>worst concavity</th>\n",
       "      <th>worst concave points</th>\n",
       "      <th>worst symmetry</th>\n",
       "      <th>worst fractal dimension</th>\n",
       "      <th>diagnosis</th>\n",
       "    </tr>\n",
       "  </thead>\n",
       "  <tbody>\n",
       "    <tr>\n",
       "      <th>0</th>\n",
       "      <td>17.99</td>\n",
       "      <td>10.38</td>\n",
       "      <td>122.80</td>\n",
       "      <td>1001.0</td>\n",
       "      <td>0.11840</td>\n",
       "      <td>0.27760</td>\n",
       "      <td>0.30010</td>\n",
       "      <td>0.14710</td>\n",
       "      <td>0.2419</td>\n",
       "      <td>0.07871</td>\n",
       "      <td>...</td>\n",
       "      <td>17.33</td>\n",
       "      <td>184.60</td>\n",
       "      <td>2019.0</td>\n",
       "      <td>0.16220</td>\n",
       "      <td>0.66560</td>\n",
       "      <td>0.7119</td>\n",
       "      <td>0.2654</td>\n",
       "      <td>0.4601</td>\n",
       "      <td>0.11890</td>\n",
       "      <td>0</td>\n",
       "    </tr>\n",
       "    <tr>\n",
       "      <th>1</th>\n",
       "      <td>20.57</td>\n",
       "      <td>17.77</td>\n",
       "      <td>132.90</td>\n",
       "      <td>1326.0</td>\n",
       "      <td>0.08474</td>\n",
       "      <td>0.07864</td>\n",
       "      <td>0.08690</td>\n",
       "      <td>0.07017</td>\n",
       "      <td>0.1812</td>\n",
       "      <td>0.05667</td>\n",
       "      <td>...</td>\n",
       "      <td>23.41</td>\n",
       "      <td>158.80</td>\n",
       "      <td>1956.0</td>\n",
       "      <td>0.12380</td>\n",
       "      <td>0.18660</td>\n",
       "      <td>0.2416</td>\n",
       "      <td>0.1860</td>\n",
       "      <td>0.2750</td>\n",
       "      <td>0.08902</td>\n",
       "      <td>0</td>\n",
       "    </tr>\n",
       "    <tr>\n",
       "      <th>2</th>\n",
       "      <td>19.69</td>\n",
       "      <td>21.25</td>\n",
       "      <td>130.00</td>\n",
       "      <td>1203.0</td>\n",
       "      <td>0.10960</td>\n",
       "      <td>0.15990</td>\n",
       "      <td>0.19740</td>\n",
       "      <td>0.12790</td>\n",
       "      <td>0.2069</td>\n",
       "      <td>0.05999</td>\n",
       "      <td>...</td>\n",
       "      <td>25.53</td>\n",
       "      <td>152.50</td>\n",
       "      <td>1709.0</td>\n",
       "      <td>0.14440</td>\n",
       "      <td>0.42450</td>\n",
       "      <td>0.4504</td>\n",
       "      <td>0.2430</td>\n",
       "      <td>0.3613</td>\n",
       "      <td>0.08758</td>\n",
       "      <td>0</td>\n",
       "    </tr>\n",
       "    <tr>\n",
       "      <th>3</th>\n",
       "      <td>11.42</td>\n",
       "      <td>20.38</td>\n",
       "      <td>77.58</td>\n",
       "      <td>386.1</td>\n",
       "      <td>0.14250</td>\n",
       "      <td>0.28390</td>\n",
       "      <td>0.24140</td>\n",
       "      <td>0.10520</td>\n",
       "      <td>0.2597</td>\n",
       "      <td>0.09744</td>\n",
       "      <td>...</td>\n",
       "      <td>26.50</td>\n",
       "      <td>98.87</td>\n",
       "      <td>567.7</td>\n",
       "      <td>0.20980</td>\n",
       "      <td>0.86630</td>\n",
       "      <td>0.6869</td>\n",
       "      <td>0.2575</td>\n",
       "      <td>0.6638</td>\n",
       "      <td>0.17300</td>\n",
       "      <td>0</td>\n",
       "    </tr>\n",
       "    <tr>\n",
       "      <th>4</th>\n",
       "      <td>20.29</td>\n",
       "      <td>14.34</td>\n",
       "      <td>135.10</td>\n",
       "      <td>1297.0</td>\n",
       "      <td>0.10030</td>\n",
       "      <td>0.13280</td>\n",
       "      <td>0.19800</td>\n",
       "      <td>0.10430</td>\n",
       "      <td>0.1809</td>\n",
       "      <td>0.05883</td>\n",
       "      <td>...</td>\n",
       "      <td>16.67</td>\n",
       "      <td>152.20</td>\n",
       "      <td>1575.0</td>\n",
       "      <td>0.13740</td>\n",
       "      <td>0.20500</td>\n",
       "      <td>0.4000</td>\n",
       "      <td>0.1625</td>\n",
       "      <td>0.2364</td>\n",
       "      <td>0.07678</td>\n",
       "      <td>0</td>\n",
       "    </tr>\n",
       "    <tr>\n",
       "      <th>...</th>\n",
       "      <td>...</td>\n",
       "      <td>...</td>\n",
       "      <td>...</td>\n",
       "      <td>...</td>\n",
       "      <td>...</td>\n",
       "      <td>...</td>\n",
       "      <td>...</td>\n",
       "      <td>...</td>\n",
       "      <td>...</td>\n",
       "      <td>...</td>\n",
       "      <td>...</td>\n",
       "      <td>...</td>\n",
       "      <td>...</td>\n",
       "      <td>...</td>\n",
       "      <td>...</td>\n",
       "      <td>...</td>\n",
       "      <td>...</td>\n",
       "      <td>...</td>\n",
       "      <td>...</td>\n",
       "      <td>...</td>\n",
       "      <td>...</td>\n",
       "    </tr>\n",
       "    <tr>\n",
       "      <th>564</th>\n",
       "      <td>21.56</td>\n",
       "      <td>22.39</td>\n",
       "      <td>142.00</td>\n",
       "      <td>1479.0</td>\n",
       "      <td>0.11100</td>\n",
       "      <td>0.11590</td>\n",
       "      <td>0.24390</td>\n",
       "      <td>0.13890</td>\n",
       "      <td>0.1726</td>\n",
       "      <td>0.05623</td>\n",
       "      <td>...</td>\n",
       "      <td>26.40</td>\n",
       "      <td>166.10</td>\n",
       "      <td>2027.0</td>\n",
       "      <td>0.14100</td>\n",
       "      <td>0.21130</td>\n",
       "      <td>0.4107</td>\n",
       "      <td>0.2216</td>\n",
       "      <td>0.2060</td>\n",
       "      <td>0.07115</td>\n",
       "      <td>0</td>\n",
       "    </tr>\n",
       "    <tr>\n",
       "      <th>565</th>\n",
       "      <td>20.13</td>\n",
       "      <td>28.25</td>\n",
       "      <td>131.20</td>\n",
       "      <td>1261.0</td>\n",
       "      <td>0.09780</td>\n",
       "      <td>0.10340</td>\n",
       "      <td>0.14400</td>\n",
       "      <td>0.09791</td>\n",
       "      <td>0.1752</td>\n",
       "      <td>0.05533</td>\n",
       "      <td>...</td>\n",
       "      <td>38.25</td>\n",
       "      <td>155.00</td>\n",
       "      <td>1731.0</td>\n",
       "      <td>0.11660</td>\n",
       "      <td>0.19220</td>\n",
       "      <td>0.3215</td>\n",
       "      <td>0.1628</td>\n",
       "      <td>0.2572</td>\n",
       "      <td>0.06637</td>\n",
       "      <td>0</td>\n",
       "    </tr>\n",
       "    <tr>\n",
       "      <th>566</th>\n",
       "      <td>16.60</td>\n",
       "      <td>28.08</td>\n",
       "      <td>108.30</td>\n",
       "      <td>858.1</td>\n",
       "      <td>0.08455</td>\n",
       "      <td>0.10230</td>\n",
       "      <td>0.09251</td>\n",
       "      <td>0.05302</td>\n",
       "      <td>0.1590</td>\n",
       "      <td>0.05648</td>\n",
       "      <td>...</td>\n",
       "      <td>34.12</td>\n",
       "      <td>126.70</td>\n",
       "      <td>1124.0</td>\n",
       "      <td>0.11390</td>\n",
       "      <td>0.30940</td>\n",
       "      <td>0.3403</td>\n",
       "      <td>0.1418</td>\n",
       "      <td>0.2218</td>\n",
       "      <td>0.07820</td>\n",
       "      <td>0</td>\n",
       "    </tr>\n",
       "    <tr>\n",
       "      <th>567</th>\n",
       "      <td>20.60</td>\n",
       "      <td>29.33</td>\n",
       "      <td>140.10</td>\n",
       "      <td>1265.0</td>\n",
       "      <td>0.11780</td>\n",
       "      <td>0.27700</td>\n",
       "      <td>0.35140</td>\n",
       "      <td>0.15200</td>\n",
       "      <td>0.2397</td>\n",
       "      <td>0.07016</td>\n",
       "      <td>...</td>\n",
       "      <td>39.42</td>\n",
       "      <td>184.60</td>\n",
       "      <td>1821.0</td>\n",
       "      <td>0.16500</td>\n",
       "      <td>0.86810</td>\n",
       "      <td>0.9387</td>\n",
       "      <td>0.2650</td>\n",
       "      <td>0.4087</td>\n",
       "      <td>0.12400</td>\n",
       "      <td>0</td>\n",
       "    </tr>\n",
       "    <tr>\n",
       "      <th>568</th>\n",
       "      <td>7.76</td>\n",
       "      <td>24.54</td>\n",
       "      <td>47.92</td>\n",
       "      <td>181.0</td>\n",
       "      <td>0.05263</td>\n",
       "      <td>0.04362</td>\n",
       "      <td>0.00000</td>\n",
       "      <td>0.00000</td>\n",
       "      <td>0.1587</td>\n",
       "      <td>0.05884</td>\n",
       "      <td>...</td>\n",
       "      <td>30.37</td>\n",
       "      <td>59.16</td>\n",
       "      <td>268.6</td>\n",
       "      <td>0.08996</td>\n",
       "      <td>0.06444</td>\n",
       "      <td>0.0000</td>\n",
       "      <td>0.0000</td>\n",
       "      <td>0.2871</td>\n",
       "      <td>0.07039</td>\n",
       "      <td>1</td>\n",
       "    </tr>\n",
       "  </tbody>\n",
       "</table>\n",
       "<p>569 rows × 31 columns</p>\n",
       "</div>"
      ],
      "text/plain": [
       "     mean radius  mean texture  mean perimeter  mean area  mean smoothness  \\\n",
       "0          17.99         10.38          122.80     1001.0          0.11840   \n",
       "1          20.57         17.77          132.90     1326.0          0.08474   \n",
       "2          19.69         21.25          130.00     1203.0          0.10960   \n",
       "3          11.42         20.38           77.58      386.1          0.14250   \n",
       "4          20.29         14.34          135.10     1297.0          0.10030   \n",
       "..           ...           ...             ...        ...              ...   \n",
       "564        21.56         22.39          142.00     1479.0          0.11100   \n",
       "565        20.13         28.25          131.20     1261.0          0.09780   \n",
       "566        16.60         28.08          108.30      858.1          0.08455   \n",
       "567        20.60         29.33          140.10     1265.0          0.11780   \n",
       "568         7.76         24.54           47.92      181.0          0.05263   \n",
       "\n",
       "     mean compactness  mean concavity  mean concave points  mean symmetry  \\\n",
       "0             0.27760         0.30010              0.14710         0.2419   \n",
       "1             0.07864         0.08690              0.07017         0.1812   \n",
       "2             0.15990         0.19740              0.12790         0.2069   \n",
       "3             0.28390         0.24140              0.10520         0.2597   \n",
       "4             0.13280         0.19800              0.10430         0.1809   \n",
       "..                ...             ...                  ...            ...   \n",
       "564           0.11590         0.24390              0.13890         0.1726   \n",
       "565           0.10340         0.14400              0.09791         0.1752   \n",
       "566           0.10230         0.09251              0.05302         0.1590   \n",
       "567           0.27700         0.35140              0.15200         0.2397   \n",
       "568           0.04362         0.00000              0.00000         0.1587   \n",
       "\n",
       "     mean fractal dimension  ...  worst texture  worst perimeter  worst area  \\\n",
       "0                   0.07871  ...          17.33           184.60      2019.0   \n",
       "1                   0.05667  ...          23.41           158.80      1956.0   \n",
       "2                   0.05999  ...          25.53           152.50      1709.0   \n",
       "3                   0.09744  ...          26.50            98.87       567.7   \n",
       "4                   0.05883  ...          16.67           152.20      1575.0   \n",
       "..                      ...  ...            ...              ...         ...   \n",
       "564                 0.05623  ...          26.40           166.10      2027.0   \n",
       "565                 0.05533  ...          38.25           155.00      1731.0   \n",
       "566                 0.05648  ...          34.12           126.70      1124.0   \n",
       "567                 0.07016  ...          39.42           184.60      1821.0   \n",
       "568                 0.05884  ...          30.37            59.16       268.6   \n",
       "\n",
       "     worst smoothness  worst compactness  worst concavity  \\\n",
       "0             0.16220            0.66560           0.7119   \n",
       "1             0.12380            0.18660           0.2416   \n",
       "2             0.14440            0.42450           0.4504   \n",
       "3             0.20980            0.86630           0.6869   \n",
       "4             0.13740            0.20500           0.4000   \n",
       "..                ...                ...              ...   \n",
       "564           0.14100            0.21130           0.4107   \n",
       "565           0.11660            0.19220           0.3215   \n",
       "566           0.11390            0.30940           0.3403   \n",
       "567           0.16500            0.86810           0.9387   \n",
       "568           0.08996            0.06444           0.0000   \n",
       "\n",
       "     worst concave points  worst symmetry  worst fractal dimension  diagnosis  \n",
       "0                  0.2654          0.4601                  0.11890          0  \n",
       "1                  0.1860          0.2750                  0.08902          0  \n",
       "2                  0.2430          0.3613                  0.08758          0  \n",
       "3                  0.2575          0.6638                  0.17300          0  \n",
       "4                  0.1625          0.2364                  0.07678          0  \n",
       "..                    ...             ...                      ...        ...  \n",
       "564                0.2216          0.2060                  0.07115          0  \n",
       "565                0.1628          0.2572                  0.06637          0  \n",
       "566                0.1418          0.2218                  0.07820          0  \n",
       "567                0.2650          0.4087                  0.12400          0  \n",
       "568                0.0000          0.2871                  0.07039          1  \n",
       "\n",
       "[569 rows x 31 columns]"
      ]
     },
     "execution_count": 2,
     "metadata": {},
     "output_type": "execute_result"
    }
   ],
   "source": [
    "import pandas as pd\n",
    "from sklearn.datasets import load_breast_cancer\n",
    "import seaborn as sns\n",
    "import matplotlib.pyplot as plt\n",
    "\n",
    "# Load Breast Cancer Wisconsin (Diagnostic) dataset\n",
    "breast_cancer = load_breast_cancer()\n",
    "data_df = pd.DataFrame(breast_cancer.data, columns=breast_cancer.feature_names)\n",
    "data_df['diagnosis'] = breast_cancer.target\n",
    "# Exploratory Data Analysis (EDA)\n",
    "# Display summary statistics and visualization\n",
    "data_df"
   ]
  },
  {
   "cell_type": "code",
   "execution_count": 3,
   "id": "3219f6b4",
   "metadata": {},
   "outputs": [],
   "source": [
    "from sklearn.model_selection import train_test_split\n",
    "from sklearn.svm import SVC\n",
    "from sklearn.metrics import accuracy_score\n",
    "\n",
    "# Separate X (features) and y (target)\n",
    "X = data_df.drop('diagnosis', axis=1)\n",
    "y = data_df['diagnosis']"
   ]
  },
  {
   "cell_type": "code",
   "execution_count": 4,
   "id": "46298456",
   "metadata": {},
   "outputs": [],
   "source": [
    "# Split the data into train and test sets\n",
    "X_train, X_test, y_train, y_test = train_test_split(X, y, test_size=0.2, random_state=42)"
   ]
  },
  {
   "cell_type": "code",
   "execution_count": 5,
   "id": "9685b7c8",
   "metadata": {},
   "outputs": [
    {
     "data": {
      "text/html": [
       "<style>#sk-container-id-1 {color: black;background-color: white;}#sk-container-id-1 pre{padding: 0;}#sk-container-id-1 div.sk-toggleable {background-color: white;}#sk-container-id-1 label.sk-toggleable__label {cursor: pointer;display: block;width: 100%;margin-bottom: 0;padding: 0.3em;box-sizing: border-box;text-align: center;}#sk-container-id-1 label.sk-toggleable__label-arrow:before {content: \"▸\";float: left;margin-right: 0.25em;color: #696969;}#sk-container-id-1 label.sk-toggleable__label-arrow:hover:before {color: black;}#sk-container-id-1 div.sk-estimator:hover label.sk-toggleable__label-arrow:before {color: black;}#sk-container-id-1 div.sk-toggleable__content {max-height: 0;max-width: 0;overflow: hidden;text-align: left;background-color: #f0f8ff;}#sk-container-id-1 div.sk-toggleable__content pre {margin: 0.2em;color: black;border-radius: 0.25em;background-color: #f0f8ff;}#sk-container-id-1 input.sk-toggleable__control:checked~div.sk-toggleable__content {max-height: 200px;max-width: 100%;overflow: auto;}#sk-container-id-1 input.sk-toggleable__control:checked~label.sk-toggleable__label-arrow:before {content: \"▾\";}#sk-container-id-1 div.sk-estimator input.sk-toggleable__control:checked~label.sk-toggleable__label {background-color: #d4ebff;}#sk-container-id-1 div.sk-label input.sk-toggleable__control:checked~label.sk-toggleable__label {background-color: #d4ebff;}#sk-container-id-1 input.sk-hidden--visually {border: 0;clip: rect(1px 1px 1px 1px);clip: rect(1px, 1px, 1px, 1px);height: 1px;margin: -1px;overflow: hidden;padding: 0;position: absolute;width: 1px;}#sk-container-id-1 div.sk-estimator {font-family: monospace;background-color: #f0f8ff;border: 1px dotted black;border-radius: 0.25em;box-sizing: border-box;margin-bottom: 0.5em;}#sk-container-id-1 div.sk-estimator:hover {background-color: #d4ebff;}#sk-container-id-1 div.sk-parallel-item::after {content: \"\";width: 100%;border-bottom: 1px solid gray;flex-grow: 1;}#sk-container-id-1 div.sk-label:hover label.sk-toggleable__label {background-color: #d4ebff;}#sk-container-id-1 div.sk-serial::before {content: \"\";position: absolute;border-left: 1px solid gray;box-sizing: border-box;top: 0;bottom: 0;left: 50%;z-index: 0;}#sk-container-id-1 div.sk-serial {display: flex;flex-direction: column;align-items: center;background-color: white;padding-right: 0.2em;padding-left: 0.2em;position: relative;}#sk-container-id-1 div.sk-item {position: relative;z-index: 1;}#sk-container-id-1 div.sk-parallel {display: flex;align-items: stretch;justify-content: center;background-color: white;position: relative;}#sk-container-id-1 div.sk-item::before, #sk-container-id-1 div.sk-parallel-item::before {content: \"\";position: absolute;border-left: 1px solid gray;box-sizing: border-box;top: 0;bottom: 0;left: 50%;z-index: -1;}#sk-container-id-1 div.sk-parallel-item {display: flex;flex-direction: column;z-index: 1;position: relative;background-color: white;}#sk-container-id-1 div.sk-parallel-item:first-child::after {align-self: flex-end;width: 50%;}#sk-container-id-1 div.sk-parallel-item:last-child::after {align-self: flex-start;width: 50%;}#sk-container-id-1 div.sk-parallel-item:only-child::after {width: 0;}#sk-container-id-1 div.sk-dashed-wrapped {border: 1px dashed gray;margin: 0 0.4em 0.5em 0.4em;box-sizing: border-box;padding-bottom: 0.4em;background-color: white;}#sk-container-id-1 div.sk-label label {font-family: monospace;font-weight: bold;display: inline-block;line-height: 1.2em;}#sk-container-id-1 div.sk-label-container {text-align: center;}#sk-container-id-1 div.sk-container {/* jupyter's `normalize.less` sets `[hidden] { display: none; }` but bootstrap.min.css set `[hidden] { display: none !important; }` so we also need the `!important` here to be able to override the default hidden behavior on the sphinx rendered scikit-learn.org. See: https://github.com/scikit-learn/scikit-learn/issues/21755 */display: inline-block !important;position: relative;}#sk-container-id-1 div.sk-text-repr-fallback {display: none;}</style><div id=\"sk-container-id-1\" class=\"sk-top-container\"><div class=\"sk-text-repr-fallback\"><pre>SVC(kernel=&#x27;linear&#x27;)</pre><b>In a Jupyter environment, please rerun this cell to show the HTML representation or trust the notebook. <br />On GitHub, the HTML representation is unable to render, please try loading this page with nbviewer.org.</b></div><div class=\"sk-container\" hidden><div class=\"sk-item\"><div class=\"sk-estimator sk-toggleable\"><input class=\"sk-toggleable__control sk-hidden--visually\" id=\"sk-estimator-id-1\" type=\"checkbox\" checked><label for=\"sk-estimator-id-1\" class=\"sk-toggleable__label sk-toggleable__label-arrow\">SVC</label><div class=\"sk-toggleable__content\"><pre>SVC(kernel=&#x27;linear&#x27;)</pre></div></div></div></div></div>"
      ],
      "text/plain": [
       "SVC(kernel='linear')"
      ]
     },
     "execution_count": 5,
     "metadata": {},
     "output_type": "execute_result"
    }
   ],
   "source": [
    "# Initialize and train the SVM classifier\n",
    "svm_classifier = SVC(kernel='linear')\n",
    "svm_classifier.fit(X_train, y_train)"
   ]
  },
  {
   "cell_type": "code",
   "execution_count": 6,
   "id": "fbc96142",
   "metadata": {},
   "outputs": [],
   "source": [
    "# Predict on the test set\n",
    "y_pred = svm_classifier.predict(X_test)"
   ]
  },
  {
   "cell_type": "code",
   "execution_count": 7,
   "id": "6cebaf42",
   "metadata": {},
   "outputs": [
    {
     "name": "stdout",
     "output_type": "stream",
     "text": [
      "SVM Accuracy: 0.956140350877193\n"
     ]
    }
   ],
   "source": [
    "# Evaluate the model\n",
    "accuracy = accuracy_score(y_test, y_pred)\n",
    "print(\"SVM Accuracy:\", accuracy)"
   ]
  },
  {
   "cell_type": "code",
   "execution_count": 8,
   "id": "2361415d",
   "metadata": {
    "scrolled": true
   },
   "outputs": [],
   "source": [
    "from sklearn.model_selection import cross_val_score, GridSearchCV\n",
    "\n",
    "# Initialize SVM classifier\n",
    "svm_classifier_cv = SVC()"
   ]
  },
  {
   "cell_type": "markdown",
   "id": "d8f844e3",
   "metadata": {},
   "source": [
    "<div style=\"background-color: #f9f9f9; border: 1px solid #ccc; padding: 15px; border-radius: 10px; font-family: Arial;\">\n",
    "\n",
    "<h2 style=\"color: #555; text-align: center;\">Cross-Validation: Enhancing Model Reliability</h2>\n",
    "\n",
    "<p>Cross-validation is a crucial technique in machine learning for assessing the performance and generalizability of a predictive model. It involves partitioning the dataset into multiple subsets, known as folds. The model is trained on several combinations of these folds and evaluated on the remaining portions. This process is repeated to ensure every subset serves as both training and validation data.</p>\n",
    "\n",
    "<h3 style=\"color: #777;\">Importance of Cross-Validation:</h3>\n",
    "\n",
    "<ol>\n",
    "    <li><strong>Robustness to Overfitting:</strong> Cross-validation helps identify if a model is overfitting to the training data. If a model performs exceptionally well on the training data but poorly on the validation data, it's a sign of overfitting.</li>\n",
    "    <li><strong>Optimizing Hyperparameters:</strong> It aids in the selection of hyperparameters. By comparing performance across different folds, one can fine-tune hyperparameters for optimal model performance.</li>\n",
    "    <li><strong>Improved Model Evaluation:</strong> It provides a more reliable estimate of a model's performance compared to a single train-test split. This is crucial for ensuring the model's performance on new, unseen data.</li>\n",
    "    <li><strong>Utilization of Data:</strong> Cross-validation allows for better use of available data. It ensures that each data point is used for training and validation at least once, which is especially important when data is limited.</li>\n",
    "    <li><strong>Reduced Variance in Results:</strong> By performing multiple iterations of cross-validation, we can reduce the variance in evaluation metrics, leading to more stable and consistent results.</li>\n",
    "</ol>\n",
    "\n",
    "<p style=\"font-style: italic; text-align: center; color: #777;\">In summary, cross-validation enhances the reliability of machine learning models by providing a robust assessment of their performance. It helps in avoiding overfitting, fine-tuning models, and obtaining more accurate estimates of their real-world performance.</p>\n",
    "\n",
    "</div>\n"
   ]
  },
  {
   "cell_type": "markdown",
   "id": "6c15b7f9",
   "metadata": {},
   "source": [
    "<img src = \"https://scikit-learn.org/stable/_images/grid_search_cross_validation.png\" >"
   ]
  },
  {
   "cell_type": "code",
   "execution_count": 9,
   "id": "ae5ca7ba",
   "metadata": {},
   "outputs": [
    {
     "name": "stdout",
     "output_type": "stream",
     "text": [
      "Cross Validation Scores: [0.85087719 0.89473684 0.92982456 0.94736842 0.9380531 ]\n",
      "Mean CV Score: 0.9121720229777983\n"
     ]
    }
   ],
   "source": [
    "# Cross Validation\n",
    "cv_scores = cross_val_score(svm_classifier_cv, X, y, cv=5)\n",
    "print(\"Cross Validation Scores:\", cv_scores)\n",
    "print(\"Mean CV Score:\", cv_scores.mean())"
   ]
  },
  {
   "cell_type": "markdown",
   "id": "7aa5a219",
   "metadata": {},
   "source": [
    "<img src = \"https://i.stack.imgur.com/JcaO2.png\" >"
   ]
  },
  {
   "cell_type": "markdown",
   "id": "e1f2d545",
   "metadata": {},
   "source": [
    "<div style=\"background-color: #f9f9f9; border: 1px solid #ccc; padding: 15px; border-radius: 10px; font-family: Arial;\">\n",
    "\n",
    "<h2 style=\"color: #555; text-align: center;\">Grid Search: Fine-Tuning Model Hyperparameters</h2>\n",
    "\n",
    "<p>Grid search is a powerful technique used in machine learning for systematically searching through a specified hyperparameter space to find the optimal combination that yields the best model performance.</p>\n",
    "\n",
    "<h3 style=\"color: #777;\">How Grid Search Works:</h3>\n",
    "\n",
    "<p>Grid search operates by defining a grid of hyperparameters to explore. For each combination of hyperparameters, the model is trained and evaluated using cross-validation. The performance metrics (e.g., accuracy, F1 score) are recorded for each combination. Finally, the hyperparameter values resulting in the highest performance are selected.</p>\n",
    "\n",
    "<h3 style=\"color: #777;\">Importance of Grid Search:</h3>\n",
    "\n",
    "<ol>\n",
    "    <li><strong>Hyperparameter Optimization:</strong> Grid search automates the process of hyperparameter tuning, saving time and effort in manually testing different combinations.</li>\n",
    "    <li><strong>Improved Model Performance:</strong> By systematically exploring a range of hyperparameters, grid search helps find the configuration that leads to the highest model performance.</li>\n",
    "    <li><strong>Prevention of Overfitting:</strong> Grid search aids in selecting hyperparameters that generalize well to new, unseen data, reducing the risk of overfitting.</li>\n",
    "    <li><strong>Enhanced Model Robustness:</strong> A well-tuned model with optimized hyperparameters is more likely to perform consistently across different datasets and scenarios.</li>\n",
    "</ol>\n",
    "\n",
    "<p style=\"font-style: italic; text-align: center; color: #777;\">In summary, grid search is an essential tool for fine-tuning model hyperparameters, leading to improved performance, robustness, and generalizability of machine learning models.</p>\n",
    "\n",
    "</div>\n"
   ]
  },
  {
   "cell_type": "code",
   "execution_count": 10,
   "id": "6698552e",
   "metadata": {
    "scrolled": true
   },
   "outputs": [
    {
     "name": "stdout",
     "output_type": "stream",
     "text": [
      "Fitting 5 folds for each of 32 candidates, totalling 160 fits\n",
      "[CV 1/5] END .....C=0.1, gamma=1, kernel=linear;, score=0.939 total time=   0.0s\n",
      "[CV 2/5] END .....C=0.1, gamma=1, kernel=linear;, score=0.947 total time=   0.0s\n",
      "[CV 3/5] END .....C=0.1, gamma=1, kernel=linear;, score=0.982 total time=   0.3s\n",
      "[CV 4/5] END .....C=0.1, gamma=1, kernel=linear;, score=0.921 total time=   0.0s\n",
      "[CV 5/5] END .....C=0.1, gamma=1, kernel=linear;, score=0.956 total time=   0.0s\n",
      "[CV 1/5] END ........C=0.1, gamma=1, kernel=rbf;, score=0.623 total time=   0.0s\n",
      "[CV 2/5] END ........C=0.1, gamma=1, kernel=rbf;, score=0.623 total time=   0.0s\n",
      "[CV 3/5] END ........C=0.1, gamma=1, kernel=rbf;, score=0.632 total time=   0.0s\n",
      "[CV 4/5] END ........C=0.1, gamma=1, kernel=rbf;, score=0.632 total time=   0.0s\n",
      "[CV 5/5] END ........C=0.1, gamma=1, kernel=rbf;, score=0.628 total time=   0.0s\n",
      "[CV 1/5] END ...C=0.1, gamma=0.1, kernel=linear;, score=0.939 total time=   0.0s\n",
      "[CV 2/5] END ...C=0.1, gamma=0.1, kernel=linear;, score=0.947 total time=   0.0s\n",
      "[CV 3/5] END ...C=0.1, gamma=0.1, kernel=linear;, score=0.982 total time=   0.4s\n",
      "[CV 4/5] END ...C=0.1, gamma=0.1, kernel=linear;, score=0.921 total time=   0.0s\n",
      "[CV 5/5] END ...C=0.1, gamma=0.1, kernel=linear;, score=0.956 total time=   0.0s\n",
      "[CV 1/5] END ......C=0.1, gamma=0.1, kernel=rbf;, score=0.623 total time=   0.0s\n",
      "[CV 2/5] END ......C=0.1, gamma=0.1, kernel=rbf;, score=0.623 total time=   0.0s\n",
      "[CV 3/5] END ......C=0.1, gamma=0.1, kernel=rbf;, score=0.632 total time=   0.0s\n",
      "[CV 4/5] END ......C=0.1, gamma=0.1, kernel=rbf;, score=0.632 total time=   0.0s\n",
      "[CV 5/5] END ......C=0.1, gamma=0.1, kernel=rbf;, score=0.628 total time=   0.0s\n",
      "[CV 1/5] END ..C=0.1, gamma=0.01, kernel=linear;, score=0.939 total time=   0.0s\n",
      "[CV 2/5] END ..C=0.1, gamma=0.01, kernel=linear;, score=0.947 total time=   0.0s\n",
      "[CV 3/5] END ..C=0.1, gamma=0.01, kernel=linear;, score=0.982 total time=   0.3s\n",
      "[CV 4/5] END ..C=0.1, gamma=0.01, kernel=linear;, score=0.921 total time=   0.0s\n",
      "[CV 5/5] END ..C=0.1, gamma=0.01, kernel=linear;, score=0.956 total time=   0.0s\n",
      "[CV 1/5] END .....C=0.1, gamma=0.01, kernel=rbf;, score=0.623 total time=   0.0s\n",
      "[CV 2/5] END .....C=0.1, gamma=0.01, kernel=rbf;, score=0.623 total time=   0.0s\n",
      "[CV 3/5] END .....C=0.1, gamma=0.01, kernel=rbf;, score=0.632 total time=   0.0s\n",
      "[CV 4/5] END .....C=0.1, gamma=0.01, kernel=rbf;, score=0.632 total time=   0.0s\n",
      "[CV 5/5] END .....C=0.1, gamma=0.01, kernel=rbf;, score=0.628 total time=   0.0s\n",
      "[CV 1/5] END .C=0.1, gamma=0.001, kernel=linear;, score=0.939 total time=   0.0s\n",
      "[CV 2/5] END .C=0.1, gamma=0.001, kernel=linear;, score=0.947 total time=   0.0s\n",
      "[CV 3/5] END .C=0.1, gamma=0.001, kernel=linear;, score=0.982 total time=   0.3s\n",
      "[CV 4/5] END .C=0.1, gamma=0.001, kernel=linear;, score=0.921 total time=   0.0s\n",
      "[CV 5/5] END .C=0.1, gamma=0.001, kernel=linear;, score=0.956 total time=   0.0s\n",
      "[CV 1/5] END ....C=0.1, gamma=0.001, kernel=rbf;, score=0.623 total time=   0.0s\n",
      "[CV 2/5] END ....C=0.1, gamma=0.001, kernel=rbf;, score=0.623 total time=   0.0s\n",
      "[CV 3/5] END ....C=0.1, gamma=0.001, kernel=rbf;, score=0.632 total time=   0.0s\n",
      "[CV 4/5] END ....C=0.1, gamma=0.001, kernel=rbf;, score=0.632 total time=   0.0s\n",
      "[CV 5/5] END ....C=0.1, gamma=0.001, kernel=rbf;, score=0.628 total time=   0.0s\n",
      "[CV 1/5] END .......C=1, gamma=1, kernel=linear;, score=0.947 total time=   0.9s\n",
      "[CV 2/5] END .......C=1, gamma=1, kernel=linear;, score=0.930 total time=   2.1s\n",
      "[CV 3/5] END .......C=1, gamma=1, kernel=linear;, score=0.974 total time=   1.4s\n",
      "[CV 4/5] END .......C=1, gamma=1, kernel=linear;, score=0.921 total time=   0.8s\n",
      "[CV 5/5] END .......C=1, gamma=1, kernel=linear;, score=0.956 total time=   1.3s\n",
      "[CV 1/5] END ..........C=1, gamma=1, kernel=rbf;, score=0.623 total time=   0.0s\n",
      "[CV 2/5] END ..........C=1, gamma=1, kernel=rbf;, score=0.623 total time=   0.0s\n",
      "[CV 3/5] END ..........C=1, gamma=1, kernel=rbf;, score=0.632 total time=   0.0s\n",
      "[CV 4/5] END ..........C=1, gamma=1, kernel=rbf;, score=0.632 total time=   0.0s\n",
      "[CV 5/5] END ..........C=1, gamma=1, kernel=rbf;, score=0.628 total time=   0.0s\n",
      "[CV 1/5] END .....C=1, gamma=0.1, kernel=linear;, score=0.947 total time=   0.8s\n",
      "[CV 2/5] END .....C=1, gamma=0.1, kernel=linear;, score=0.930 total time=   2.1s\n",
      "[CV 3/5] END .....C=1, gamma=0.1, kernel=linear;, score=0.974 total time=   1.3s\n",
      "[CV 4/5] END .....C=1, gamma=0.1, kernel=linear;, score=0.921 total time=   0.6s\n",
      "[CV 5/5] END .....C=1, gamma=0.1, kernel=linear;, score=0.956 total time=   1.2s\n",
      "[CV 1/5] END ........C=1, gamma=0.1, kernel=rbf;, score=0.623 total time=   0.0s\n",
      "[CV 2/5] END ........C=1, gamma=0.1, kernel=rbf;, score=0.623 total time=   0.0s\n",
      "[CV 3/5] END ........C=1, gamma=0.1, kernel=rbf;, score=0.632 total time=   0.0s\n",
      "[CV 4/5] END ........C=1, gamma=0.1, kernel=rbf;, score=0.632 total time=   0.0s\n",
      "[CV 5/5] END ........C=1, gamma=0.1, kernel=rbf;, score=0.628 total time=   0.0s\n",
      "[CV 1/5] END ....C=1, gamma=0.01, kernel=linear;, score=0.947 total time=   0.9s\n",
      "[CV 2/5] END ....C=1, gamma=0.01, kernel=linear;, score=0.930 total time=   2.0s\n",
      "[CV 3/5] END ....C=1, gamma=0.01, kernel=linear;, score=0.974 total time=   1.3s\n",
      "[CV 4/5] END ....C=1, gamma=0.01, kernel=linear;, score=0.921 total time=   0.6s\n",
      "[CV 5/5] END ....C=1, gamma=0.01, kernel=linear;, score=0.956 total time=   1.4s\n",
      "[CV 1/5] END .......C=1, gamma=0.01, kernel=rbf;, score=0.623 total time=   0.0s\n",
      "[CV 2/5] END .......C=1, gamma=0.01, kernel=rbf;, score=0.623 total time=   0.0s\n",
      "[CV 3/5] END .......C=1, gamma=0.01, kernel=rbf;, score=0.632 total time=   0.0s\n",
      "[CV 4/5] END .......C=1, gamma=0.01, kernel=rbf;, score=0.632 total time=   0.0s\n",
      "[CV 5/5] END .......C=1, gamma=0.01, kernel=rbf;, score=0.619 total time=   0.0s\n",
      "[CV 1/5] END ...C=1, gamma=0.001, kernel=linear;, score=0.947 total time=   1.1s\n",
      "[CV 2/5] END ...C=1, gamma=0.001, kernel=linear;, score=0.930 total time=   2.2s\n",
      "[CV 3/5] END ...C=1, gamma=0.001, kernel=linear;, score=0.974 total time=   1.3s\n",
      "[CV 4/5] END ...C=1, gamma=0.001, kernel=linear;, score=0.921 total time=   0.6s\n",
      "[CV 5/5] END ...C=1, gamma=0.001, kernel=linear;, score=0.956 total time=   1.1s\n",
      "[CV 1/5] END ......C=1, gamma=0.001, kernel=rbf;, score=0.930 total time=   0.0s\n",
      "[CV 2/5] END ......C=1, gamma=0.001, kernel=rbf;, score=0.921 total time=   0.0s\n",
      "[CV 3/5] END ......C=1, gamma=0.001, kernel=rbf;, score=0.921 total time=   0.0s\n",
      "[CV 4/5] END ......C=1, gamma=0.001, kernel=rbf;, score=0.947 total time=   0.0s\n",
      "[CV 5/5] END ......C=1, gamma=0.001, kernel=rbf;, score=0.894 total time=   0.0s\n",
      "[CV 1/5] END ......C=10, gamma=1, kernel=linear;, score=0.939 total time=   3.8s\n",
      "[CV 2/5] END ......C=10, gamma=1, kernel=linear;, score=0.939 total time=   4.6s\n",
      "[CV 3/5] END ......C=10, gamma=1, kernel=linear;, score=0.974 total time=   4.7s\n",
      "[CV 4/5] END ......C=10, gamma=1, kernel=linear;, score=0.947 total time=   3.3s\n",
      "[CV 5/5] END ......C=10, gamma=1, kernel=linear;, score=0.965 total time=   2.6s\n",
      "[CV 1/5] END .........C=10, gamma=1, kernel=rbf;, score=0.623 total time=   0.0s\n",
      "[CV 2/5] END .........C=10, gamma=1, kernel=rbf;, score=0.623 total time=   0.0s\n",
      "[CV 3/5] END .........C=10, gamma=1, kernel=rbf;, score=0.632 total time=   0.0s\n",
      "[CV 4/5] END .........C=10, gamma=1, kernel=rbf;, score=0.632 total time=   0.0s\n",
      "[CV 5/5] END .........C=10, gamma=1, kernel=rbf;, score=0.628 total time=   0.0s\n",
      "[CV 1/5] END ....C=10, gamma=0.1, kernel=linear;, score=0.939 total time=   4.1s\n",
      "[CV 2/5] END ....C=10, gamma=0.1, kernel=linear;, score=0.939 total time=   5.7s\n",
      "[CV 3/5] END ....C=10, gamma=0.1, kernel=linear;, score=0.974 total time=   5.5s\n",
      "[CV 4/5] END ....C=10, gamma=0.1, kernel=linear;, score=0.947 total time=   3.7s\n",
      "[CV 5/5] END ....C=10, gamma=0.1, kernel=linear;, score=0.965 total time=   3.2s\n",
      "[CV 1/5] END .......C=10, gamma=0.1, kernel=rbf;, score=0.623 total time=   0.0s\n",
      "[CV 2/5] END .......C=10, gamma=0.1, kernel=rbf;, score=0.623 total time=   0.0s\n",
      "[CV 3/5] END .......C=10, gamma=0.1, kernel=rbf;, score=0.632 total time=   0.0s\n",
      "[CV 4/5] END .......C=10, gamma=0.1, kernel=rbf;, score=0.632 total time=   0.0s\n",
      "[CV 5/5] END .......C=10, gamma=0.1, kernel=rbf;, score=0.628 total time=   0.0s\n",
      "[CV 1/5] END ...C=10, gamma=0.01, kernel=linear;, score=0.939 total time=   3.8s\n",
      "[CV 2/5] END ...C=10, gamma=0.01, kernel=linear;, score=0.939 total time=   4.8s\n",
      "[CV 3/5] END ...C=10, gamma=0.01, kernel=linear;, score=0.974 total time=   4.6s\n",
      "[CV 4/5] END ...C=10, gamma=0.01, kernel=linear;, score=0.947 total time=   3.8s\n",
      "[CV 5/5] END ...C=10, gamma=0.01, kernel=linear;, score=0.965 total time=   2.7s\n",
      "[CV 1/5] END ......C=10, gamma=0.01, kernel=rbf;, score=0.623 total time=   0.0s\n",
      "[CV 2/5] END ......C=10, gamma=0.01, kernel=rbf;, score=0.623 total time=   0.0s\n",
      "[CV 3/5] END ......C=10, gamma=0.01, kernel=rbf;, score=0.632 total time=   0.0s\n",
      "[CV 4/5] END ......C=10, gamma=0.01, kernel=rbf;, score=0.640 total time=   0.0s\n",
      "[CV 5/5] END ......C=10, gamma=0.01, kernel=rbf;, score=0.619 total time=   0.0s\n",
      "[CV 1/5] END ..C=10, gamma=0.001, kernel=linear;, score=0.939 total time=   3.9s\n",
      "[CV 2/5] END ..C=10, gamma=0.001, kernel=linear;, score=0.939 total time=   4.7s\n",
      "[CV 3/5] END ..C=10, gamma=0.001, kernel=linear;, score=0.974 total time=   5.2s\n",
      "[CV 4/5] END ..C=10, gamma=0.001, kernel=linear;, score=0.947 total time=   3.9s\n",
      "[CV 5/5] END ..C=10, gamma=0.001, kernel=linear;, score=0.965 total time=   2.9s\n",
      "[CV 1/5] END .....C=10, gamma=0.001, kernel=rbf;, score=0.895 total time=   0.0s\n",
      "[CV 2/5] END .....C=10, gamma=0.001, kernel=rbf;, score=0.904 total time=   0.0s\n",
      "[CV 3/5] END .....C=10, gamma=0.001, kernel=rbf;, score=0.921 total time=   0.0s\n",
      "[CV 4/5] END .....C=10, gamma=0.001, kernel=rbf;, score=0.939 total time=   0.0s\n",
      "[CV 5/5] END .....C=10, gamma=0.001, kernel=rbf;, score=0.885 total time=   0.0s\n",
      "[CV 1/5] END .....C=100, gamma=1, kernel=linear;, score=0.939 total time=   9.0s\n",
      "[CV 2/5] END .....C=100, gamma=1, kernel=linear;, score=0.947 total time=   9.4s\n",
      "[CV 3/5] END .....C=100, gamma=1, kernel=linear;, score=0.974 total time=   7.3s\n",
      "[CV 4/5] END .....C=100, gamma=1, kernel=linear;, score=0.974 total time=  14.3s\n",
      "[CV 5/5] END .....C=100, gamma=1, kernel=linear;, score=0.982 total time=   6.9s\n",
      "[CV 1/5] END ........C=100, gamma=1, kernel=rbf;, score=0.623 total time=   0.0s\n",
      "[CV 2/5] END ........C=100, gamma=1, kernel=rbf;, score=0.623 total time=   0.0s\n",
      "[CV 3/5] END ........C=100, gamma=1, kernel=rbf;, score=0.632 total time=   0.0s\n",
      "[CV 4/5] END ........C=100, gamma=1, kernel=rbf;, score=0.632 total time=   0.0s\n",
      "[CV 5/5] END ........C=100, gamma=1, kernel=rbf;, score=0.628 total time=   0.0s\n",
      "[CV 1/5] END ...C=100, gamma=0.1, kernel=linear;, score=0.939 total time=   8.5s\n",
      "[CV 2/5] END ...C=100, gamma=0.1, kernel=linear;, score=0.947 total time=   9.1s\n",
      "[CV 3/5] END ...C=100, gamma=0.1, kernel=linear;, score=0.974 total time=   7.3s\n",
      "[CV 4/5] END ...C=100, gamma=0.1, kernel=linear;, score=0.974 total time=  14.7s\n",
      "[CV 5/5] END ...C=100, gamma=0.1, kernel=linear;, score=0.982 total time=   6.9s\n",
      "[CV 1/5] END ......C=100, gamma=0.1, kernel=rbf;, score=0.623 total time=   0.0s\n",
      "[CV 2/5] END ......C=100, gamma=0.1, kernel=rbf;, score=0.623 total time=   0.0s\n",
      "[CV 3/5] END ......C=100, gamma=0.1, kernel=rbf;, score=0.632 total time=   0.0s\n",
      "[CV 4/5] END ......C=100, gamma=0.1, kernel=rbf;, score=0.632 total time=   0.0s\n",
      "[CV 5/5] END ......C=100, gamma=0.1, kernel=rbf;, score=0.628 total time=   0.0s\n",
      "[CV 1/5] END ..C=100, gamma=0.01, kernel=linear;, score=0.939 total time=   8.5s\n",
      "[CV 2/5] END ..C=100, gamma=0.01, kernel=linear;, score=0.947 total time=   9.2s\n",
      "[CV 3/5] END ..C=100, gamma=0.01, kernel=linear;, score=0.974 total time=   7.3s\n",
      "[CV 4/5] END ..C=100, gamma=0.01, kernel=linear;, score=0.974 total time=  14.2s\n",
      "[CV 5/5] END ..C=100, gamma=0.01, kernel=linear;, score=0.982 total time=   7.1s\n",
      "[CV 1/5] END .....C=100, gamma=0.01, kernel=rbf;, score=0.623 total time=   0.0s\n",
      "[CV 2/5] END .....C=100, gamma=0.01, kernel=rbf;, score=0.623 total time=   0.0s\n",
      "[CV 3/5] END .....C=100, gamma=0.01, kernel=rbf;, score=0.632 total time=   0.0s\n",
      "[CV 4/5] END .....C=100, gamma=0.01, kernel=rbf;, score=0.640 total time=   0.0s\n",
      "[CV 5/5] END .....C=100, gamma=0.01, kernel=rbf;, score=0.619 total time=   0.0s\n",
      "[CV 1/5] END .C=100, gamma=0.001, kernel=linear;, score=0.939 total time=   8.6s\n",
      "[CV 2/5] END .C=100, gamma=0.001, kernel=linear;, score=0.947 total time=   9.0s\n",
      "[CV 3/5] END .C=100, gamma=0.001, kernel=linear;, score=0.974 total time=   7.5s\n",
      "[CV 4/5] END .C=100, gamma=0.001, kernel=linear;, score=0.974 total time=  15.3s\n",
      "[CV 5/5] END .C=100, gamma=0.001, kernel=linear;, score=0.982 total time=   7.0s\n",
      "[CV 1/5] END ....C=100, gamma=0.001, kernel=rbf;, score=0.895 total time=   0.0s\n",
      "[CV 2/5] END ....C=100, gamma=0.001, kernel=rbf;, score=0.904 total time=   0.0s\n",
      "[CV 3/5] END ....C=100, gamma=0.001, kernel=rbf;, score=0.921 total time=   0.0s\n",
      "[CV 4/5] END ....C=100, gamma=0.001, kernel=rbf;, score=0.939 total time=   0.0s\n",
      "[CV 5/5] END ....C=100, gamma=0.001, kernel=rbf;, score=0.885 total time=   0.0s\n"
     ]
    },
    {
     "data": {
      "text/html": [
       "<style>#sk-container-id-2 {color: black;background-color: white;}#sk-container-id-2 pre{padding: 0;}#sk-container-id-2 div.sk-toggleable {background-color: white;}#sk-container-id-2 label.sk-toggleable__label {cursor: pointer;display: block;width: 100%;margin-bottom: 0;padding: 0.3em;box-sizing: border-box;text-align: center;}#sk-container-id-2 label.sk-toggleable__label-arrow:before {content: \"▸\";float: left;margin-right: 0.25em;color: #696969;}#sk-container-id-2 label.sk-toggleable__label-arrow:hover:before {color: black;}#sk-container-id-2 div.sk-estimator:hover label.sk-toggleable__label-arrow:before {color: black;}#sk-container-id-2 div.sk-toggleable__content {max-height: 0;max-width: 0;overflow: hidden;text-align: left;background-color: #f0f8ff;}#sk-container-id-2 div.sk-toggleable__content pre {margin: 0.2em;color: black;border-radius: 0.25em;background-color: #f0f8ff;}#sk-container-id-2 input.sk-toggleable__control:checked~div.sk-toggleable__content {max-height: 200px;max-width: 100%;overflow: auto;}#sk-container-id-2 input.sk-toggleable__control:checked~label.sk-toggleable__label-arrow:before {content: \"▾\";}#sk-container-id-2 div.sk-estimator input.sk-toggleable__control:checked~label.sk-toggleable__label {background-color: #d4ebff;}#sk-container-id-2 div.sk-label input.sk-toggleable__control:checked~label.sk-toggleable__label {background-color: #d4ebff;}#sk-container-id-2 input.sk-hidden--visually {border: 0;clip: rect(1px 1px 1px 1px);clip: rect(1px, 1px, 1px, 1px);height: 1px;margin: -1px;overflow: hidden;padding: 0;position: absolute;width: 1px;}#sk-container-id-2 div.sk-estimator {font-family: monospace;background-color: #f0f8ff;border: 1px dotted black;border-radius: 0.25em;box-sizing: border-box;margin-bottom: 0.5em;}#sk-container-id-2 div.sk-estimator:hover {background-color: #d4ebff;}#sk-container-id-2 div.sk-parallel-item::after {content: \"\";width: 100%;border-bottom: 1px solid gray;flex-grow: 1;}#sk-container-id-2 div.sk-label:hover label.sk-toggleable__label {background-color: #d4ebff;}#sk-container-id-2 div.sk-serial::before {content: \"\";position: absolute;border-left: 1px solid gray;box-sizing: border-box;top: 0;bottom: 0;left: 50%;z-index: 0;}#sk-container-id-2 div.sk-serial {display: flex;flex-direction: column;align-items: center;background-color: white;padding-right: 0.2em;padding-left: 0.2em;position: relative;}#sk-container-id-2 div.sk-item {position: relative;z-index: 1;}#sk-container-id-2 div.sk-parallel {display: flex;align-items: stretch;justify-content: center;background-color: white;position: relative;}#sk-container-id-2 div.sk-item::before, #sk-container-id-2 div.sk-parallel-item::before {content: \"\";position: absolute;border-left: 1px solid gray;box-sizing: border-box;top: 0;bottom: 0;left: 50%;z-index: -1;}#sk-container-id-2 div.sk-parallel-item {display: flex;flex-direction: column;z-index: 1;position: relative;background-color: white;}#sk-container-id-2 div.sk-parallel-item:first-child::after {align-self: flex-end;width: 50%;}#sk-container-id-2 div.sk-parallel-item:last-child::after {align-self: flex-start;width: 50%;}#sk-container-id-2 div.sk-parallel-item:only-child::after {width: 0;}#sk-container-id-2 div.sk-dashed-wrapped {border: 1px dashed gray;margin: 0 0.4em 0.5em 0.4em;box-sizing: border-box;padding-bottom: 0.4em;background-color: white;}#sk-container-id-2 div.sk-label label {font-family: monospace;font-weight: bold;display: inline-block;line-height: 1.2em;}#sk-container-id-2 div.sk-label-container {text-align: center;}#sk-container-id-2 div.sk-container {/* jupyter's `normalize.less` sets `[hidden] { display: none; }` but bootstrap.min.css set `[hidden] { display: none !important; }` so we also need the `!important` here to be able to override the default hidden behavior on the sphinx rendered scikit-learn.org. See: https://github.com/scikit-learn/scikit-learn/issues/21755 */display: inline-block !important;position: relative;}#sk-container-id-2 div.sk-text-repr-fallback {display: none;}</style><div id=\"sk-container-id-2\" class=\"sk-top-container\"><div class=\"sk-text-repr-fallback\"><pre>GridSearchCV(estimator=SVC(),\n",
       "             param_grid={&#x27;C&#x27;: [0.1, 1, 10, 100], &#x27;gamma&#x27;: [1, 0.1, 0.01, 0.001],\n",
       "                         &#x27;kernel&#x27;: [&#x27;linear&#x27;, &#x27;rbf&#x27;]},\n",
       "             verbose=3)</pre><b>In a Jupyter environment, please rerun this cell to show the HTML representation or trust the notebook. <br />On GitHub, the HTML representation is unable to render, please try loading this page with nbviewer.org.</b></div><div class=\"sk-container\" hidden><div class=\"sk-item sk-dashed-wrapped\"><div class=\"sk-label-container\"><div class=\"sk-label sk-toggleable\"><input class=\"sk-toggleable__control sk-hidden--visually\" id=\"sk-estimator-id-2\" type=\"checkbox\" ><label for=\"sk-estimator-id-2\" class=\"sk-toggleable__label sk-toggleable__label-arrow\">GridSearchCV</label><div class=\"sk-toggleable__content\"><pre>GridSearchCV(estimator=SVC(),\n",
       "             param_grid={&#x27;C&#x27;: [0.1, 1, 10, 100], &#x27;gamma&#x27;: [1, 0.1, 0.01, 0.001],\n",
       "                         &#x27;kernel&#x27;: [&#x27;linear&#x27;, &#x27;rbf&#x27;]},\n",
       "             verbose=3)</pre></div></div></div><div class=\"sk-parallel\"><div class=\"sk-parallel-item\"><div class=\"sk-item\"><div class=\"sk-label-container\"><div class=\"sk-label sk-toggleable\"><input class=\"sk-toggleable__control sk-hidden--visually\" id=\"sk-estimator-id-3\" type=\"checkbox\" ><label for=\"sk-estimator-id-3\" class=\"sk-toggleable__label sk-toggleable__label-arrow\">estimator: SVC</label><div class=\"sk-toggleable__content\"><pre>SVC()</pre></div></div></div><div class=\"sk-serial\"><div class=\"sk-item\"><div class=\"sk-estimator sk-toggleable\"><input class=\"sk-toggleable__control sk-hidden--visually\" id=\"sk-estimator-id-4\" type=\"checkbox\" ><label for=\"sk-estimator-id-4\" class=\"sk-toggleable__label sk-toggleable__label-arrow\">SVC</label><div class=\"sk-toggleable__content\"><pre>SVC()</pre></div></div></div></div></div></div></div></div></div></div>"
      ],
      "text/plain": [
       "GridSearchCV(estimator=SVC(),\n",
       "             param_grid={'C': [0.1, 1, 10, 100], 'gamma': [1, 0.1, 0.01, 0.001],\n",
       "                         'kernel': ['linear', 'rbf']},\n",
       "             verbose=3)"
      ]
     },
     "execution_count": 10,
     "metadata": {},
     "output_type": "execute_result"
    }
   ],
   "source": [
    "# Perform Grid Search\n",
    "param_grid = {'C': [0.1, 1, 10, 100],\n",
    "              'gamma': [1, 0.1, 0.01, 0.001],\n",
    "              'kernel': ['linear', 'rbf']}\n",
    "grid_search = GridSearchCV(svm_classifier_cv, param_grid, refit=True, verbose=3)\n",
    "grid_search.fit(X, y)"
   ]
  },
  {
   "cell_type": "code",
   "execution_count": 11,
   "id": "69679fc4",
   "metadata": {},
   "outputs": [
    {
     "name": "stdout",
     "output_type": "stream",
     "text": [
      "Best Parameters: {'C': 100, 'gamma': 1, 'kernel': 'linear'}\n"
     ]
    }
   ],
   "source": [
    "# Best parameters from Grid Search\n",
    "print(\"Best Parameters:\", grid_search.best_params_)"
   ]
  },
  {
   "cell_type": "code",
   "execution_count": 12,
   "id": "1345399c",
   "metadata": {},
   "outputs": [
    {
     "name": "stdout",
     "output_type": "stream",
     "text": [
      "Best Accuracy: 0.9631268436578171\n"
     ]
    }
   ],
   "source": [
    "# Best accuracy from Grid Search\n",
    "best_accuracy = grid_search.best_score_\n",
    "print(\"Best Accuracy:\", best_accuracy)"
   ]
  },
  {
   "cell_type": "code",
   "execution_count": 13,
   "id": "66c8aade",
   "metadata": {
    "scrolled": true
   },
   "outputs": [],
   "source": [
    "from sklearn.preprocessing import StandardScaler\n",
    "\n",
    "# Initialize the StandardScaler\n",
    "scaler = StandardScaler()"
   ]
  },
  {
   "cell_type": "code",
   "execution_count": 14,
   "id": "83901a16",
   "metadata": {},
   "outputs": [],
   "source": [
    "# Scale the features\n",
    "X_scaled = scaler.fit_transform(X)"
   ]
  },
  {
   "cell_type": "code",
   "execution_count": 15,
   "id": "ec647d68",
   "metadata": {},
   "outputs": [
    {
     "name": "stdout",
     "output_type": "stream",
     "text": [
      "Fitting 5 folds for each of 32 candidates, totalling 160 fits\n",
      "[CV 1/5] END .....C=0.1, gamma=1, kernel=linear;, score=0.974 total time=   0.0s\n",
      "[CV 2/5] END .....C=0.1, gamma=1, kernel=linear;, score=0.974 total time=   0.0s\n",
      "[CV 3/5] END .....C=0.1, gamma=1, kernel=linear;, score=0.982 total time=   0.0s\n",
      "[CV 4/5] END .....C=0.1, gamma=1, kernel=linear;, score=0.965 total time=   0.0s\n",
      "[CV 5/5] END .....C=0.1, gamma=1, kernel=linear;, score=0.982 total time=   0.0s\n",
      "[CV 1/5] END ........C=0.1, gamma=1, kernel=rbf;, score=0.623 total time=   0.0s\n",
      "[CV 2/5] END ........C=0.1, gamma=1, kernel=rbf;, score=0.623 total time=   0.0s\n",
      "[CV 3/5] END ........C=0.1, gamma=1, kernel=rbf;, score=0.632 total time=   0.0s\n",
      "[CV 4/5] END ........C=0.1, gamma=1, kernel=rbf;, score=0.632 total time=   0.0s\n",
      "[CV 5/5] END ........C=0.1, gamma=1, kernel=rbf;, score=0.628 total time=   0.0s\n",
      "[CV 1/5] END ...C=0.1, gamma=0.1, kernel=linear;, score=0.974 total time=   0.0s\n",
      "[CV 2/5] END ...C=0.1, gamma=0.1, kernel=linear;, score=0.974 total time=   0.0s\n",
      "[CV 3/5] END ...C=0.1, gamma=0.1, kernel=linear;, score=0.982 total time=   0.0s\n",
      "[CV 4/5] END ...C=0.1, gamma=0.1, kernel=linear;, score=0.965 total time=   0.0s\n",
      "[CV 5/5] END ...C=0.1, gamma=0.1, kernel=linear;, score=0.982 total time=   0.0s\n",
      "[CV 1/5] END ......C=0.1, gamma=0.1, kernel=rbf;, score=0.921 total time=   0.0s\n",
      "[CV 2/5] END ......C=0.1, gamma=0.1, kernel=rbf;, score=0.895 total time=   0.0s\n",
      "[CV 3/5] END ......C=0.1, gamma=0.1, kernel=rbf;, score=0.947 total time=   0.0s\n",
      "[CV 4/5] END ......C=0.1, gamma=0.1, kernel=rbf;, score=0.965 total time=   0.0s\n",
      "[CV 5/5] END ......C=0.1, gamma=0.1, kernel=rbf;, score=0.947 total time=   0.0s\n",
      "[CV 1/5] END ..C=0.1, gamma=0.01, kernel=linear;, score=0.974 total time=   0.0s\n",
      "[CV 2/5] END ..C=0.1, gamma=0.01, kernel=linear;, score=0.974 total time=   0.0s\n",
      "[CV 3/5] END ..C=0.1, gamma=0.01, kernel=linear;, score=0.982 total time=   0.0s\n",
      "[CV 4/5] END ..C=0.1, gamma=0.01, kernel=linear;, score=0.965 total time=   0.0s\n",
      "[CV 5/5] END ..C=0.1, gamma=0.01, kernel=linear;, score=0.982 total time=   0.0s\n",
      "[CV 1/5] END .....C=0.1, gamma=0.01, kernel=rbf;, score=0.912 total time=   0.0s\n",
      "[CV 2/5] END .....C=0.1, gamma=0.01, kernel=rbf;, score=0.930 total time=   0.0s\n",
      "[CV 3/5] END .....C=0.1, gamma=0.01, kernel=rbf;, score=0.974 total time=   0.0s\n",
      "[CV 4/5] END .....C=0.1, gamma=0.01, kernel=rbf;, score=0.956 total time=   0.0s\n",
      "[CV 5/5] END .....C=0.1, gamma=0.01, kernel=rbf;, score=0.965 total time=   0.0s\n",
      "[CV 1/5] END .C=0.1, gamma=0.001, kernel=linear;, score=0.974 total time=   0.0s\n",
      "[CV 2/5] END .C=0.1, gamma=0.001, kernel=linear;, score=0.974 total time=   0.0s\n",
      "[CV 3/5] END .C=0.1, gamma=0.001, kernel=linear;, score=0.982 total time=   0.0s\n",
      "[CV 4/5] END .C=0.1, gamma=0.001, kernel=linear;, score=0.965 total time=   0.0s\n",
      "[CV 5/5] END .C=0.1, gamma=0.001, kernel=linear;, score=0.982 total time=   0.0s\n",
      "[CV 1/5] END ....C=0.1, gamma=0.001, kernel=rbf;, score=0.772 total time=   0.0s\n",
      "[CV 2/5] END ....C=0.1, gamma=0.001, kernel=rbf;, score=0.737 total time=   0.0s\n",
      "[CV 3/5] END ....C=0.1, gamma=0.001, kernel=rbf;, score=0.772 total time=   0.0s\n",
      "[CV 4/5] END ....C=0.1, gamma=0.001, kernel=rbf;, score=0.825 total time=   0.0s\n",
      "[CV 5/5] END ....C=0.1, gamma=0.001, kernel=rbf;, score=0.850 total time=   0.0s\n",
      "[CV 1/5] END .......C=1, gamma=1, kernel=linear;, score=0.956 total time=   0.0s\n",
      "[CV 2/5] END .......C=1, gamma=1, kernel=linear;, score=0.982 total time=   0.0s\n",
      "[CV 3/5] END .......C=1, gamma=1, kernel=linear;, score=0.965 total time=   0.0s\n",
      "[CV 4/5] END .......C=1, gamma=1, kernel=linear;, score=0.965 total time=   0.0s\n",
      "[CV 5/5] END .......C=1, gamma=1, kernel=linear;, score=0.982 total time=   0.0s\n",
      "[CV 1/5] END ..........C=1, gamma=1, kernel=rbf;, score=0.632 total time=   0.0s\n",
      "[CV 2/5] END ..........C=1, gamma=1, kernel=rbf;, score=0.623 total time=   0.0s\n",
      "[CV 3/5] END ..........C=1, gamma=1, kernel=rbf;, score=0.632 total time=   0.0s\n",
      "[CV 4/5] END ..........C=1, gamma=1, kernel=rbf;, score=0.640 total time=   0.0s\n",
      "[CV 5/5] END ..........C=1, gamma=1, kernel=rbf;, score=0.628 total time=   0.0s\n",
      "[CV 1/5] END .....C=1, gamma=0.1, kernel=linear;, score=0.956 total time=   0.0s\n",
      "[CV 2/5] END .....C=1, gamma=0.1, kernel=linear;, score=0.982 total time=   0.0s\n",
      "[CV 3/5] END .....C=1, gamma=0.1, kernel=linear;, score=0.965 total time=   0.0s\n",
      "[CV 4/5] END .....C=1, gamma=0.1, kernel=linear;, score=0.965 total time=   0.0s\n",
      "[CV 5/5] END .....C=1, gamma=0.1, kernel=linear;, score=0.982 total time=   0.0s\n",
      "[CV 1/5] END ........C=1, gamma=0.1, kernel=rbf;, score=0.956 total time=   0.0s\n",
      "[CV 2/5] END ........C=1, gamma=0.1, kernel=rbf;, score=0.947 total time=   0.0s\n",
      "[CV 3/5] END ........C=1, gamma=0.1, kernel=rbf;, score=0.956 total time=   0.0s\n",
      "[CV 4/5] END ........C=1, gamma=0.1, kernel=rbf;, score=0.974 total time=   0.0s\n",
      "[CV 5/5] END ........C=1, gamma=0.1, kernel=rbf;, score=0.965 total time=   0.0s\n",
      "[CV 1/5] END ....C=1, gamma=0.01, kernel=linear;, score=0.956 total time=   0.0s\n",
      "[CV 2/5] END ....C=1, gamma=0.01, kernel=linear;, score=0.982 total time=   0.0s\n",
      "[CV 3/5] END ....C=1, gamma=0.01, kernel=linear;, score=0.965 total time=   0.0s\n",
      "[CV 4/5] END ....C=1, gamma=0.01, kernel=linear;, score=0.965 total time=   0.0s\n",
      "[CV 5/5] END ....C=1, gamma=0.01, kernel=linear;, score=0.982 total time=   0.0s\n",
      "[CV 1/5] END .......C=1, gamma=0.01, kernel=rbf;, score=0.956 total time=   0.0s\n",
      "[CV 2/5] END .......C=1, gamma=0.01, kernel=rbf;, score=0.965 total time=   0.0s\n",
      "[CV 3/5] END .......C=1, gamma=0.01, kernel=rbf;, score=0.974 total time=   0.0s\n",
      "[CV 4/5] END .......C=1, gamma=0.01, kernel=rbf;, score=0.956 total time=   0.0s\n",
      "[CV 5/5] END .......C=1, gamma=0.01, kernel=rbf;, score=0.982 total time=   0.0s\n",
      "[CV 1/5] END ...C=1, gamma=0.001, kernel=linear;, score=0.956 total time=   0.0s\n",
      "[CV 2/5] END ...C=1, gamma=0.001, kernel=linear;, score=0.982 total time=   0.0s\n",
      "[CV 3/5] END ...C=1, gamma=0.001, kernel=linear;, score=0.965 total time=   0.0s\n",
      "[CV 4/5] END ...C=1, gamma=0.001, kernel=linear;, score=0.965 total time=   0.0s\n",
      "[CV 5/5] END ...C=1, gamma=0.001, kernel=linear;, score=0.982 total time=   0.0s\n",
      "[CV 1/5] END ......C=1, gamma=0.001, kernel=rbf;, score=0.939 total time=   0.0s\n",
      "[CV 2/5] END ......C=1, gamma=0.001, kernel=rbf;, score=0.930 total time=   0.0s\n",
      "[CV 3/5] END ......C=1, gamma=0.001, kernel=rbf;, score=0.947 total time=   0.0s\n",
      "[CV 4/5] END ......C=1, gamma=0.001, kernel=rbf;, score=0.956 total time=   0.0s\n",
      "[CV 5/5] END ......C=1, gamma=0.001, kernel=rbf;, score=0.965 total time=   0.0s\n",
      "[CV 1/5] END ......C=10, gamma=1, kernel=linear;, score=0.956 total time=   0.0s\n",
      "[CV 2/5] END ......C=10, gamma=1, kernel=linear;, score=0.956 total time=   0.0s\n",
      "[CV 3/5] END ......C=10, gamma=1, kernel=linear;, score=0.965 total time=   0.0s\n",
      "[CV 4/5] END ......C=10, gamma=1, kernel=linear;, score=0.965 total time=   0.0s\n",
      "[CV 5/5] END ......C=10, gamma=1, kernel=linear;, score=0.991 total time=   0.0s\n",
      "[CV 1/5] END .........C=10, gamma=1, kernel=rbf;, score=0.640 total time=   0.0s\n",
      "[CV 2/5] END .........C=10, gamma=1, kernel=rbf;, score=0.623 total time=   0.0s\n",
      "[CV 3/5] END .........C=10, gamma=1, kernel=rbf;, score=0.649 total time=   0.0s\n",
      "[CV 4/5] END .........C=10, gamma=1, kernel=rbf;, score=0.640 total time=   0.0s\n",
      "[CV 5/5] END .........C=10, gamma=1, kernel=rbf;, score=0.628 total time=   0.0s\n",
      "[CV 1/5] END ....C=10, gamma=0.1, kernel=linear;, score=0.956 total time=   0.0s\n",
      "[CV 2/5] END ....C=10, gamma=0.1, kernel=linear;, score=0.956 total time=   0.0s\n",
      "[CV 3/5] END ....C=10, gamma=0.1, kernel=linear;, score=0.965 total time=   0.0s\n",
      "[CV 4/5] END ....C=10, gamma=0.1, kernel=linear;, score=0.965 total time=   0.0s\n",
      "[CV 5/5] END ....C=10, gamma=0.1, kernel=linear;, score=0.991 total time=   0.0s\n",
      "[CV 1/5] END .......C=10, gamma=0.1, kernel=rbf;, score=0.912 total time=   0.0s\n",
      "[CV 2/5] END .......C=10, gamma=0.1, kernel=rbf;, score=0.965 total time=   0.0s\n",
      "[CV 3/5] END .......C=10, gamma=0.1, kernel=rbf;, score=0.947 total time=   0.0s\n",
      "[CV 4/5] END .......C=10, gamma=0.1, kernel=rbf;, score=0.974 total time=   0.0s\n",
      "[CV 5/5] END .......C=10, gamma=0.1, kernel=rbf;, score=0.938 total time=   0.0s\n",
      "[CV 1/5] END ...C=10, gamma=0.01, kernel=linear;, score=0.956 total time=   0.0s\n",
      "[CV 2/5] END ...C=10, gamma=0.01, kernel=linear;, score=0.956 total time=   0.0s\n",
      "[CV 3/5] END ...C=10, gamma=0.01, kernel=linear;, score=0.965 total time=   0.0s\n",
      "[CV 4/5] END ...C=10, gamma=0.01, kernel=linear;, score=0.965 total time=   0.0s\n",
      "[CV 5/5] END ...C=10, gamma=0.01, kernel=linear;, score=0.991 total time=   0.0s\n",
      "[CV 1/5] END ......C=10, gamma=0.01, kernel=rbf;, score=0.974 total time=   0.0s\n",
      "[CV 2/5] END ......C=10, gamma=0.01, kernel=rbf;, score=0.974 total time=   0.0s\n",
      "[CV 3/5] END ......C=10, gamma=0.01, kernel=rbf;, score=0.982 total time=   0.0s\n",
      "[CV 4/5] END ......C=10, gamma=0.01, kernel=rbf;, score=0.974 total time=   0.0s\n",
      "[CV 5/5] END ......C=10, gamma=0.01, kernel=rbf;, score=0.991 total time=   0.0s\n",
      "[CV 1/5] END ..C=10, gamma=0.001, kernel=linear;, score=0.956 total time=   0.0s\n",
      "[CV 2/5] END ..C=10, gamma=0.001, kernel=linear;, score=0.956 total time=   0.0s\n",
      "[CV 3/5] END ..C=10, gamma=0.001, kernel=linear;, score=0.965 total time=   0.0s\n",
      "[CV 4/5] END ..C=10, gamma=0.001, kernel=linear;, score=0.965 total time=   0.0s\n",
      "[CV 5/5] END ..C=10, gamma=0.001, kernel=linear;, score=0.991 total time=   0.0s\n",
      "[CV 1/5] END .....C=10, gamma=0.001, kernel=rbf;, score=0.974 total time=   0.0s\n",
      "[CV 2/5] END .....C=10, gamma=0.001, kernel=rbf;, score=0.974 total time=   0.0s\n",
      "[CV 3/5] END .....C=10, gamma=0.001, kernel=rbf;, score=0.974 total time=   0.0s\n",
      "[CV 4/5] END .....C=10, gamma=0.001, kernel=rbf;, score=0.965 total time=   0.0s\n",
      "[CV 5/5] END .....C=10, gamma=0.001, kernel=rbf;, score=0.982 total time=   0.0s\n",
      "[CV 1/5] END .....C=100, gamma=1, kernel=linear;, score=0.947 total time=   0.0s\n",
      "[CV 2/5] END .....C=100, gamma=1, kernel=linear;, score=0.930 total time=   0.0s\n",
      "[CV 3/5] END .....C=100, gamma=1, kernel=linear;, score=0.956 total time=   0.0s\n",
      "[CV 4/5] END .....C=100, gamma=1, kernel=linear;, score=0.965 total time=   0.0s\n",
      "[CV 5/5] END .....C=100, gamma=1, kernel=linear;, score=1.000 total time=   0.0s\n",
      "[CV 1/5] END ........C=100, gamma=1, kernel=rbf;, score=0.640 total time=   0.0s\n",
      "[CV 2/5] END ........C=100, gamma=1, kernel=rbf;, score=0.623 total time=   0.0s\n",
      "[CV 3/5] END ........C=100, gamma=1, kernel=rbf;, score=0.649 total time=   0.0s\n",
      "[CV 4/5] END ........C=100, gamma=1, kernel=rbf;, score=0.640 total time=   0.0s\n",
      "[CV 5/5] END ........C=100, gamma=1, kernel=rbf;, score=0.628 total time=   0.0s\n",
      "[CV 1/5] END ...C=100, gamma=0.1, kernel=linear;, score=0.947 total time=   0.0s\n",
      "[CV 2/5] END ...C=100, gamma=0.1, kernel=linear;, score=0.930 total time=   0.0s\n",
      "[CV 3/5] END ...C=100, gamma=0.1, kernel=linear;, score=0.956 total time=   0.0s\n",
      "[CV 4/5] END ...C=100, gamma=0.1, kernel=linear;, score=0.965 total time=   0.0s\n",
      "[CV 5/5] END ...C=100, gamma=0.1, kernel=linear;, score=1.000 total time=   0.0s\n",
      "[CV 1/5] END ......C=100, gamma=0.1, kernel=rbf;, score=0.912 total time=   0.0s\n",
      "[CV 2/5] END ......C=100, gamma=0.1, kernel=rbf;, score=0.965 total time=   0.0s\n",
      "[CV 3/5] END ......C=100, gamma=0.1, kernel=rbf;, score=0.947 total time=   0.0s\n",
      "[CV 4/5] END ......C=100, gamma=0.1, kernel=rbf;, score=0.974 total time=   0.0s\n",
      "[CV 5/5] END ......C=100, gamma=0.1, kernel=rbf;, score=0.947 total time=   0.0s\n",
      "[CV 1/5] END ..C=100, gamma=0.01, kernel=linear;, score=0.947 total time=   0.0s\n",
      "[CV 2/5] END ..C=100, gamma=0.01, kernel=linear;, score=0.930 total time=   0.0s\n",
      "[CV 3/5] END ..C=100, gamma=0.01, kernel=linear;, score=0.956 total time=   0.0s\n",
      "[CV 4/5] END ..C=100, gamma=0.01, kernel=linear;, score=0.965 total time=   0.0s\n",
      "[CV 5/5] END ..C=100, gamma=0.01, kernel=linear;, score=1.000 total time=   0.0s\n",
      "[CV 1/5] END .....C=100, gamma=0.01, kernel=rbf;, score=0.965 total time=   0.0s\n",
      "[CV 2/5] END .....C=100, gamma=0.01, kernel=rbf;, score=0.956 total time=   0.0s\n",
      "[CV 3/5] END .....C=100, gamma=0.01, kernel=rbf;, score=0.965 total time=   0.0s\n",
      "[CV 4/5] END .....C=100, gamma=0.01, kernel=rbf;, score=0.982 total time=   0.0s\n",
      "[CV 5/5] END .....C=100, gamma=0.01, kernel=rbf;, score=0.973 total time=   0.0s\n",
      "[CV 1/5] END .C=100, gamma=0.001, kernel=linear;, score=0.947 total time=   0.0s\n",
      "[CV 2/5] END .C=100, gamma=0.001, kernel=linear;, score=0.930 total time=   0.0s\n",
      "[CV 3/5] END .C=100, gamma=0.001, kernel=linear;, score=0.956 total time=   0.0s\n",
      "[CV 4/5] END .C=100, gamma=0.001, kernel=linear;, score=0.965 total time=   0.0s\n",
      "[CV 5/5] END .C=100, gamma=0.001, kernel=linear;, score=1.000 total time=   0.0s\n",
      "[CV 1/5] END ....C=100, gamma=0.001, kernel=rbf;, score=0.965 total time=   0.0s\n",
      "[CV 2/5] END ....C=100, gamma=0.001, kernel=rbf;, score=0.974 total time=   0.0s\n",
      "[CV 3/5] END ....C=100, gamma=0.001, kernel=rbf;, score=0.965 total time=   0.0s\n",
      "[CV 4/5] END ....C=100, gamma=0.001, kernel=rbf;, score=0.965 total time=   0.0s\n",
      "[CV 5/5] END ....C=100, gamma=0.001, kernel=rbf;, score=0.982 total time=   0.0s\n"
     ]
    },
    {
     "data": {
      "text/html": [
       "<style>#sk-container-id-3 {color: black;background-color: white;}#sk-container-id-3 pre{padding: 0;}#sk-container-id-3 div.sk-toggleable {background-color: white;}#sk-container-id-3 label.sk-toggleable__label {cursor: pointer;display: block;width: 100%;margin-bottom: 0;padding: 0.3em;box-sizing: border-box;text-align: center;}#sk-container-id-3 label.sk-toggleable__label-arrow:before {content: \"▸\";float: left;margin-right: 0.25em;color: #696969;}#sk-container-id-3 label.sk-toggleable__label-arrow:hover:before {color: black;}#sk-container-id-3 div.sk-estimator:hover label.sk-toggleable__label-arrow:before {color: black;}#sk-container-id-3 div.sk-toggleable__content {max-height: 0;max-width: 0;overflow: hidden;text-align: left;background-color: #f0f8ff;}#sk-container-id-3 div.sk-toggleable__content pre {margin: 0.2em;color: black;border-radius: 0.25em;background-color: #f0f8ff;}#sk-container-id-3 input.sk-toggleable__control:checked~div.sk-toggleable__content {max-height: 200px;max-width: 100%;overflow: auto;}#sk-container-id-3 input.sk-toggleable__control:checked~label.sk-toggleable__label-arrow:before {content: \"▾\";}#sk-container-id-3 div.sk-estimator input.sk-toggleable__control:checked~label.sk-toggleable__label {background-color: #d4ebff;}#sk-container-id-3 div.sk-label input.sk-toggleable__control:checked~label.sk-toggleable__label {background-color: #d4ebff;}#sk-container-id-3 input.sk-hidden--visually {border: 0;clip: rect(1px 1px 1px 1px);clip: rect(1px, 1px, 1px, 1px);height: 1px;margin: -1px;overflow: hidden;padding: 0;position: absolute;width: 1px;}#sk-container-id-3 div.sk-estimator {font-family: monospace;background-color: #f0f8ff;border: 1px dotted black;border-radius: 0.25em;box-sizing: border-box;margin-bottom: 0.5em;}#sk-container-id-3 div.sk-estimator:hover {background-color: #d4ebff;}#sk-container-id-3 div.sk-parallel-item::after {content: \"\";width: 100%;border-bottom: 1px solid gray;flex-grow: 1;}#sk-container-id-3 div.sk-label:hover label.sk-toggleable__label {background-color: #d4ebff;}#sk-container-id-3 div.sk-serial::before {content: \"\";position: absolute;border-left: 1px solid gray;box-sizing: border-box;top: 0;bottom: 0;left: 50%;z-index: 0;}#sk-container-id-3 div.sk-serial {display: flex;flex-direction: column;align-items: center;background-color: white;padding-right: 0.2em;padding-left: 0.2em;position: relative;}#sk-container-id-3 div.sk-item {position: relative;z-index: 1;}#sk-container-id-3 div.sk-parallel {display: flex;align-items: stretch;justify-content: center;background-color: white;position: relative;}#sk-container-id-3 div.sk-item::before, #sk-container-id-3 div.sk-parallel-item::before {content: \"\";position: absolute;border-left: 1px solid gray;box-sizing: border-box;top: 0;bottom: 0;left: 50%;z-index: -1;}#sk-container-id-3 div.sk-parallel-item {display: flex;flex-direction: column;z-index: 1;position: relative;background-color: white;}#sk-container-id-3 div.sk-parallel-item:first-child::after {align-self: flex-end;width: 50%;}#sk-container-id-3 div.sk-parallel-item:last-child::after {align-self: flex-start;width: 50%;}#sk-container-id-3 div.sk-parallel-item:only-child::after {width: 0;}#sk-container-id-3 div.sk-dashed-wrapped {border: 1px dashed gray;margin: 0 0.4em 0.5em 0.4em;box-sizing: border-box;padding-bottom: 0.4em;background-color: white;}#sk-container-id-3 div.sk-label label {font-family: monospace;font-weight: bold;display: inline-block;line-height: 1.2em;}#sk-container-id-3 div.sk-label-container {text-align: center;}#sk-container-id-3 div.sk-container {/* jupyter's `normalize.less` sets `[hidden] { display: none; }` but bootstrap.min.css set `[hidden] { display: none !important; }` so we also need the `!important` here to be able to override the default hidden behavior on the sphinx rendered scikit-learn.org. See: https://github.com/scikit-learn/scikit-learn/issues/21755 */display: inline-block !important;position: relative;}#sk-container-id-3 div.sk-text-repr-fallback {display: none;}</style><div id=\"sk-container-id-3\" class=\"sk-top-container\"><div class=\"sk-text-repr-fallback\"><pre>GridSearchCV(estimator=SVC(),\n",
       "             param_grid={&#x27;C&#x27;: [0.1, 1, 10, 100], &#x27;gamma&#x27;: [1, 0.1, 0.01, 0.001],\n",
       "                         &#x27;kernel&#x27;: [&#x27;linear&#x27;, &#x27;rbf&#x27;]},\n",
       "             verbose=3)</pre><b>In a Jupyter environment, please rerun this cell to show the HTML representation or trust the notebook. <br />On GitHub, the HTML representation is unable to render, please try loading this page with nbviewer.org.</b></div><div class=\"sk-container\" hidden><div class=\"sk-item sk-dashed-wrapped\"><div class=\"sk-label-container\"><div class=\"sk-label sk-toggleable\"><input class=\"sk-toggleable__control sk-hidden--visually\" id=\"sk-estimator-id-5\" type=\"checkbox\" ><label for=\"sk-estimator-id-5\" class=\"sk-toggleable__label sk-toggleable__label-arrow\">GridSearchCV</label><div class=\"sk-toggleable__content\"><pre>GridSearchCV(estimator=SVC(),\n",
       "             param_grid={&#x27;C&#x27;: [0.1, 1, 10, 100], &#x27;gamma&#x27;: [1, 0.1, 0.01, 0.001],\n",
       "                         &#x27;kernel&#x27;: [&#x27;linear&#x27;, &#x27;rbf&#x27;]},\n",
       "             verbose=3)</pre></div></div></div><div class=\"sk-parallel\"><div class=\"sk-parallel-item\"><div class=\"sk-item\"><div class=\"sk-label-container\"><div class=\"sk-label sk-toggleable\"><input class=\"sk-toggleable__control sk-hidden--visually\" id=\"sk-estimator-id-6\" type=\"checkbox\" ><label for=\"sk-estimator-id-6\" class=\"sk-toggleable__label sk-toggleable__label-arrow\">estimator: SVC</label><div class=\"sk-toggleable__content\"><pre>SVC()</pre></div></div></div><div class=\"sk-serial\"><div class=\"sk-item\"><div class=\"sk-estimator sk-toggleable\"><input class=\"sk-toggleable__control sk-hidden--visually\" id=\"sk-estimator-id-7\" type=\"checkbox\" ><label for=\"sk-estimator-id-7\" class=\"sk-toggleable__label sk-toggleable__label-arrow\">SVC</label><div class=\"sk-toggleable__content\"><pre>SVC()</pre></div></div></div></div></div></div></div></div></div></div>"
      ],
      "text/plain": [
       "GridSearchCV(estimator=SVC(),\n",
       "             param_grid={'C': [0.1, 1, 10, 100], 'gamma': [1, 0.1, 0.01, 0.001],\n",
       "                         'kernel': ['linear', 'rbf']},\n",
       "             verbose=3)"
      ]
     },
     "execution_count": 15,
     "metadata": {},
     "output_type": "execute_result"
    }
   ],
   "source": [
    "# Perform Grid Search with scaled data\n",
    "grid_search_scaled = GridSearchCV(svm_classifier_cv, param_grid, refit=True, verbose=3)\n",
    "grid_search_scaled.fit(X_scaled, y)"
   ]
  },
  {
   "cell_type": "code",
   "execution_count": 16,
   "id": "f5d9e68e",
   "metadata": {},
   "outputs": [
    {
     "name": "stdout",
     "output_type": "stream",
     "text": [
      "Best Parameters (Scaled Data): {'C': 10, 'gamma': 0.01, 'kernel': 'rbf'}\n"
     ]
    }
   ],
   "source": [
    "# Best parameters from Grid Search with scaled data\n",
    "best_params_scaled = grid_search_scaled.best_params_\n",
    "print(\"Best Parameters (Scaled Data):\", best_params_scaled)"
   ]
  },
  {
   "cell_type": "code",
   "execution_count": 17,
   "id": "41f966d5",
   "metadata": {},
   "outputs": [
    {
     "name": "stdout",
     "output_type": "stream",
     "text": [
      "Best Accuracy (Scaled Data): 0.9789318428815401\n"
     ]
    }
   ],
   "source": [
    "# Best accuracy from Grid Search with scaled data\n",
    "best_accuracy_scaled = grid_search_scaled.best_score_\n",
    "print(\"Best Accuracy (Scaled Data):\", best_accuracy_scaled)"
   ]
  },
  {
   "cell_type": "code",
   "execution_count": 18,
   "id": "29b7da81",
   "metadata": {},
   "outputs": [],
   "source": [
    "from sklearn.metrics import accuracy_score, precision_score, recall_score, f1_score\n",
    "\n",
    "# Metrics for the simple SVM model\n",
    "y_pred_simple = svm_classifier.predict(X_test)\n",
    "accuracy_simple = accuracy_score(y_test, y_pred_simple)\n",
    "precision_simple = precision_score(y_test, y_pred_simple)\n",
    "recall_simple = recall_score(y_test, y_pred_simple)\n",
    "f1_simple = f1_score(y_test, y_pred_simple)"
   ]
  },
  {
   "cell_type": "code",
   "execution_count": 19,
   "id": "61f3aa66",
   "metadata": {},
   "outputs": [],
   "source": [
    "# Metrics for the SVM with Cross Validation and Grid Search (unscaled data)\n",
    "best_svm = grid_search.best_estimator_\n",
    "y_pred_cv = best_svm.predict(X_test)\n",
    "accuracy_cv = accuracy_score(y_test, y_pred_cv)\n",
    "precision_cv = precision_score(y_test, y_pred_cv)\n",
    "recall_cv = recall_score(y_test, y_pred_cv)\n",
    "f1_cv = f1_score(y_test, y_pred_cv)"
   ]
  },
  {
   "cell_type": "code",
   "execution_count": 20,
   "id": "a36f358e",
   "metadata": {},
   "outputs": [],
   "source": [
    "# Metrics for the SVM with Cross Validation and Grid Search (scaled data)\n",
    "best_svm_scaled = grid_search_scaled.best_estimator_\n",
    "X_test_scaled = scaler.transform(X_test)\n",
    "y_pred_scaled = best_svm_scaled.predict(X_test_scaled)\n",
    "accuracy_scaled = accuracy_score(y_test, y_pred_scaled)\n",
    "precision_scaled = precision_score(y_test, y_pred_scaled)\n",
    "recall_scaled = recall_score(y_test, y_pred_scaled)\n",
    "f1_scaled = f1_score(y_test, y_pred_scaled)"
   ]
  },
  {
   "cell_type": "code",
   "execution_count": 21,
   "id": "fa3cb617",
   "metadata": {},
   "outputs": [],
   "source": [
    "# Create a comparison DataFrame\n",
    "comparison_df = pd.DataFrame({\n",
    "    'Metric': ['Accuracy', 'Precision', 'Recall', 'F1 Score'],\n",
    "    'Simple SVM': [accuracy_simple, precision_simple, recall_simple, f1_simple],\n",
    "    'SVM with CV & GridSearch (Unscaled)': [accuracy_cv, precision_cv, recall_cv, f1_cv],\n",
    "    'SVM with CV & GridSearch (Scaled)': [accuracy_scaled, precision_scaled, recall_scaled, f1_scaled]\n",
    "})"
   ]
  },
  {
   "cell_type": "code",
   "execution_count": 22,
   "id": "6b5c951d",
   "metadata": {},
   "outputs": [
    {
     "name": "stdout",
     "output_type": "stream",
     "text": [
      "      Metric  Simple SVM  SVM with CV & GridSearch (Unscaled)  \\\n",
      "0   Accuracy    0.956140                             0.964912   \n",
      "1  Precision    0.945946                             0.958904   \n",
      "2     Recall    0.985915                             0.985915   \n",
      "3   F1 Score    0.965517                             0.972222   \n",
      "\n",
      "   SVM with CV & GridSearch (Scaled)  \n",
      "0                           0.982456  \n",
      "1                           0.972603  \n",
      "2                           1.000000  \n",
      "3                           0.986111  \n"
     ]
    }
   ],
   "source": [
    "# Display the comparison DataFrame\n",
    "print(comparison_df)"
   ]
  },
  {
   "cell_type": "code",
   "execution_count": 23,
   "id": "5f2d64f1",
   "metadata": {
    "scrolled": true
   },
   "outputs": [],
   "source": [
    "# Create a comparison table\n",
    "comparison_data = [\n",
    "    ['Accuracy', accuracy_simple, accuracy_cv, accuracy_scaled],\n",
    "    ['Precision', precision_simple, precision_cv, precision_scaled],\n",
    "    ['Recall', recall_simple, recall_cv, recall_scaled],\n",
    "    ['F1 Score', f1_simple, f1_cv, f1_scaled]\n",
    "]\n"
   ]
  },
  {
   "cell_type": "code",
   "execution_count": 24,
   "id": "75411bcb",
   "metadata": {},
   "outputs": [
    {
     "name": "stdout",
     "output_type": "stream",
     "text": [
      "+-----------+--------------------+-------------------------------------+-----------------------------------+\n",
      "|  Metric   |     Simple SVM     | SVM with CV & GridSearch (Unscaled) | SVM with CV & GridSearch (Scaled) |\n",
      "+-----------+--------------------+-------------------------------------+-----------------------------------+\n",
      "| Accuracy  | 0.956140350877193  |         0.9649122807017544          |        0.9824561403508771         |\n",
      "| Precision | 0.9459459459459459 |          0.958904109589041          |        0.9726027397260274         |\n",
      "|  Recall   | 0.9859154929577465 |         0.9859154929577465          |                1.0                |\n",
      "| F1 Score  | 0.9655172413793103 |         0.9722222222222222          |        0.9861111111111112         |\n",
      "+-----------+--------------------+-------------------------------------+-----------------------------------+\n"
     ]
    }
   ],
   "source": [
    "# Display the comparison table using tabulate\n",
    "from tabulate import tabulate\n",
    "\n",
    "comparison_table = tabulate(comparison_data, headers=['Metric', 'Simple SVM', 'SVM with CV & GridSearch (Unscaled)', 'SVM with CV & GridSearch (Scaled)'], tablefmt='pretty')\n",
    "\n",
    "print(comparison_table)"
   ]
  },
  {
   "cell_type": "markdown",
   "id": "f7e0e0b3",
   "metadata": {},
   "source": [
    "<div align=\"center\" style=\"border: 2px solid #e74c3c; padding: 10px; background-color: #f39c12; border-radius: 5px;\">\n",
    "  <h1 style=\"font-family: 'Palatino Linotype', serif; color: white;\">🔥 Decision Tree 🔥</h1>\n",
    "</div>"
   ]
  },
  {
   "cell_type": "markdown",
   "id": "54f781c7",
   "metadata": {},
   "source": [
    "<div style=\"background-color: #f9f9f9; border: 1px solid #ccc; padding: 15px; border-radius: 10px; font-family: Arial;\">\n",
    "\n",
    "<h2 style=\"color: #555; text-align: center;\">Decision Tree Algorithm: Hierarchical Decision-Making</h2>\n",
    "\n",
    "<p>The Decision Tree algorithm is a versatile supervised learning method used for both classification and regression tasks. It operates by recursively partitioning the feature space into subsets based on the values of the input features, ultimately leading to the prediction of the target variable.</p>\n",
    "\n",
    "<h3 style=\"color: #777;\">How Decision Tree Works:</h3>\n",
    "\n",
    "<p>The algorithm begins by selecting the best feature to split the data, which is determined by maximizing information gain (or minimizing impurity) at each step. This process is repeated recursively for each subset, creating a hierarchical structure of decisions.</p>\n",
    "\n",
    "<h3 style=\"color: #777;\">Key Characteristics:</h3>\n",
    "\n",
    "<ul>\n",
    "    <li><strong>Interpretability:</strong> Decision trees provide easily interpretable rules, making them valuable for extracting insights and explaining predictions.</li>\n",
    "    <li><strong>Handling Non-Linear Relationships:</strong> Decision trees can capture non-linear relationships between features and the target variable, making them suitable for complex datasets.</li>\n",
    "    <li><strong>Robust to Outliers:</strong> They are less sensitive to outliers compared to some other algorithms.</li>\n",
    "    <li><strong>Ensemble Learning:</strong> Decision trees form the basis of ensemble methods like Random Forests and Gradient Boosting, which can further enhance performance.</li>\n",
    "</ul>\n",
    "\n",
    "<h3 style=\"color: #777;\">Importance of Decision Trees:</h3>\n",
    "\n",
    "<p>Decision trees are widely used in fields like healthcare, finance, and marketing for tasks such as risk assessment, customer segmentation, and medical diagnosis. Their intuitive nature and ability to handle complex relationships make them a valuable tool in the machine learning toolkit.</p>\n",
    "\n",
    "<p style=\"font-style: italic; text-align: center; color: #777;\">In summary, the Decision Tree algorithm empowers hierarchical decision-making, providing interpretable rules and the ability to handle complex relationships in data.</p>\n",
    "\n",
    "</div>\n"
   ]
  },
  {
   "cell_type": "markdown",
   "id": "17e3c328",
   "metadata": {},
   "source": [
    "<img src = \"https://av-eks-blogoptimized.s3.amazonaws.com/905753.png\" >"
   ]
  },
  {
   "cell_type": "markdown",
   "id": "27fad04c",
   "metadata": {},
   "source": [
    "<img src = \"https://av-eks-blogoptimized.s3.amazonaws.com/542834.png\" >"
   ]
  },
  {
   "cell_type": "markdown",
   "id": "e70d6bf2",
   "metadata": {},
   "source": [
    "<img src = \"https://media.geeksforgeeks.org/wp-content/uploads/20200620180439/Gini-Impurity-vs-Entropy.png\" >"
   ]
  },
  {
   "cell_type": "markdown",
   "id": "1fe0dad2",
   "metadata": {},
   "source": [
    "## Example: Decision Tree Split Using Gini Index\n",
    "\n",
    "Consider a simplified example with two columns: \"Outlook\" and \"Temperature.\" We'll use the \"Play\" column as the target variable, indicating whether or not to play a sport based on the weather conditions.\n",
    "\n",
    "| Outlook   | Temperature | Play |\n",
    "|-----------|-------------|------|\n",
    "| Sunny     | Hot         | No   |\n",
    "| Overcast  | Mild        | Yes  |\n",
    "| Rainy     | Hot         | No   |\n",
    "| Overcast  | Hot         | Yes  |\n",
    "| Sunny     | Mild        | Yes  |\n",
    "| Rainy     | Mild        | Yes  |\n",
    "| Sunny     | Cool        | Yes  |\n",
    "| Overcast  | Cool        | Yes  |\n",
    "| Rainy     | Mild        | Yes  |\n",
    "| Rainy     | Cool        | No   |\n",
    "| Sunny     | Mild        | Yes  |\n",
    "| Overcast  | Mild        | Yes  |\n",
    "| Overcast  | Hot         | Yes  |\n",
    "| Rainy     | Mild        | No   |\n",
    "\n",
    "### Calculating Gini Index for \"Outlook\":\n",
    "- P(Yes|Sunny) = 3/4\n",
    "- P(No|Sunny) = 1/4\n",
    "- Gini Index(Sunny) = 1 - ((3/4)^2 + (1/4)^2) = 0.375\n",
    "- P(Yes|Overcast) = 5/5 = 1\n",
    "- P(No|Overcast) = 0/5 = 0\n",
    "- Gini Index(Overcast) = 1 - ((1)^2 + (0)^2) = 0\n",
    "- P(Yes|Rainy) = 2/5\n",
    "- P(No|Rainy) = 3/5\n",
    "- Gini Index(Rainy) = 1 - ((2/5)^2 + (3/5)^2) = 0.48\n",
    "\n",
    "\n",
    "- P(Sunny) = 4/14\n",
    "- P(Overcast) = 5/14\n",
    "- P(Rainy) = 5/14\n",
    "- Weighted Gini Index(Outlook) = (4/14) * 0.375 + (5/14) * 0 + (5/14) * 0.48 = 0.278\n",
    "\n",
    "\n",
    "### Calculating Gini Index for \"Temperature\":\n",
    "- P(Yes|Hot) = 2/4\n",
    "- P(No|Hot) = 2/4\n",
    "- Gini Index(Hot) = 1 - ((2/4)^2 + (2/4)^2) = 0.5\n",
    "- P(Yes|Mild) = 6/7\n",
    "- P(No|Mild) = 1/7\n",
    "- Gini Index(Mild) = 1 - ((6/7)^2 + (1/7)^2) = 0.24\n",
    "- P(Yes|Cool) = 2/3\n",
    "- P(No|Cool) = 1/3\n",
    "- Gini Index(Cool) = 1 - ((2/3)^2 + (1/3)^2) = 0.44\n",
    "\n",
    "\n",
    "- P(Hot) = 4/14\n",
    "- P(Mild) = 7/14\n",
    "- P(Cool) = 3/14\n",
    "- Weighted Gini Index(Temperature) = (4/14) * 0.5 + (7/14) * 0.24 + (3/14) * 0.44 = 0.35\n",
    "\n",
    "\n",
    "In this case, the \"Outlook\" attribute has a lower weighted Gini Index (0.278) compared to the \"Temperature\" attribute (0.35). Therefore, we would choose to split on the \"Outlook\" attribute as it results in a better separation of the classes.\n",
    "\n",
    "Keep in mind that this is a simplified example, and in practice, decision tree algorithms evaluate multiple attributes and make a decision based on a combination of Gini Index or Entropy calculations.\n",
    "\n",
    "## Example: Decision Tree Split Using Entropy\n",
    "\n",
    "Continuing with our simplified example with the same dataset of two columns: \"Outlook\" and \"Temperature,\" and the \"Play\" column as the target variable.\n",
    "\n",
    "### Calculating Entropy for \"Outlook\":\n",
    "- Entropy for \"Sunny\": - (3/4) * log2(3/4) - (1/4) * log2(1/4) ≈ 0.81\n",
    "- Entropy for \"Overcast\": - (5/5) * log2(5/5) - (0/5) * log2(0/5) = 0\n",
    "- Entropy for \"Rainy\": - (2/5) * log2(2/5) - (3/5) * log2(3/5) ≈ 0.52\n",
    "- Weighted Entropy for \"Outlook\": (4/14) * 0.81 + (5/14) * 0 + (5/14) * 0.52 = 0.417\n",
    "\n",
    "### Calculating Entropy for \"Temperature\":\n",
    "- Entropy for \"Hot\": - (2/4) * log2(2/4) - (2/4) * log2(2/4) = 1\n",
    "- Entropy for \"Mild\": - (6/7) * log2(6/7) - (1/7) * log2(1/7) ≈ 0.59\n",
    "- Entropy for \"Cool\": - (2/3) * log2(2/3) - (1/3) * log2(1/3) ≈ 0.918\n",
    "- Weighted Entropy for \"Temperature\": (4/14) * 1 + (7/14) * 0.59 + (3/14) * 0.918 = 0.777\n",
    "\n",
    "Similarly, in this case, the \"Outlook\" attribute has a lower weighted Entropy (0.417) compared to the \"Temperature\" attribute (0.777). Therefore, we would choose to split on the \"Outlook\" attribute as it results in a better separation of the classes.\n",
    "\n",
    "Entropy is a measure of impurity in a dataset. Decision tree algorithms aim to minimize entropy or maximize information gain when making splitting decisions."
   ]
  },
  {
   "cell_type": "code",
   "execution_count": 25,
   "id": "7b065f84",
   "metadata": {},
   "outputs": [],
   "source": [
    "from sklearn.datasets import load_breast_cancer\n",
    "from sklearn.tree import DecisionTreeClassifier\n",
    "from sklearn.model_selection import train_test_split, cross_val_score, GridSearchCV\n",
    "from sklearn.metrics import classification_report, accuracy_score\n",
    "\n",
    "# Load the Breast Cancer dataset\n",
    "data = load_breast_cancer()\n",
    "X = data.data\n",
    "y = data.target\n",
    "\n",
    "# Split the data into train and test sets\n",
    "X_train, X_test, y_train, y_test = train_test_split(X, y, test_size=0.2, random_state=42)"
   ]
  },
  {
   "cell_type": "code",
   "execution_count": 26,
   "id": "a874552a",
   "metadata": {},
   "outputs": [],
   "source": [
    "# Simple Decision Tree\n",
    "simple_tree = DecisionTreeClassifier(random_state=42)\n",
    "simple_tree.fit(X_train, y_train)\n",
    "y_pred_simple = simple_tree.predict(X_test)\n",
    "accuracy_simple = accuracy_score(y_test, y_pred_simple)"
   ]
  },
  {
   "cell_type": "code",
   "execution_count": 27,
   "id": "df62c27b",
   "metadata": {},
   "outputs": [],
   "source": [
    "# Cross Validation\n",
    "cross_val_scores = cross_val_score(simple_tree, X, y, cv=5)\n",
    "mean_cv_score = cross_val_scores.mean()"
   ]
  },
  {
   "cell_type": "code",
   "execution_count": 28,
   "id": "2074cb65",
   "metadata": {},
   "outputs": [],
   "source": [
    "# Grid Search with Cross Validation\n",
    "param_grid = {\n",
    "    'criterion': ['gini', 'entropy'],\n",
    "    'splitter': ['best', 'random'],\n",
    "    'max_depth': [None, 5, 10, 15, 20],\n",
    "    'min_samples_split': [2, 5, 10],\n",
    "    'min_samples_leaf': [1, 2, 4],\n",
    "    'max_features': [None, 'sqrt', 'log2']\n",
    "}"
   ]
  },
  {
   "cell_type": "code",
   "execution_count": 29,
   "id": "29610789",
   "metadata": {},
   "outputs": [],
   "source": [
    "grid_search = GridSearchCV(DecisionTreeClassifier(random_state=42), param_grid, cv=5)\n",
    "grid_search.fit(X, y)\n",
    "best_params = grid_search.best_params_\n",
    "best_score = grid_search.best_score_"
   ]
  },
  {
   "cell_type": "code",
   "execution_count": 30,
   "id": "3e947f1e",
   "metadata": {},
   "outputs": [
    {
     "name": "stdout",
     "output_type": "stream",
     "text": [
      "Simple Decision Tree Accuracy: 0.9473684210526315\n",
      "Cross Validation Mean Score: 0.9173420276354604\n",
      "Best Parameters from Grid Search: {'criterion': 'entropy', 'max_depth': 5, 'max_features': None, 'min_samples_leaf': 1, 'min_samples_split': 10, 'splitter': 'random'}\n",
      "Best Cross Validation Score from Grid Search: 0.9490296537804689\n"
     ]
    }
   ],
   "source": [
    "# Print results\n",
    "print(\"Simple Decision Tree Accuracy:\", accuracy_simple)\n",
    "print(\"Cross Validation Mean Score:\", mean_cv_score)\n",
    "print(\"Best Parameters from Grid Search:\", best_params)\n",
    "print(\"Best Cross Validation Score from Grid Search:\", best_score)"
   ]
  },
  {
   "cell_type": "code",
   "execution_count": 31,
   "id": "154b5ebf",
   "metadata": {},
   "outputs": [
    {
     "name": "stdout",
     "output_type": "stream",
     "text": [
      "Simple Decision Tree Metrics:\n",
      "Accuracy: 0.9473684210526315\n",
      "Precision: 0.9577464788732394\n",
      "Recall: 0.9577464788732394\n",
      "F1-Score: 0.9577464788732394\n",
      "Confusion Matrix:\n",
      " [[40  3]\n",
      " [ 3 68]]\n",
      "Classification Report:\n",
      "               precision    recall  f1-score   support\n",
      "\n",
      "           0       0.93      0.93      0.93        43\n",
      "           1       0.96      0.96      0.96        71\n",
      "\n",
      "    accuracy                           0.95       114\n",
      "   macro avg       0.94      0.94      0.94       114\n",
      "weighted avg       0.95      0.95      0.95       114\n",
      "\n"
     ]
    }
   ],
   "source": [
    "from sklearn.metrics import classification_report, confusion_matrix, accuracy_score, precision_score, recall_score, f1_score\n",
    "\n",
    "# Evaluate Simple Decision Tree\n",
    "print(\"Simple Decision Tree Metrics:\")\n",
    "print(\"Accuracy:\", accuracy_score(y_test, y_pred_simple))\n",
    "print(\"Precision:\", precision_score(y_test, y_pred_simple))\n",
    "print(\"Recall:\", recall_score(y_test, y_pred_simple))\n",
    "print(\"F1-Score:\", f1_score(y_test, y_pred_simple))\n",
    "print(\"Confusion Matrix:\\n\", confusion_matrix(y_test, y_pred_simple))\n",
    "print(\"Classification Report:\\n\", classification_report(y_test, y_pred_simple))"
   ]
  },
  {
   "cell_type": "code",
   "execution_count": 32,
   "id": "f45a84ad",
   "metadata": {},
   "outputs": [
    {
     "name": "stdout",
     "output_type": "stream",
     "text": [
      "\n",
      "Grid Search Decision Tree Metrics:\n",
      "Accuracy: 0.956140350877193\n",
      "Precision: 0.9342105263157895\n",
      "Recall: 1.0\n",
      "F1-Score: 0.9659863945578232\n",
      "Confusion Matrix:\n",
      " [[38  5]\n",
      " [ 0 71]]\n",
      "Classification Report:\n",
      "               precision    recall  f1-score   support\n",
      "\n",
      "           0       1.00      0.88      0.94        43\n",
      "           1       0.93      1.00      0.97        71\n",
      "\n",
      "    accuracy                           0.96       114\n",
      "   macro avg       0.97      0.94      0.95       114\n",
      "weighted avg       0.96      0.96      0.96       114\n",
      "\n"
     ]
    }
   ],
   "source": [
    "# Evaluate Grid Search Decision Tree\n",
    "y_pred_grid = grid_search.predict(X_test)\n",
    "print(\"\\nGrid Search Decision Tree Metrics:\")\n",
    "print(\"Accuracy:\", accuracy_score(y_test, y_pred_grid))\n",
    "print(\"Precision:\", precision_score(y_test, y_pred_grid))\n",
    "print(\"Recall:\", recall_score(y_test, y_pred_grid))\n",
    "print(\"F1-Score:\", f1_score(y_test, y_pred_grid))\n",
    "print(\"Confusion Matrix:\\n\", confusion_matrix(y_test, y_pred_grid))\n",
    "print(\"Classification Report:\\n\", classification_report(y_test, y_pred_grid))"
   ]
  },
  {
   "cell_type": "code",
   "execution_count": 33,
   "id": "977f8a95",
   "metadata": {},
   "outputs": [],
   "source": [
    "from tabulate import tabulate\n",
    "\n",
    "# Create a dictionary to store the evaluation metrics\n",
    "metrics_dict = {\n",
    "    'Model': ['Simple Decision Tree', 'Tuned Decision Tree'],\n",
    "    'Accuracy': [accuracy_score(y_test, y_pred), accuracy_score(y_test, y_pred_grid)],\n",
    "    'Precision': [precision_score(y_test, y_pred), precision_score(y_test, y_pred_grid)],\n",
    "    'Recall': [recall_score(y_test, y_pred), recall_score(y_test, y_pred_grid)],\n",
    "    'F1 Score': [f1_score(y_test, y_pred), f1_score(y_test, y_pred_grid)],\n",
    "}"
   ]
  },
  {
   "cell_type": "code",
   "execution_count": 34,
   "id": "05a2c442",
   "metadata": {},
   "outputs": [],
   "source": [
    "# Convert the dictionary to a table using tabulate\n",
    "table = tabulate(metrics_dict, headers='keys', tablefmt='grid')"
   ]
  },
  {
   "cell_type": "code",
   "execution_count": 35,
   "id": "ff4f7ed6",
   "metadata": {},
   "outputs": [
    {
     "name": "stdout",
     "output_type": "stream",
     "text": [
      "+----------------------+------------+-------------+----------+------------+\n",
      "| Model                |   Accuracy |   Precision |   Recall |   F1 Score |\n",
      "+======================+============+=============+==========+============+\n",
      "| Simple Decision Tree |    0.95614 |    0.945946 | 0.985915 |   0.965517 |\n",
      "+----------------------+------------+-------------+----------+------------+\n",
      "| Tuned Decision Tree  |    0.95614 |    0.934211 | 1        |   0.965986 |\n",
      "+----------------------+------------+-------------+----------+------------+\n"
     ]
    }
   ],
   "source": [
    "# Print the table\n",
    "print(table)"
   ]
  },
  {
   "cell_type": "code",
   "execution_count": 36,
   "id": "2604acd5",
   "metadata": {},
   "outputs": [],
   "source": [
    "# Record the end time\n",
    "end_time = time.time()"
   ]
  },
  {
   "cell_type": "code",
   "execution_count": 37,
   "id": "4d254aa8",
   "metadata": {},
   "outputs": [
    {
     "name": "stdout",
     "output_type": "stream",
     "text": [
      "Execution time: 339.35 seconds\n"
     ]
    }
   ],
   "source": [
    "# Calculate the elapsed time\n",
    "elapsed_time = end_time - start_time\n",
    "\n",
    "print(f\"Execution time: {elapsed_time:.2f} seconds\")"
   ]
  },
  {
   "cell_type": "code",
   "execution_count": 38,
   "id": "82d6ad64",
   "metadata": {},
   "outputs": [
    {
     "name": "stdout",
     "output_type": "stream",
     "text": [
      "Execution time: 5.66 minutes\n"
     ]
    }
   ],
   "source": [
    "# Convert the elapsed time to minutes\n",
    "elapsed_time_minutes = elapsed_time / 60\n",
    "\n",
    "print(f\"Execution time: {elapsed_time_minutes:.2f} minutes\")"
   ]
  }
 ],
 "metadata": {
  "kernelspec": {
   "display_name": "Python 3 (ipykernel)",
   "language": "python",
   "name": "python3"
  },
  "language_info": {
   "codemirror_mode": {
    "name": "ipython",
    "version": 3
   },
   "file_extension": ".py",
   "mimetype": "text/x-python",
   "name": "python",
   "nbconvert_exporter": "python",
   "pygments_lexer": "ipython3",
   "version": "3.9.12"
  }
 },
 "nbformat": 4,
 "nbformat_minor": 5
}
