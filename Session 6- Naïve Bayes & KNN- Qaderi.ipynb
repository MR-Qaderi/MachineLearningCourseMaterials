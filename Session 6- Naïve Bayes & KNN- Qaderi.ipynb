{
 "cells": [
  {
   "cell_type": "markdown",
   "id": "4ecf82b0",
   "metadata": {},
   "source": [
    "<div style=\"background-color: rgba(247, 200, 115, 0.3); padding: 30px 0;\">\n",
    "    <div style=\"max-width: 800px; margin: 0 auto; text-align: center;\">\n",
    "        <h1 style=\"font-size: 48px; color: #cc7a00; margin-bottom: 10px;\">🚀 Machine Learning 📊</h1>\n",
    "        <h3 style=\"font-size: 28px; color: #cc7a00; margin-bottom: 10px;\">Naïve Bayes & KNN</h3>\n",
    "        <h4 style=\"font-size: 18px; color: #cc7a00;\"><a href=\"https://www.linkedin.com/in/mohammadreza-qaderi/\" style=\"color: #1e90ff; text-decoration: none;\">MohammadReza Qaderi</a></h4>\n",
    "        <h4 style=\"font-size: 18px; color: #cc7a00;\"><a href=\"https://github.com/MR-Qaderi/MachineLearningCourseMaterials\" style=\"color: #1e90ff; text-decoration: none;\">GitHub Repository</a></h4>\n",
    "    </div>\n",
    "</div>\n"
   ]
  },
  {
   "cell_type": "markdown",
   "id": "b6d173b6",
   "metadata": {},
   "source": [
    "## Naive Bayes Classification\n",
    "\n",
    "Naive Bayes is a classification algorithm based on Bayes' theorem, a fundamental probability theorem. It is particularly well-suited for text and categorical data, making it a popular choice for tasks like spam detection, sentiment analysis, and document classification. Naive Bayes is known for its simplicity, efficiency, and effectiveness in certain scenarios.\n",
    "\n",
    "### Bayes' Theorem\n",
    "\n",
    "At the core of Naive Bayes is Bayes' theorem, which relates conditional probabilities of events. The theorem is as follows:\n",
    "P(A|B) = (P(B|A) * P(A)) / P(B)\n",
    "\n",
    "Where:\n",
    "- `P(A|B)` is the probability of event A occurring given event B has occurred.\n",
    "- `P(B|A)` is the probability of event B occurring given event A has occurred.\n",
    "- `P(A)` and `P(B)` are the probabilities of events A and B occurring, respectively.\n",
    "\n",
    "<img src = \"https://editor.analyticsvidhya.com/uploads/34725nv1.png\" width=50%>\n",
    "\n",
    "### Naive Assumption\n",
    "\n",
    "The \"Naive\" in Naive Bayes refers to the assumption of feature independence. This assumption simplifies the calculations significantly. Although it's rarely true in real-world data, Naive Bayes can still perform well when this assumption is approximately met or when certain features are conditionally independent given the class.\n",
    "\n",
    "### Types of Naive Bayes\n",
    "\n",
    "There are several variants of Naive Bayes, including:\n",
    "- **Gaussian Naive Bayes**: Assumes that features follow a Gaussian (normal) distribution.\n",
    "- **Multinomial Naive Bayes**: Suitable for discrete count data, often used in text classification.\n",
    "- **Bernoulli Naive Bayes**: Specifically designed for binary or Boolean features.\n",
    "\n",
    "### Workflow\n",
    "\n",
    "The Naive Bayes classification workflow involves:\n",
    "1. **Data Preparation**: Convert categorical and text features into numerical representations using techniques like one-hot encoding or TF-IDF.\n",
    "2. **Training**: Estimate the probabilities of features given each class using training data.\n",
    "3. **Prediction**: Calculate the probabilities of each class given the features of a new instance and select the most probable class.\n",
    "\n",
    "<img src = \"https://editor.analyticsvidhya.com/uploads/30337nv.png\" width=50%>\n",
    "<img src = \"https://editor.analyticsvidhya.com/uploads/75704nv3.png\" width=50%>\n",
    "<img src = \"https://editor.analyticsvidhya.com/uploads/60483nv4.png\" width=50%>\n",
    "<img src = \"https://editor.analyticsvidhya.com/uploads/67866nv5.png\" width=50%>\n",
    "\n",
    "### Advantages\n",
    "\n",
    "Naive Bayes offers several advantages:\n",
    "- It's fast and efficient.\n",
    "- Works well with high-dimensional data.\n",
    "- Handles missing values effectively.\n",
    "- Performs surprisingly well in certain scenarios, even with the naive independence assumption.\n",
    "\n",
    "### Limitations\n",
    "\n",
    "However, Naive Bayes has limitations:\n",
    "- The naive independence assumption might not hold in many real-world cases.\n",
    "- May not perform well on highly correlated features.\n",
    "- Sensitive to irrelevant features.\n",
    "- Not suitable for tasks requiring precise probability estimates.\n",
    "\n",
    "In summary, Naive Bayes is a simple and powerful classification algorithm that relies on Bayes' theorem and the naive assumption of feature independence. It's particularly well-suited for text and categorical data and can serve as a baseline model in many classification tasks.\n"
   ]
  },
  {
   "cell_type": "markdown",
   "id": "d30ee8ba",
   "metadata": {},
   "source": [
    "## EDA"
   ]
  },
  {
   "cell_type": "code",
   "execution_count": 104,
   "id": "7ea1462c",
   "metadata": {
    "scrolled": false
   },
   "outputs": [],
   "source": [
    "import numpy as np\n",
    "import pandas as pd\n",
    "import matplotlib.pyplot as plt\n",
    "import seaborn as sns\n",
    "import warnings\n",
    "warnings.filterwarnings('ignore')"
   ]
  },
  {
   "cell_type": "code",
   "execution_count": 105,
   "id": "e1e8526f",
   "metadata": {},
   "outputs": [],
   "source": [
    "data = pd.read_csv('Social_Network_Ads.csv')"
   ]
  },
  {
   "cell_type": "code",
   "execution_count": 106,
   "id": "b7b9eae6",
   "metadata": {},
   "outputs": [
    {
     "data": {
      "text/html": [
       "<div>\n",
       "<style scoped>\n",
       "    .dataframe tbody tr th:only-of-type {\n",
       "        vertical-align: middle;\n",
       "    }\n",
       "\n",
       "    .dataframe tbody tr th {\n",
       "        vertical-align: top;\n",
       "    }\n",
       "\n",
       "    .dataframe thead th {\n",
       "        text-align: right;\n",
       "    }\n",
       "</style>\n",
       "<table border=\"1\" class=\"dataframe\">\n",
       "  <thead>\n",
       "    <tr style=\"text-align: right;\">\n",
       "      <th></th>\n",
       "      <th>User ID</th>\n",
       "      <th>Gender</th>\n",
       "      <th>Age</th>\n",
       "      <th>EstimatedSalary</th>\n",
       "      <th>Purchased</th>\n",
       "    </tr>\n",
       "  </thead>\n",
       "  <tbody>\n",
       "    <tr>\n",
       "      <th>0</th>\n",
       "      <td>15624510</td>\n",
       "      <td>Male</td>\n",
       "      <td>19</td>\n",
       "      <td>19000</td>\n",
       "      <td>0</td>\n",
       "    </tr>\n",
       "    <tr>\n",
       "      <th>1</th>\n",
       "      <td>15810944</td>\n",
       "      <td>Male</td>\n",
       "      <td>35</td>\n",
       "      <td>20000</td>\n",
       "      <td>0</td>\n",
       "    </tr>\n",
       "    <tr>\n",
       "      <th>2</th>\n",
       "      <td>15668575</td>\n",
       "      <td>Female</td>\n",
       "      <td>26</td>\n",
       "      <td>43000</td>\n",
       "      <td>0</td>\n",
       "    </tr>\n",
       "    <tr>\n",
       "      <th>3</th>\n",
       "      <td>15603246</td>\n",
       "      <td>Female</td>\n",
       "      <td>27</td>\n",
       "      <td>57000</td>\n",
       "      <td>0</td>\n",
       "    </tr>\n",
       "    <tr>\n",
       "      <th>4</th>\n",
       "      <td>15804002</td>\n",
       "      <td>Male</td>\n",
       "      <td>19</td>\n",
       "      <td>76000</td>\n",
       "      <td>0</td>\n",
       "    </tr>\n",
       "  </tbody>\n",
       "</table>\n",
       "</div>"
      ],
      "text/plain": [
       "    User ID  Gender  Age  EstimatedSalary  Purchased\n",
       "0  15624510    Male   19            19000          0\n",
       "1  15810944    Male   35            20000          0\n",
       "2  15668575  Female   26            43000          0\n",
       "3  15603246  Female   27            57000          0\n",
       "4  15804002    Male   19            76000          0"
      ]
     },
     "execution_count": 106,
     "metadata": {},
     "output_type": "execute_result"
    }
   ],
   "source": [
    "data.head()"
   ]
  },
  {
   "cell_type": "code",
   "execution_count": 107,
   "id": "ec884902",
   "metadata": {},
   "outputs": [
    {
     "name": "stdout",
     "output_type": "stream",
     "text": [
      "<class 'pandas.core.frame.DataFrame'>\n",
      "RangeIndex: 400 entries, 0 to 399\n",
      "Data columns (total 5 columns):\n",
      " #   Column           Non-Null Count  Dtype \n",
      "---  ------           --------------  ----- \n",
      " 0   User ID          400 non-null    int64 \n",
      " 1   Gender           400 non-null    object\n",
      " 2   Age              400 non-null    int64 \n",
      " 3   EstimatedSalary  400 non-null    int64 \n",
      " 4   Purchased        400 non-null    int64 \n",
      "dtypes: int64(4), object(1)\n",
      "memory usage: 15.8+ KB\n"
     ]
    }
   ],
   "source": [
    "data.info()"
   ]
  },
  {
   "cell_type": "code",
   "execution_count": 108,
   "id": "9a9c7ddb",
   "metadata": {},
   "outputs": [
    {
     "data": {
      "text/plain": [
       "0    257\n",
       "1    143\n",
       "Name: Purchased, dtype: int64"
      ]
     },
     "execution_count": 108,
     "metadata": {},
     "output_type": "execute_result"
    }
   ],
   "source": [
    "data['Purchased'].value_counts()"
   ]
  },
  {
   "cell_type": "code",
   "execution_count": 109,
   "id": "36211458",
   "metadata": {},
   "outputs": [
    {
     "data": {
      "text/html": [
       "<div>\n",
       "<style scoped>\n",
       "    .dataframe tbody tr th:only-of-type {\n",
       "        vertical-align: middle;\n",
       "    }\n",
       "\n",
       "    .dataframe tbody tr th {\n",
       "        vertical-align: top;\n",
       "    }\n",
       "\n",
       "    .dataframe thead th {\n",
       "        text-align: right;\n",
       "    }\n",
       "</style>\n",
       "<table border=\"1\" class=\"dataframe\">\n",
       "  <thead>\n",
       "    <tr style=\"text-align: right;\">\n",
       "      <th>Purchased</th>\n",
       "      <th>0</th>\n",
       "      <th>1</th>\n",
       "    </tr>\n",
       "    <tr>\n",
       "      <th>Gender</th>\n",
       "      <th></th>\n",
       "      <th></th>\n",
       "    </tr>\n",
       "  </thead>\n",
       "  <tbody>\n",
       "    <tr>\n",
       "      <th>Female</th>\n",
       "      <td>127</td>\n",
       "      <td>77</td>\n",
       "    </tr>\n",
       "    <tr>\n",
       "      <th>Male</th>\n",
       "      <td>130</td>\n",
       "      <td>66</td>\n",
       "    </tr>\n",
       "  </tbody>\n",
       "</table>\n",
       "</div>"
      ],
      "text/plain": [
       "Purchased    0   1\n",
       "Gender            \n",
       "Female     127  77\n",
       "Male       130  66"
      ]
     },
     "execution_count": 109,
     "metadata": {},
     "output_type": "execute_result"
    }
   ],
   "source": [
    "pd.crosstab(data.Gender,data.Purchased)"
   ]
  },
  {
   "cell_type": "code",
   "execution_count": 111,
   "id": "1472f18b",
   "metadata": {},
   "outputs": [
    {
     "data": {
      "text/html": [
       "<div>\n",
       "<style scoped>\n",
       "    .dataframe tbody tr th:only-of-type {\n",
       "        vertical-align: middle;\n",
       "    }\n",
       "\n",
       "    .dataframe tbody tr th {\n",
       "        vertical-align: top;\n",
       "    }\n",
       "\n",
       "    .dataframe thead th {\n",
       "        text-align: right;\n",
       "    }\n",
       "</style>\n",
       "<table border=\"1\" class=\"dataframe\">\n",
       "  <thead>\n",
       "    <tr style=\"text-align: right;\">\n",
       "      <th></th>\n",
       "      <th>Purchased</th>\n",
       "      <th>EstimatedSalary</th>\n",
       "    </tr>\n",
       "  </thead>\n",
       "  <tbody>\n",
       "    <tr>\n",
       "      <th>0</th>\n",
       "      <td>0</td>\n",
       "      <td>60544.747082</td>\n",
       "    </tr>\n",
       "    <tr>\n",
       "      <th>1</th>\n",
       "      <td>1</td>\n",
       "      <td>86272.727273</td>\n",
       "    </tr>\n",
       "  </tbody>\n",
       "</table>\n",
       "</div>"
      ],
      "text/plain": [
       "   Purchased  EstimatedSalary\n",
       "0          0     60544.747082\n",
       "1          1     86272.727273"
      ]
     },
     "execution_count": 111,
     "metadata": {},
     "output_type": "execute_result"
    }
   ],
   "source": [
    "data.groupby('Purchased')['EstimatedSalary'].mean().reset_index()"
   ]
  },
  {
   "cell_type": "code",
   "execution_count": 113,
   "id": "42f5da67",
   "metadata": {},
   "outputs": [
    {
     "data": {
      "text/html": [
       "<div>\n",
       "<style scoped>\n",
       "    .dataframe tbody tr th:only-of-type {\n",
       "        vertical-align: middle;\n",
       "    }\n",
       "\n",
       "    .dataframe tbody tr th {\n",
       "        vertical-align: top;\n",
       "    }\n",
       "\n",
       "    .dataframe thead th {\n",
       "        text-align: right;\n",
       "    }\n",
       "</style>\n",
       "<table border=\"1\" class=\"dataframe\">\n",
       "  <thead>\n",
       "    <tr style=\"text-align: right;\">\n",
       "      <th></th>\n",
       "      <th>Gender</th>\n",
       "      <th>EstimatedSalary</th>\n",
       "    </tr>\n",
       "  </thead>\n",
       "  <tbody>\n",
       "    <tr>\n",
       "      <th>0</th>\n",
       "      <td>Female</td>\n",
       "      <td>71759.803922</td>\n",
       "    </tr>\n",
       "    <tr>\n",
       "      <th>1</th>\n",
       "      <td>Male</td>\n",
       "      <td>67642.857143</td>\n",
       "    </tr>\n",
       "  </tbody>\n",
       "</table>\n",
       "</div>"
      ],
      "text/plain": [
       "   Gender  EstimatedSalary\n",
       "0  Female     71759.803922\n",
       "1    Male     67642.857143"
      ]
     },
     "execution_count": 113,
     "metadata": {},
     "output_type": "execute_result"
    }
   ],
   "source": [
    "data.groupby('Gender')['EstimatedSalary'].mean().reset_index()"
   ]
  },
  {
   "cell_type": "markdown",
   "id": "ecbccd7f",
   "metadata": {},
   "source": [
    "## Pre Processing"
   ]
  },
  {
   "cell_type": "code",
   "execution_count": 116,
   "id": "6445ce7b",
   "metadata": {},
   "outputs": [],
   "source": [
    "x = data.iloc[:, [1, 2, 3]]\n",
    "y = data.iloc[:, -1]"
   ]
  },
  {
   "cell_type": "code",
   "execution_count": 117,
   "id": "3144672a",
   "metadata": {},
   "outputs": [
    {
     "data": {
      "text/html": [
       "<div>\n",
       "<style scoped>\n",
       "    .dataframe tbody tr th:only-of-type {\n",
       "        vertical-align: middle;\n",
       "    }\n",
       "\n",
       "    .dataframe tbody tr th {\n",
       "        vertical-align: top;\n",
       "    }\n",
       "\n",
       "    .dataframe thead th {\n",
       "        text-align: right;\n",
       "    }\n",
       "</style>\n",
       "<table border=\"1\" class=\"dataframe\">\n",
       "  <thead>\n",
       "    <tr style=\"text-align: right;\">\n",
       "      <th></th>\n",
       "      <th>Gender</th>\n",
       "      <th>Age</th>\n",
       "      <th>EstimatedSalary</th>\n",
       "    </tr>\n",
       "  </thead>\n",
       "  <tbody>\n",
       "    <tr>\n",
       "      <th>0</th>\n",
       "      <td>Male</td>\n",
       "      <td>19</td>\n",
       "      <td>19000</td>\n",
       "    </tr>\n",
       "    <tr>\n",
       "      <th>1</th>\n",
       "      <td>Male</td>\n",
       "      <td>35</td>\n",
       "      <td>20000</td>\n",
       "    </tr>\n",
       "    <tr>\n",
       "      <th>2</th>\n",
       "      <td>Female</td>\n",
       "      <td>26</td>\n",
       "      <td>43000</td>\n",
       "    </tr>\n",
       "    <tr>\n",
       "      <th>3</th>\n",
       "      <td>Female</td>\n",
       "      <td>27</td>\n",
       "      <td>57000</td>\n",
       "    </tr>\n",
       "    <tr>\n",
       "      <th>4</th>\n",
       "      <td>Male</td>\n",
       "      <td>19</td>\n",
       "      <td>76000</td>\n",
       "    </tr>\n",
       "    <tr>\n",
       "      <th>...</th>\n",
       "      <td>...</td>\n",
       "      <td>...</td>\n",
       "      <td>...</td>\n",
       "    </tr>\n",
       "    <tr>\n",
       "      <th>395</th>\n",
       "      <td>Female</td>\n",
       "      <td>46</td>\n",
       "      <td>41000</td>\n",
       "    </tr>\n",
       "    <tr>\n",
       "      <th>396</th>\n",
       "      <td>Male</td>\n",
       "      <td>51</td>\n",
       "      <td>23000</td>\n",
       "    </tr>\n",
       "    <tr>\n",
       "      <th>397</th>\n",
       "      <td>Female</td>\n",
       "      <td>50</td>\n",
       "      <td>20000</td>\n",
       "    </tr>\n",
       "    <tr>\n",
       "      <th>398</th>\n",
       "      <td>Male</td>\n",
       "      <td>36</td>\n",
       "      <td>33000</td>\n",
       "    </tr>\n",
       "    <tr>\n",
       "      <th>399</th>\n",
       "      <td>Female</td>\n",
       "      <td>49</td>\n",
       "      <td>36000</td>\n",
       "    </tr>\n",
       "  </tbody>\n",
       "</table>\n",
       "<p>400 rows × 3 columns</p>\n",
       "</div>"
      ],
      "text/plain": [
       "     Gender  Age  EstimatedSalary\n",
       "0      Male   19            19000\n",
       "1      Male   35            20000\n",
       "2    Female   26            43000\n",
       "3    Female   27            57000\n",
       "4      Male   19            76000\n",
       "..      ...  ...              ...\n",
       "395  Female   46            41000\n",
       "396    Male   51            23000\n",
       "397  Female   50            20000\n",
       "398    Male   36            33000\n",
       "399  Female   49            36000\n",
       "\n",
       "[400 rows x 3 columns]"
      ]
     },
     "execution_count": 117,
     "metadata": {},
     "output_type": "execute_result"
    }
   ],
   "source": [
    "x"
   ]
  },
  {
   "cell_type": "code",
   "execution_count": 118,
   "id": "01785c51",
   "metadata": {},
   "outputs": [
    {
     "data": {
      "text/plain": [
       "0      0\n",
       "1      0\n",
       "2      0\n",
       "3      0\n",
       "4      0\n",
       "      ..\n",
       "395    1\n",
       "396    1\n",
       "397    1\n",
       "398    0\n",
       "399    1\n",
       "Name: Purchased, Length: 400, dtype: int64"
      ]
     },
     "execution_count": 118,
     "metadata": {},
     "output_type": "execute_result"
    }
   ],
   "source": [
    "y"
   ]
  },
  {
   "cell_type": "markdown",
   "id": "a6ef72f7",
   "metadata": {},
   "source": [
    "### Categorical Data"
   ]
  },
  {
   "cell_type": "code",
   "execution_count": 119,
   "id": "fb03d5e6",
   "metadata": {},
   "outputs": [
    {
     "data": {
      "text/html": [
       "<div>\n",
       "<style scoped>\n",
       "    .dataframe tbody tr th:only-of-type {\n",
       "        vertical-align: middle;\n",
       "    }\n",
       "\n",
       "    .dataframe tbody tr th {\n",
       "        vertical-align: top;\n",
       "    }\n",
       "\n",
       "    .dataframe thead th {\n",
       "        text-align: right;\n",
       "    }\n",
       "</style>\n",
       "<table border=\"1\" class=\"dataframe\">\n",
       "  <thead>\n",
       "    <tr style=\"text-align: right;\">\n",
       "      <th></th>\n",
       "      <th>Age</th>\n",
       "      <th>EstimatedSalary</th>\n",
       "      <th>Gender_Female</th>\n",
       "      <th>Gender_Male</th>\n",
       "    </tr>\n",
       "  </thead>\n",
       "  <tbody>\n",
       "    <tr>\n",
       "      <th>0</th>\n",
       "      <td>19</td>\n",
       "      <td>19000</td>\n",
       "      <td>0</td>\n",
       "      <td>1</td>\n",
       "    </tr>\n",
       "    <tr>\n",
       "      <th>1</th>\n",
       "      <td>35</td>\n",
       "      <td>20000</td>\n",
       "      <td>0</td>\n",
       "      <td>1</td>\n",
       "    </tr>\n",
       "    <tr>\n",
       "      <th>2</th>\n",
       "      <td>26</td>\n",
       "      <td>43000</td>\n",
       "      <td>1</td>\n",
       "      <td>0</td>\n",
       "    </tr>\n",
       "    <tr>\n",
       "      <th>3</th>\n",
       "      <td>27</td>\n",
       "      <td>57000</td>\n",
       "      <td>1</td>\n",
       "      <td>0</td>\n",
       "    </tr>\n",
       "    <tr>\n",
       "      <th>4</th>\n",
       "      <td>19</td>\n",
       "      <td>76000</td>\n",
       "      <td>0</td>\n",
       "      <td>1</td>\n",
       "    </tr>\n",
       "    <tr>\n",
       "      <th>...</th>\n",
       "      <td>...</td>\n",
       "      <td>...</td>\n",
       "      <td>...</td>\n",
       "      <td>...</td>\n",
       "    </tr>\n",
       "    <tr>\n",
       "      <th>395</th>\n",
       "      <td>46</td>\n",
       "      <td>41000</td>\n",
       "      <td>1</td>\n",
       "      <td>0</td>\n",
       "    </tr>\n",
       "    <tr>\n",
       "      <th>396</th>\n",
       "      <td>51</td>\n",
       "      <td>23000</td>\n",
       "      <td>0</td>\n",
       "      <td>1</td>\n",
       "    </tr>\n",
       "    <tr>\n",
       "      <th>397</th>\n",
       "      <td>50</td>\n",
       "      <td>20000</td>\n",
       "      <td>1</td>\n",
       "      <td>0</td>\n",
       "    </tr>\n",
       "    <tr>\n",
       "      <th>398</th>\n",
       "      <td>36</td>\n",
       "      <td>33000</td>\n",
       "      <td>0</td>\n",
       "      <td>1</td>\n",
       "    </tr>\n",
       "    <tr>\n",
       "      <th>399</th>\n",
       "      <td>49</td>\n",
       "      <td>36000</td>\n",
       "      <td>1</td>\n",
       "      <td>0</td>\n",
       "    </tr>\n",
       "  </tbody>\n",
       "</table>\n",
       "<p>400 rows × 4 columns</p>\n",
       "</div>"
      ],
      "text/plain": [
       "     Age  EstimatedSalary  Gender_Female  Gender_Male\n",
       "0     19            19000              0            1\n",
       "1     35            20000              0            1\n",
       "2     26            43000              1            0\n",
       "3     27            57000              1            0\n",
       "4     19            76000              0            1\n",
       "..   ...              ...            ...          ...\n",
       "395   46            41000              1            0\n",
       "396   51            23000              0            1\n",
       "397   50            20000              1            0\n",
       "398   36            33000              0            1\n",
       "399   49            36000              1            0\n",
       "\n",
       "[400 rows x 4 columns]"
      ]
     },
     "execution_count": 119,
     "metadata": {},
     "output_type": "execute_result"
    }
   ],
   "source": [
    "# Perform one-hot encoding using pandas' get_dummies function\n",
    "x = pd.get_dummies(x, columns=[\"Gender\"])\n",
    "\n",
    "x"
   ]
  },
  {
   "cell_type": "code",
   "execution_count": 121,
   "id": "a446a8b6",
   "metadata": {},
   "outputs": [],
   "source": [
    "from sklearn.model_selection import train_test_split\n",
    "x_train, x_test, y_train, y_test = train_test_split(x, y, test_size = 0.25, random_state = 42)"
   ]
  },
  {
   "cell_type": "code",
   "execution_count": 125,
   "id": "90849245",
   "metadata": {
    "scrolled": false
   },
   "outputs": [
    {
     "data": {
      "text/html": [
       "<div>\n",
       "<style scoped>\n",
       "    .dataframe tbody tr th:only-of-type {\n",
       "        vertical-align: middle;\n",
       "    }\n",
       "\n",
       "    .dataframe tbody tr th {\n",
       "        vertical-align: top;\n",
       "    }\n",
       "\n",
       "    .dataframe thead th {\n",
       "        text-align: right;\n",
       "    }\n",
       "</style>\n",
       "<table border=\"1\" class=\"dataframe\">\n",
       "  <thead>\n",
       "    <tr style=\"text-align: right;\">\n",
       "      <th></th>\n",
       "      <th>Age</th>\n",
       "      <th>EstimatedSalary</th>\n",
       "      <th>Gender_Female</th>\n",
       "      <th>Gender_Male</th>\n",
       "    </tr>\n",
       "  </thead>\n",
       "  <tbody>\n",
       "    <tr>\n",
       "      <th>209</th>\n",
       "      <td>46</td>\n",
       "      <td>22000</td>\n",
       "      <td>1</td>\n",
       "      <td>0</td>\n",
       "    </tr>\n",
       "    <tr>\n",
       "      <th>280</th>\n",
       "      <td>59</td>\n",
       "      <td>88000</td>\n",
       "      <td>1</td>\n",
       "      <td>0</td>\n",
       "    </tr>\n",
       "    <tr>\n",
       "      <th>33</th>\n",
       "      <td>28</td>\n",
       "      <td>44000</td>\n",
       "      <td>1</td>\n",
       "      <td>0</td>\n",
       "    </tr>\n",
       "    <tr>\n",
       "      <th>210</th>\n",
       "      <td>48</td>\n",
       "      <td>96000</td>\n",
       "      <td>1</td>\n",
       "      <td>0</td>\n",
       "    </tr>\n",
       "    <tr>\n",
       "      <th>93</th>\n",
       "      <td>29</td>\n",
       "      <td>28000</td>\n",
       "      <td>1</td>\n",
       "      <td>0</td>\n",
       "    </tr>\n",
       "    <tr>\n",
       "      <th>...</th>\n",
       "      <td>...</td>\n",
       "      <td>...</td>\n",
       "      <td>...</td>\n",
       "      <td>...</td>\n",
       "    </tr>\n",
       "    <tr>\n",
       "      <th>314</th>\n",
       "      <td>39</td>\n",
       "      <td>79000</td>\n",
       "      <td>1</td>\n",
       "      <td>0</td>\n",
       "    </tr>\n",
       "    <tr>\n",
       "      <th>373</th>\n",
       "      <td>59</td>\n",
       "      <td>130000</td>\n",
       "      <td>0</td>\n",
       "      <td>1</td>\n",
       "    </tr>\n",
       "    <tr>\n",
       "      <th>380</th>\n",
       "      <td>42</td>\n",
       "      <td>64000</td>\n",
       "      <td>0</td>\n",
       "      <td>1</td>\n",
       "    </tr>\n",
       "    <tr>\n",
       "      <th>239</th>\n",
       "      <td>53</td>\n",
       "      <td>143000</td>\n",
       "      <td>1</td>\n",
       "      <td>0</td>\n",
       "    </tr>\n",
       "    <tr>\n",
       "      <th>75</th>\n",
       "      <td>34</td>\n",
       "      <td>112000</td>\n",
       "      <td>0</td>\n",
       "      <td>1</td>\n",
       "    </tr>\n",
       "  </tbody>\n",
       "</table>\n",
       "<p>100 rows × 4 columns</p>\n",
       "</div>"
      ],
      "text/plain": [
       "     Age  EstimatedSalary  Gender_Female  Gender_Male\n",
       "209   46            22000              1            0\n",
       "280   59            88000              1            0\n",
       "33    28            44000              1            0\n",
       "210   48            96000              1            0\n",
       "93    29            28000              1            0\n",
       "..   ...              ...            ...          ...\n",
       "314   39            79000              1            0\n",
       "373   59           130000              0            1\n",
       "380   42            64000              0            1\n",
       "239   53           143000              1            0\n",
       "75    34           112000              0            1\n",
       "\n",
       "[100 rows x 4 columns]"
      ]
     },
     "execution_count": 125,
     "metadata": {},
     "output_type": "execute_result"
    }
   ],
   "source": [
    "x_test"
   ]
  },
  {
   "cell_type": "code",
   "execution_count": 127,
   "id": "c07c061d",
   "metadata": {},
   "outputs": [],
   "source": [
    "from sklearn.preprocessing import StandardScaler\n",
    "# Columns to be scaled\n",
    "numerical_columns = ['Age', 'EstimatedSalary']\n",
    "\n",
    "# Initialize the scaler\n",
    "scaler = StandardScaler()\n",
    "\n",
    "# Fit and transform the scaler on x_train\n",
    "x_train_scaled = x_train.copy()\n",
    "x_train_scaled[numerical_columns] = scaler.fit_transform(x_train[numerical_columns])\n",
    "\n",
    "# Transform the scaler on x_test\n",
    "x_test_scaled = x_test.copy()\n",
    "x_test_scaled[numerical_columns] = scaler.transform(x_test[numerical_columns])"
   ]
  },
  {
   "cell_type": "code",
   "execution_count": 69,
   "id": "0dbbcdee",
   "metadata": {},
   "outputs": [],
   "source": [
    "# sc = StandardScaler()\n",
    "# x_train = sc.fit_transform(x_train)\n",
    "# x_test = sc.transform(x_test)"
   ]
  },
  {
   "cell_type": "code",
   "execution_count": 128,
   "id": "258de258",
   "metadata": {},
   "outputs": [
    {
     "data": {
      "text/html": [
       "<div>\n",
       "<style scoped>\n",
       "    .dataframe tbody tr th:only-of-type {\n",
       "        vertical-align: middle;\n",
       "    }\n",
       "\n",
       "    .dataframe tbody tr th {\n",
       "        vertical-align: top;\n",
       "    }\n",
       "\n",
       "    .dataframe thead th {\n",
       "        text-align: right;\n",
       "    }\n",
       "</style>\n",
       "<table border=\"1\" class=\"dataframe\">\n",
       "  <thead>\n",
       "    <tr style=\"text-align: right;\">\n",
       "      <th></th>\n",
       "      <th>Age</th>\n",
       "      <th>EstimatedSalary</th>\n",
       "      <th>Gender_Female</th>\n",
       "      <th>Gender_Male</th>\n",
       "    </tr>\n",
       "  </thead>\n",
       "  <tbody>\n",
       "    <tr>\n",
       "      <th>247</th>\n",
       "      <td>1.892589</td>\n",
       "      <td>1.521894</td>\n",
       "      <td>1</td>\n",
       "      <td>0</td>\n",
       "    </tr>\n",
       "    <tr>\n",
       "      <th>110</th>\n",
       "      <td>0.125038</td>\n",
       "      <td>0.032132</td>\n",
       "      <td>1</td>\n",
       "      <td>0</td>\n",
       "    </tr>\n",
       "    <tr>\n",
       "      <th>16</th>\n",
       "      <td>0.910616</td>\n",
       "      <td>-1.311575</td>\n",
       "      <td>0</td>\n",
       "      <td>1</td>\n",
       "    </tr>\n",
       "    <tr>\n",
       "      <th>66</th>\n",
       "      <td>-1.347922</td>\n",
       "      <td>-1.486841</td>\n",
       "      <td>0</td>\n",
       "      <td>1</td>\n",
       "    </tr>\n",
       "    <tr>\n",
       "      <th>153</th>\n",
       "      <td>-0.169554</td>\n",
       "      <td>-0.581299</td>\n",
       "      <td>1</td>\n",
       "      <td>0</td>\n",
       "    </tr>\n",
       "    <tr>\n",
       "      <th>...</th>\n",
       "      <td>...</td>\n",
       "      <td>...</td>\n",
       "      <td>...</td>\n",
       "      <td>...</td>\n",
       "    </tr>\n",
       "    <tr>\n",
       "      <th>71</th>\n",
       "      <td>-1.347922</td>\n",
       "      <td>-1.253153</td>\n",
       "      <td>1</td>\n",
       "      <td>0</td>\n",
       "    </tr>\n",
       "    <tr>\n",
       "      <th>106</th>\n",
       "      <td>-1.151527</td>\n",
       "      <td>-1.019465</td>\n",
       "      <td>1</td>\n",
       "      <td>0</td>\n",
       "    </tr>\n",
       "    <tr>\n",
       "      <th>270</th>\n",
       "      <td>0.517827</td>\n",
       "      <td>1.843215</td>\n",
       "      <td>1</td>\n",
       "      <td>0</td>\n",
       "    </tr>\n",
       "    <tr>\n",
       "      <th>348</th>\n",
       "      <td>0.125038</td>\n",
       "      <td>0.207398</td>\n",
       "      <td>0</td>\n",
       "      <td>1</td>\n",
       "    </tr>\n",
       "    <tr>\n",
       "      <th>102</th>\n",
       "      <td>-0.562343</td>\n",
       "      <td>0.470297</td>\n",
       "      <td>1</td>\n",
       "      <td>0</td>\n",
       "    </tr>\n",
       "  </tbody>\n",
       "</table>\n",
       "<p>300 rows × 4 columns</p>\n",
       "</div>"
      ],
      "text/plain": [
       "          Age  EstimatedSalary  Gender_Female  Gender_Male\n",
       "247  1.892589         1.521894              1            0\n",
       "110  0.125038         0.032132              1            0\n",
       "16   0.910616        -1.311575              0            1\n",
       "66  -1.347922        -1.486841              0            1\n",
       "153 -0.169554        -0.581299              1            0\n",
       "..        ...              ...            ...          ...\n",
       "71  -1.347922        -1.253153              1            0\n",
       "106 -1.151527        -1.019465              1            0\n",
       "270  0.517827         1.843215              1            0\n",
       "348  0.125038         0.207398              0            1\n",
       "102 -0.562343         0.470297              1            0\n",
       "\n",
       "[300 rows x 4 columns]"
      ]
     },
     "execution_count": 128,
     "metadata": {},
     "output_type": "execute_result"
    }
   ],
   "source": [
    "x_train_scaled"
   ]
  },
  {
   "cell_type": "code",
   "execution_count": 130,
   "id": "fbf29217",
   "metadata": {},
   "outputs": [
    {
     "name": "stdout",
     "output_type": "stream",
     "text": [
      "Accuracy: 0.91\n"
     ]
    }
   ],
   "source": [
    "from sklearn.naive_bayes import GaussianNB\n",
    "from sklearn.metrics import accuracy_score, precision_score, recall_score, f1_score, confusion_matrix\n",
    "\n",
    "# Initialize the Gaussian Naïve Bayes classifier\n",
    "naive_bayes_classifier = GaussianNB()\n",
    "\n",
    "# Train the classifier on the scaled training data\n",
    "naive_bayes_classifier.fit(x_train_scaled, y_train)\n",
    "\n",
    "# Predict on the scaled test data\n",
    "y_pred = naive_bayes_classifier.predict(x_test_scaled)\n",
    "\n",
    "# Calculate evaluation metrics\n",
    "accuracy = accuracy_score(y_test, y_pred)\n",
    "precision = precision_score(y_test, y_pred)\n",
    "recall = recall_score(y_test, y_pred)\n",
    "f1 = f1_score(y_test, y_pred)\n",
    "conf_matrix = confusion_matrix(y_test, y_pred)\n",
    "\n",
    "# Print evaluation metrics\n",
    "print(\"Accuracy:\", accuracy)"
   ]
  },
  {
   "cell_type": "markdown",
   "id": "9005e4ad",
   "metadata": {},
   "source": [
    "### Evaluation Metrics Explanation and Formulas\n",
    "\n",
    "- **Accuracy**:\n",
    "  - **Meaning**: Accuracy measures the proportion of correctly predicted instances out of the total instances. It provides a general assessment of the model's correctness.\n",
    "  - **Formula**: (TP + TN) / (TP + TN + FP + FN)\n",
    "    - TP: True Positives\n",
    "    - TN: True Negatives\n",
    "    - FP: False Positives\n",
    "    - FN: False Negatives\n",
    "      <img src = \"https://www.sarthaks.com/?qa=blob&qa_blobid=15940634805819742480\" width=50%>\n",
    "    \n",
    "\n",
    "- **Precision**:\n",
    "  - **Meaning**: Precision measures the ratio of correctly predicted positive instances to the total predicted positive instances. It assesses the model's ability to avoid false positives.\n",
    "  - **Formula**: TP / (TP + FP)\n",
    "    - TP: True Positives\n",
    "    - FP: False Positives\n",
    "\n",
    "- **Recall**:\n",
    "  - **Meaning**: Recall, also known as sensitivity or true positive rate, measures the ratio of correctly predicted positive instances to the actual positive instances. It gauges the model's ability to capture all positive instances.\n",
    "  - **Formula**: TP / (TP + FN)\n",
    "    - TP: True Positives\n",
    "    - FN: False Negatives\n",
    "      <img src = \"https://assets-global.website-files.com/5d7b77b063a9066d83e1209c/639c3cc56bda8713d4a2f29c_precision-recall.webp\" width=50%>\n",
    "\n",
    "- **F1-score**:\n",
    "  - **Meaning**: F1-score is the harmonic mean of precision and recall. It provides a balanced metric that considers both false positives and false negatives.\n",
    "  - **Formula**: 2 * (Precision * Recall) / (Precision + Recall)\n",
    "    - Precision: Precision metric value\n",
    "    - Recall: Recall metric value\n",
    "       <img src = \"https://hasty.ai/media/pages/docs/mp-wiki/metrics/f-beta-score/f251ccbadc-1684142768/snimok-ekrana-2022-06-10-v-12-51-17.webp\" width=50%>\n",
    "\n",
    "- **Confusion Matrix**:\n",
    "  - **Meaning**: The confusion matrix provides a tabular representation of the model's predictions versus actual outcomes. It helps visualize different types of prediction results.\n",
    "  - **Formula**: Not applicable; it's a matrix of observed counts.\n",
    "  <img src = \"https://research.aimultiple.com/wp-content/uploads/2019/07/positive-negative-true-false-matrix.png\" width=50%>\n",
    "\n",
    "Each metric and its formula serves a specific purpose in assessing the performance of classification models. Accuracy gives a holistic view, precision emphasizes minimizing false positives, recall focuses on capturing positives, and the F1-score balances precision and recall. The confusion matrix offers a comprehensive summary of predictions.\n"
   ]
  },
  {
   "cell_type": "markdown",
   "id": "582c1efb",
   "metadata": {},
   "source": [
    "## Evaluation"
   ]
  },
  {
   "cell_type": "code",
   "execution_count": 132,
   "id": "2ae5b541",
   "metadata": {},
   "outputs": [
    {
     "name": "stdout",
     "output_type": "stream",
     "text": [
      "Accuracy: 0.91\n",
      "Precision: 0.9375\n",
      "Recall: 0.8108108108108109\n",
      "F1-score: 0.8695652173913043\n",
      "Confusion Matrix:\n",
      "[[61  2]\n",
      " [ 7 30]]\n",
      "\n",
      "Classification Report:\n",
      "              precision    recall  f1-score   support\n",
      "\n",
      "           0       0.90      0.97      0.93        63\n",
      "           1       0.94      0.81      0.87        37\n",
      "\n",
      "    accuracy                           0.91       100\n",
      "   macro avg       0.92      0.89      0.90       100\n",
      "weighted avg       0.91      0.91      0.91       100\n",
      "\n"
     ]
    }
   ],
   "source": [
    "from sklearn.metrics import classification_report\n",
    "\n",
    "# Calculate evaluation metrics\n",
    "accuracy = accuracy_score(y_test, y_pred)\n",
    "precision = precision_score(y_test, y_pred)\n",
    "recall = recall_score(y_test, y_pred)\n",
    "f1 = f1_score(y_test, y_pred)\n",
    "conf_matrix = confusion_matrix(y_test, y_pred)\n",
    "\n",
    "# Print evaluation metrics\n",
    "print(\"Accuracy:\", accuracy)\n",
    "print(\"Precision:\", precision)\n",
    "print(\"Recall:\", recall)\n",
    "print(\"F1-score:\", f1)\n",
    "print(\"Confusion Matrix:\")\n",
    "print(conf_matrix)\n",
    "\n",
    "# Print classification report\n",
    "print(\"\\nClassification Report:\")\n",
    "print(classification_report(y_test, y_pred))"
   ]
  },
  {
   "cell_type": "code",
   "execution_count": 134,
   "id": "b521ee70",
   "metadata": {},
   "outputs": [
    {
     "data": {
      "image/png": "[encoded data removed]",
      "text/plain": [
       "<Figure size 576x432 with 1 Axes>"
      ]
     },
     "metadata": {
      "needs_background": "light"
     },
     "output_type": "display_data"
    }
   ],
   "source": [
    "# Calculate the confusion matrix\n",
    "conf_matrix = confusion_matrix(y_test, y_pred)\n",
    "\n",
    "# Plot the confusion matrix as a heatmap\n",
    "plt.figure(figsize=(8, 6))\n",
    "sns.heatmap(conf_matrix, annot=True, fmt=\"d\", cmap=\"Blues\", cbar=False)\n",
    "plt.xlabel(\"Predicted\")\n",
    "plt.ylabel(\"Actual\")\n",
    "plt.title(\"Confusion Matrix\")\n",
    "plt.show()"
   ]
  },
  {
   "cell_type": "markdown",
   "id": "bef3f9be",
   "metadata": {},
   "source": [
    "# KNN(K-Nearest Neighbors)"
   ]
  },
  {
   "cell_type": "markdown",
   "id": "4afe70ed",
   "metadata": {},
   "source": [
    "<img src = \"https://www.jcchouinard.com/wp-content/uploads/2021/08/image-8.png\" width=50%>"
   ]
  },
  {
   "cell_type": "markdown",
   "id": "40d6b33a",
   "metadata": {},
   "source": [
    "<img src = \"https://www.saedsayad.com/images/KNN_similarity.png\" width=50%>"
   ]
  },
  {
   "cell_type": "markdown",
   "id": "77e5417d",
   "metadata": {},
   "source": [
    "<img src = \"https://i.postimg.cc/SQLhv9Dn/1-v-At-QZb-ROu-Tdp36a-QQ8cq-BA.png\" width=75%>"
   ]
  },
  {
   "cell_type": "markdown",
   "id": "7ff20030",
   "metadata": {},
   "source": [
    "<img src = \"https://static.javatpoint.com/tutorial/machine-learning/images/k-nearest-neighbor-algorithm-for-machine-learning2.png\" width=50%>"
   ]
  },
  {
   "cell_type": "code",
   "execution_count": 135,
   "id": "510bb194",
   "metadata": {},
   "outputs": [],
   "source": [
    "import pandas as pd\n",
    "import numpy as np\n",
    "from sklearn.model_selection import train_test_split\n",
    "from sklearn.preprocessing import StandardScaler, OneHotEncoder\n",
    "from sklearn.compose import ColumnTransformer\n",
    "from sklearn.neighbors import KNeighborsClassifier\n",
    "from sklearn.metrics import accuracy_score, classification_report, confusion_matrix\n",
    "import matplotlib.pyplot as plt\n",
    "import seaborn as sns"
   ]
  },
  {
   "cell_type": "code",
   "execution_count": 136,
   "id": "033f4d9c",
   "metadata": {
    "scrolled": false
   },
   "outputs": [
    {
     "data": {
      "text/html": [
       "<div>\n",
       "<style scoped>\n",
       "    .dataframe tbody tr th:only-of-type {\n",
       "        vertical-align: middle;\n",
       "    }\n",
       "\n",
       "    .dataframe tbody tr th {\n",
       "        vertical-align: top;\n",
       "    }\n",
       "\n",
       "    .dataframe thead th {\n",
       "        text-align: right;\n",
       "    }\n",
       "</style>\n",
       "<table border=\"1\" class=\"dataframe\">\n",
       "  <thead>\n",
       "    <tr style=\"text-align: right;\">\n",
       "      <th></th>\n",
       "      <th>User ID</th>\n",
       "      <th>Gender</th>\n",
       "      <th>Age</th>\n",
       "      <th>EstimatedSalary</th>\n",
       "      <th>Purchased</th>\n",
       "    </tr>\n",
       "  </thead>\n",
       "  <tbody>\n",
       "    <tr>\n",
       "      <th>0</th>\n",
       "      <td>15624510</td>\n",
       "      <td>Male</td>\n",
       "      <td>19</td>\n",
       "      <td>19000</td>\n",
       "      <td>0</td>\n",
       "    </tr>\n",
       "    <tr>\n",
       "      <th>1</th>\n",
       "      <td>15810944</td>\n",
       "      <td>Male</td>\n",
       "      <td>35</td>\n",
       "      <td>20000</td>\n",
       "      <td>0</td>\n",
       "    </tr>\n",
       "    <tr>\n",
       "      <th>2</th>\n",
       "      <td>15668575</td>\n",
       "      <td>Female</td>\n",
       "      <td>26</td>\n",
       "      <td>43000</td>\n",
       "      <td>0</td>\n",
       "    </tr>\n",
       "    <tr>\n",
       "      <th>3</th>\n",
       "      <td>15603246</td>\n",
       "      <td>Female</td>\n",
       "      <td>27</td>\n",
       "      <td>57000</td>\n",
       "      <td>0</td>\n",
       "    </tr>\n",
       "    <tr>\n",
       "      <th>4</th>\n",
       "      <td>15804002</td>\n",
       "      <td>Male</td>\n",
       "      <td>19</td>\n",
       "      <td>76000</td>\n",
       "      <td>0</td>\n",
       "    </tr>\n",
       "    <tr>\n",
       "      <th>...</th>\n",
       "      <td>...</td>\n",
       "      <td>...</td>\n",
       "      <td>...</td>\n",
       "      <td>...</td>\n",
       "      <td>...</td>\n",
       "    </tr>\n",
       "    <tr>\n",
       "      <th>395</th>\n",
       "      <td>15691863</td>\n",
       "      <td>Female</td>\n",
       "      <td>46</td>\n",
       "      <td>41000</td>\n",
       "      <td>1</td>\n",
       "    </tr>\n",
       "    <tr>\n",
       "      <th>396</th>\n",
       "      <td>15706071</td>\n",
       "      <td>Male</td>\n",
       "      <td>51</td>\n",
       "      <td>23000</td>\n",
       "      <td>1</td>\n",
       "    </tr>\n",
       "    <tr>\n",
       "      <th>397</th>\n",
       "      <td>15654296</td>\n",
       "      <td>Female</td>\n",
       "      <td>50</td>\n",
       "      <td>20000</td>\n",
       "      <td>1</td>\n",
       "    </tr>\n",
       "    <tr>\n",
       "      <th>398</th>\n",
       "      <td>15755018</td>\n",
       "      <td>Male</td>\n",
       "      <td>36</td>\n",
       "      <td>33000</td>\n",
       "      <td>0</td>\n",
       "    </tr>\n",
       "    <tr>\n",
       "      <th>399</th>\n",
       "      <td>15594041</td>\n",
       "      <td>Female</td>\n",
       "      <td>49</td>\n",
       "      <td>36000</td>\n",
       "      <td>1</td>\n",
       "    </tr>\n",
       "  </tbody>\n",
       "</table>\n",
       "<p>400 rows × 5 columns</p>\n",
       "</div>"
      ],
      "text/plain": [
       "      User ID  Gender  Age  EstimatedSalary  Purchased\n",
       "0    15624510    Male   19            19000          0\n",
       "1    15810944    Male   35            20000          0\n",
       "2    15668575  Female   26            43000          0\n",
       "3    15603246  Female   27            57000          0\n",
       "4    15804002    Male   19            76000          0\n",
       "..        ...     ...  ...              ...        ...\n",
       "395  15691863  Female   46            41000          1\n",
       "396  15706071    Male   51            23000          1\n",
       "397  15654296  Female   50            20000          1\n",
       "398  15755018    Male   36            33000          0\n",
       "399  15594041  Female   49            36000          1\n",
       "\n",
       "[400 rows x 5 columns]"
      ]
     },
     "execution_count": 136,
     "metadata": {},
     "output_type": "execute_result"
    }
   ],
   "source": [
    "# Load the dataset\n",
    "data = pd.read_csv(\"Social_Network_Ads.csv\")\n",
    "data"
   ]
  },
  {
   "cell_type": "code",
   "execution_count": 138,
   "id": "9f9cb6c9",
   "metadata": {},
   "outputs": [],
   "source": [
    "# Select features and target variable\n",
    "X = data[['Gender', 'Age', 'EstimatedSalary']]\n",
    "y = data['Purchased']"
   ]
  },
  {
   "cell_type": "code",
   "execution_count": 139,
   "id": "30afcfe6",
   "metadata": {},
   "outputs": [
    {
     "data": {
      "text/html": [
       "<div>\n",
       "<style scoped>\n",
       "    .dataframe tbody tr th:only-of-type {\n",
       "        vertical-align: middle;\n",
       "    }\n",
       "\n",
       "    .dataframe tbody tr th {\n",
       "        vertical-align: top;\n",
       "    }\n",
       "\n",
       "    .dataframe thead th {\n",
       "        text-align: right;\n",
       "    }\n",
       "</style>\n",
       "<table border=\"1\" class=\"dataframe\">\n",
       "  <thead>\n",
       "    <tr style=\"text-align: right;\">\n",
       "      <th></th>\n",
       "      <th>Gender</th>\n",
       "      <th>Age</th>\n",
       "      <th>EstimatedSalary</th>\n",
       "    </tr>\n",
       "  </thead>\n",
       "  <tbody>\n",
       "    <tr>\n",
       "      <th>0</th>\n",
       "      <td>Male</td>\n",
       "      <td>19</td>\n",
       "      <td>19000</td>\n",
       "    </tr>\n",
       "    <tr>\n",
       "      <th>1</th>\n",
       "      <td>Male</td>\n",
       "      <td>35</td>\n",
       "      <td>20000</td>\n",
       "    </tr>\n",
       "    <tr>\n",
       "      <th>2</th>\n",
       "      <td>Female</td>\n",
       "      <td>26</td>\n",
       "      <td>43000</td>\n",
       "    </tr>\n",
       "    <tr>\n",
       "      <th>3</th>\n",
       "      <td>Female</td>\n",
       "      <td>27</td>\n",
       "      <td>57000</td>\n",
       "    </tr>\n",
       "    <tr>\n",
       "      <th>4</th>\n",
       "      <td>Male</td>\n",
       "      <td>19</td>\n",
       "      <td>76000</td>\n",
       "    </tr>\n",
       "    <tr>\n",
       "      <th>...</th>\n",
       "      <td>...</td>\n",
       "      <td>...</td>\n",
       "      <td>...</td>\n",
       "    </tr>\n",
       "    <tr>\n",
       "      <th>395</th>\n",
       "      <td>Female</td>\n",
       "      <td>46</td>\n",
       "      <td>41000</td>\n",
       "    </tr>\n",
       "    <tr>\n",
       "      <th>396</th>\n",
       "      <td>Male</td>\n",
       "      <td>51</td>\n",
       "      <td>23000</td>\n",
       "    </tr>\n",
       "    <tr>\n",
       "      <th>397</th>\n",
       "      <td>Female</td>\n",
       "      <td>50</td>\n",
       "      <td>20000</td>\n",
       "    </tr>\n",
       "    <tr>\n",
       "      <th>398</th>\n",
       "      <td>Male</td>\n",
       "      <td>36</td>\n",
       "      <td>33000</td>\n",
       "    </tr>\n",
       "    <tr>\n",
       "      <th>399</th>\n",
       "      <td>Female</td>\n",
       "      <td>49</td>\n",
       "      <td>36000</td>\n",
       "    </tr>\n",
       "  </tbody>\n",
       "</table>\n",
       "<p>400 rows × 3 columns</p>\n",
       "</div>"
      ],
      "text/plain": [
       "     Gender  Age  EstimatedSalary\n",
       "0      Male   19            19000\n",
       "1      Male   35            20000\n",
       "2    Female   26            43000\n",
       "3    Female   27            57000\n",
       "4      Male   19            76000\n",
       "..      ...  ...              ...\n",
       "395  Female   46            41000\n",
       "396    Male   51            23000\n",
       "397  Female   50            20000\n",
       "398    Male   36            33000\n",
       "399  Female   49            36000\n",
       "\n",
       "[400 rows x 3 columns]"
      ]
     },
     "execution_count": 139,
     "metadata": {},
     "output_type": "execute_result"
    }
   ],
   "source": [
    "X"
   ]
  },
  {
   "cell_type": "code",
   "execution_count": 140,
   "id": "b1f96187",
   "metadata": {},
   "outputs": [],
   "source": [
    "# Split the data into training and testing sets\n",
    "X_train, X_test, y_train, y_test = train_test_split(X, y, test_size=0.2, random_state=42)"
   ]
  },
  {
   "cell_type": "code",
   "execution_count": 142,
   "id": "8258c785",
   "metadata": {},
   "outputs": [],
   "source": [
    "# Feature scaling and one-hot encoding\n",
    "column_transformer = ColumnTransformer(transformers=[\n",
    "    ('scaler', StandardScaler(), ['Age', 'EstimatedSalary']),\n",
    "    ('encoder', OneHotEncoder(drop='first'), ['Gender'])\n",
    "])\n",
    "X_train_scaled_encoded = column_transformer.fit_transform(X_train)\n",
    "X_test_scaled_encoded = column_transformer.transform(X_test)"
   ]
  },
  {
   "cell_type": "code",
   "execution_count": 145,
   "id": "e38cab67",
   "metadata": {
    "scrolled": false
   },
   "outputs": [
    {
     "data": {
      "text/plain": [
       "array([[ 1.0918958 ,  0.45724994,  1.        ],\n",
       "       [ 0.11069205,  0.25362372,  0.        ],\n",
       "       [-1.45923396, -1.22993871,  0.        ]])"
      ]
     },
     "execution_count": 145,
     "metadata": {},
     "output_type": "execute_result"
    }
   ],
   "source": [
    "X_train_scaled_encoded[[10,15,45]]"
   ]
  },
  {
   "cell_type": "code",
   "execution_count": 159,
   "id": "35ab2250",
   "metadata": {},
   "outputs": [],
   "source": [
    "# Initialize the KNN classifier\n",
    "knn_classifier = KNeighborsClassifier(n_neighbors = 9)\n",
    "\n",
    "# Train the KNN classifier\n",
    "knn_classifier.fit(X_train_scaled_encoded, y_train)\n",
    "\n",
    "# Predict on the test set\n",
    "y_pred = knn_classifier.predict(X_test_scaled_encoded)"
   ]
  },
  {
   "cell_type": "code",
   "execution_count": 160,
   "id": "d1357573",
   "metadata": {},
   "outputs": [
    {
     "name": "stdout",
     "output_type": "stream",
     "text": [
      "Accuracy: 0.9375\n"
     ]
    }
   ],
   "source": [
    "# Calculate accuracy\n",
    "accuracy = accuracy_score(y_test, y_pred)\n",
    "print(\"Accuracy:\", accuracy)"
   ]
  },
  {
   "cell_type": "code",
   "execution_count": 161,
   "id": "ed6f5f8a",
   "metadata": {},
   "outputs": [
    {
     "name": "stdout",
     "output_type": "stream",
     "text": [
      "\n",
      "Classification Report:\n",
      "               precision    recall  f1-score   support\n",
      "\n",
      "Not Purchased       0.96      0.94      0.95        52\n",
      "    Purchased       0.90      0.93      0.91        28\n",
      "\n",
      "     accuracy                           0.94        80\n",
      "    macro avg       0.93      0.94      0.93        80\n",
      " weighted avg       0.94      0.94      0.94        80\n",
      "\n"
     ]
    }
   ],
   "source": [
    "# Generate classification report\n",
    "class_names = [\"Not Purchased\", \"Purchased\"]\n",
    "print(\"\\nClassification Report:\")\n",
    "print(classification_report(y_test, y_pred, target_names=class_names))"
   ]
  },
  {
   "cell_type": "code",
   "execution_count": 162,
   "id": "966f38e5",
   "metadata": {},
   "outputs": [
    {
     "data": {
      "image/png": "[encoded data removed]",
      "text/plain": [
       "<Figure size 576x432 with 1 Axes>"
      ]
     },
     "metadata": {
      "needs_background": "light"
     },
     "output_type": "display_data"
    }
   ],
   "source": [
    "# Generate confusion matrix as a heatmap\n",
    "conf_matrix = confusion_matrix(y_test, y_pred)\n",
    "plt.figure(figsize=(8, 6))\n",
    "sns.heatmap(conf_matrix, annot=True, fmt=\"d\", cmap=\"Blues\", cbar=False,\n",
    "            xticklabels=class_names, yticklabels=class_names)\n",
    "plt.xlabel(\"Predicted\")\n",
    "plt.ylabel(\"Actual\")\n",
    "plt.title(\"Confusion Matrix\")\n",
    "plt.show()"
   ]
  },
  {
   "cell_type": "code",
   "execution_count": 163,
   "id": "e7aedb21",
   "metadata": {
    "scrolled": false
   },
   "outputs": [
    {
     "data": {
      "image/png": "[encoded data removed]",
      "text/plain": [
       "<Figure size 720x432 with 1 Axes>"
      ]
     },
     "metadata": {
      "needs_background": "light"
     },
     "output_type": "display_data"
    }
   ],
   "source": [
    "# Find the best n_neighbors\n",
    "max_neighbors = 20\n",
    "accuracy_scores = []\n",
    "\n",
    "for n_neighbors in range(1, max_neighbors + 1):\n",
    "    knn_classifier = KNeighborsClassifier(n_neighbors=n_neighbors)\n",
    "    knn_classifier.fit(X_train_scaled_encoded, y_train)\n",
    "    y_pred = knn_classifier.predict(X_test_scaled_encoded)\n",
    "    accuracy = accuracy_score(y_test, y_pred)\n",
    "    accuracy_scores.append(accuracy)\n",
    "\n",
    "# Plot the accuracy scores\n",
    "plt.figure(figsize=(10, 6))\n",
    "plt.plot(range(1, max_neighbors + 1), accuracy_scores, marker='o')\n",
    "plt.title(\"Accuracy vs. Number of Neighbors\")\n",
    "plt.xlabel(\"Number of Neighbors\")\n",
    "plt.ylabel(\"Accuracy\")\n",
    "plt.xticks(np.arange(1, max_neighbors + 1))\n",
    "plt.grid(True)\n",
    "plt.show()"
   ]
  },
  {
   "cell_type": "markdown",
   "id": "7e356c20",
   "metadata": {},
   "source": [
    "## Handling Imbalanced Data in Classification\n",
    "\n",
    "Handling imbalanced data is a crucial step in machine learning, particularly for classification tasks. Imbalanced data refers to a situation where one class in the target variable has significantly fewer instances than the other class. This imbalance can lead to biased model performance and skewed evaluations. Let's explore why handling imbalanced data is important:\n",
    "\n",
    "### Biased Model Performance\n",
    "Imbalanced data can cause the model to be biased towards the majority class, resulting in poor performance on the minority class. This is a concern when the minority class represents critical instances, such as fraud detection or rare disease diagnosis.\n",
    "\n",
    "### Misleading Evaluation Metrics\n",
    "Traditional accuracy is not reliable for imbalanced data since a high accuracy score can be achieved by predicting the majority class. Evaluation metrics like precision, recall, F1-score, and AUC-ROC provide a more accurate assessment of model performance.\n",
    "\n",
    "### Generalization and Overfitting\n",
    "Imbalanced data can lead to overfitting, where the model memorizes the majority class but struggles to generalize to new data. This hampers the model's ability to perform well in real-world scenarios.\n",
    "\n",
    "### Rare Event Detection\n",
    "In cases where the goal is to identify rare events, such as anomalies or rare diseases, an imbalanced dataset makes it challenging for the model to detect these events effectively.\n",
    "\n",
    "### Addressing Business Needs\n",
    "In many applications, misclassifying instances from the minority class can have a higher cost than misclassifying instances from the majority class. Balancing the class distribution helps the model prioritize identifying instances from the minority class.\n",
    "\n",
    "## Techniques for Handling Imbalance\n",
    "\n",
    "Several techniques can be employed to handle imbalanced data:\n",
    "\n",
    "1. **Resampling**: Oversampling the minority class or undersampling the majority class can balance the class distribution. Techniques like SMOTE generate synthetic examples to improve balance.\n",
    "\n",
    "2. **Algorithm Choice**: Certain algorithms are inherently robust to imbalanced data, such as decision trees and ensemble methods like Random Forest and Gradient Boosting.\n",
    "\n",
    "3. **Cost-sensitive Learning**: Assigning different misclassification costs to classes during training can make the model more sensitive to the minority class.\n",
    "\n",
    "4. **Ensemble Methods**: Combining predictions from multiple models can enhance performance on imbalanced data.\n",
    "\n",
    "5. **Using Appropriate Metrics**: Precision, recall, F1-score, AUC-ROC, and other metrics provide a more comprehensive view of model performance on imbalanced datasets.\n",
    "\n",
    "In conclusion, handling imbalanced data is crucial to ensure that machine learning models perform well, especially when dealing with scenarios where the minority class is of significant interest. Proper preprocessing techniques and thoughtful evaluation can lead to more accurate predictions and better model outcomes.\n"
   ]
  },
  {
   "cell_type": "markdown",
   "id": "538d3189",
   "metadata": {},
   "source": [
    "<img src = \"https://d3i71xaburhd42.cloudfront.net/b5c14e750010e5351c13294fb10552bf3052359d/2-Figure1-1.png\" width=100%>"
   ]
  },
  {
   "cell_type": "code",
   "execution_count": 164,
   "id": "2c137a8d",
   "metadata": {},
   "outputs": [],
   "source": [
    "# Load the dataset\n",
    "data = pd.read_csv(\"Social_Network_Ads.csv\")\n",
    "\n",
    "# Select features and target variable\n",
    "X = data[['Gender', 'Age', 'EstimatedSalary']]\n",
    "y = data['Purchased']"
   ]
  },
  {
   "cell_type": "code",
   "execution_count": 165,
   "id": "e5003286",
   "metadata": {},
   "outputs": [
    {
     "name": "stdout",
     "output_type": "stream",
     "text": [
      "Class distribution:\n",
      " 0    257\n",
      "1    143\n",
      "Name: Purchased, dtype: int64\n"
     ]
    }
   ],
   "source": [
    "# Check class distribution\n",
    "print(\"Class distribution:\\n\", y.value_counts())"
   ]
  },
  {
   "cell_type": "code",
   "execution_count": 166,
   "id": "623c8e87",
   "metadata": {},
   "outputs": [],
   "source": [
    "# Split the data into training and testing sets\n",
    "X_train, X_test, y_train, y_test = train_test_split(X, y, test_size=0.2, random_state=42)"
   ]
  },
  {
   "cell_type": "code",
   "execution_count": 167,
   "id": "47e62b14",
   "metadata": {},
   "outputs": [
    {
     "data": {
      "text/html": [
       "<div>\n",
       "<style scoped>\n",
       "    .dataframe tbody tr th:only-of-type {\n",
       "        vertical-align: middle;\n",
       "    }\n",
       "\n",
       "    .dataframe tbody tr th {\n",
       "        vertical-align: top;\n",
       "    }\n",
       "\n",
       "    .dataframe thead th {\n",
       "        text-align: right;\n",
       "    }\n",
       "</style>\n",
       "<table border=\"1\" class=\"dataframe\">\n",
       "  <thead>\n",
       "    <tr style=\"text-align: right;\">\n",
       "      <th></th>\n",
       "      <th>Gender</th>\n",
       "      <th>Age</th>\n",
       "      <th>EstimatedSalary</th>\n",
       "    </tr>\n",
       "  </thead>\n",
       "  <tbody>\n",
       "    <tr>\n",
       "      <th>3</th>\n",
       "      <td>Female</td>\n",
       "      <td>27</td>\n",
       "      <td>57000</td>\n",
       "    </tr>\n",
       "    <tr>\n",
       "      <th>18</th>\n",
       "      <td>Male</td>\n",
       "      <td>46</td>\n",
       "      <td>28000</td>\n",
       "    </tr>\n",
       "    <tr>\n",
       "      <th>202</th>\n",
       "      <td>Female</td>\n",
       "      <td>39</td>\n",
       "      <td>134000</td>\n",
       "    </tr>\n",
       "    <tr>\n",
       "      <th>250</th>\n",
       "      <td>Female</td>\n",
       "      <td>44</td>\n",
       "      <td>39000</td>\n",
       "    </tr>\n",
       "    <tr>\n",
       "      <th>274</th>\n",
       "      <td>Female</td>\n",
       "      <td>57</td>\n",
       "      <td>26000</td>\n",
       "    </tr>\n",
       "    <tr>\n",
       "      <th>...</th>\n",
       "      <td>...</td>\n",
       "      <td>...</td>\n",
       "      <td>...</td>\n",
       "    </tr>\n",
       "    <tr>\n",
       "      <th>71</th>\n",
       "      <td>Female</td>\n",
       "      <td>24</td>\n",
       "      <td>27000</td>\n",
       "    </tr>\n",
       "    <tr>\n",
       "      <th>106</th>\n",
       "      <td>Female</td>\n",
       "      <td>26</td>\n",
       "      <td>35000</td>\n",
       "    </tr>\n",
       "    <tr>\n",
       "      <th>270</th>\n",
       "      <td>Female</td>\n",
       "      <td>43</td>\n",
       "      <td>133000</td>\n",
       "    </tr>\n",
       "    <tr>\n",
       "      <th>348</th>\n",
       "      <td>Male</td>\n",
       "      <td>39</td>\n",
       "      <td>77000</td>\n",
       "    </tr>\n",
       "    <tr>\n",
       "      <th>102</th>\n",
       "      <td>Female</td>\n",
       "      <td>32</td>\n",
       "      <td>86000</td>\n",
       "    </tr>\n",
       "  </tbody>\n",
       "</table>\n",
       "<p>320 rows × 3 columns</p>\n",
       "</div>"
      ],
      "text/plain": [
       "     Gender  Age  EstimatedSalary\n",
       "3    Female   27            57000\n",
       "18     Male   46            28000\n",
       "202  Female   39           134000\n",
       "250  Female   44            39000\n",
       "274  Female   57            26000\n",
       "..      ...  ...              ...\n",
       "71   Female   24            27000\n",
       "106  Female   26            35000\n",
       "270  Female   43           133000\n",
       "348    Male   39            77000\n",
       "102  Female   32            86000\n",
       "\n",
       "[320 rows x 3 columns]"
      ]
     },
     "execution_count": 167,
     "metadata": {},
     "output_type": "execute_result"
    }
   ],
   "source": [
    "X_train"
   ]
  },
  {
   "cell_type": "code",
   "execution_count": 168,
   "id": "edb145fe",
   "metadata": {},
   "outputs": [],
   "source": [
    "# Feature scaling and one-hot encoding\n",
    "column_transformer = ColumnTransformer(transformers=[\n",
    "    ('scaler', StandardScaler(), ['Age', 'EstimatedSalary']),\n",
    "    ('encoder', OneHotEncoder(drop='first'), ['Gender'])\n",
    "])\n",
    "X_train_scaled_encoded = column_transformer.fit_transform(X_train)\n",
    "X_test_scaled_encoded = column_transformer.transform(X_test)"
   ]
  },
  {
   "cell_type": "code",
   "execution_count": 169,
   "id": "602d6d31",
   "metadata": {},
   "outputs": [
    {
     "data": {
      "text/plain": [
       "array([[-1.06675246, -0.38634438,  0.        ],\n",
       "       [ 0.79753468, -1.22993871,  1.        ],\n",
       "       [ 0.11069205,  1.853544  ,  0.        ],\n",
       "       [ 0.60129393, -0.90995465,  0.        ],\n",
       "       [ 1.87685881, -1.28811763,  0.        ],\n",
       "       [-0.57615058,  1.44629156,  1.        ],\n",
       "       [ 0.3069328 , -0.53179168,  1.        ],\n",
       "       [ 0.99377543,  0.10817643,  1.        ],\n",
       "       [-1.16487283,  0.45724994,  1.        ],\n",
       "       [-1.55735433,  0.31180264,  1.        ],\n",
       "       [ 1.0918958 ,  0.45724994,  1.        ],\n",
       "       [-0.18366908, -0.47361276,  0.        ],\n",
       "       [ 0.20881242, -0.32816546,  1.        ],\n",
       "       [ 0.3069328 ,  0.28271318,  0.        ],\n",
       "       [-1.16487283, -1.57901222,  1.        ],\n",
       "       [ 0.11069205,  0.25362372,  0.        ],\n",
       "       [ 2.07309956,  1.73718616,  1.        ],\n",
       "       [ 0.40505317, -0.18271817,  1.        ],\n",
       "       [ 1.4843773 ,  2.11534913,  0.        ],\n",
       "       [-0.37990983,  1.21357589,  1.        ],\n",
       "       [ 1.87685881,  1.50447048,  0.        ],\n",
       "       [ 0.11069205,  0.02090805,  0.        ],\n",
       "       [ 0.89565505, -1.31720709,  1.        ],\n",
       "       [-1.36111358, -1.49174384,  1.        ],\n",
       "       [-0.18366908, -0.5899706 ,  0.        ],\n",
       "       [-0.57615058,  2.31897535,  0.        ],\n",
       "       [ 0.99377543, -1.20084925,  0.        ],\n",
       "       [-0.77239133,  1.06812859,  1.        ],\n",
       "       [ 2.17121993, -1.05540195,  1.        ],\n",
       "       [ 0.01257167, -0.26998655,  1.        ],\n",
       "       [-0.4780302 , -1.14267033,  1.        ],\n",
       "       [ 0.11069205,  0.02090805,  1.        ],\n",
       "       [ 1.68061805, -0.90995465,  1.        ],\n",
       "       [ 1.0918958 , -0.90995465,  0.        ],\n",
       "       [ 0.50317355,  1.21357589,  0.        ],\n",
       "       [-1.06675246, -1.46265438,  1.        ],\n",
       "       [-1.16487283, -1.54992276,  0.        ],\n",
       "       [-0.0855487 ,  0.66087616,  0.        ],\n",
       "       [ 0.40505317, -0.47361276,  1.        ],\n",
       "       [-0.28178945, -0.26998655,  1.        ],\n",
       "       [-0.87051171,  0.13726589,  1.        ],\n",
       "       [ 0.01257167,  0.28271318,  0.        ],\n",
       "       [ 0.6994143 , -1.28811763,  1.        ],\n",
       "       [ 1.58249768,  1.09721805,  0.        ],\n",
       "       [ 0.79753468, -1.37538601,  1.        ],\n",
       "       [-1.45923396, -1.22993871,  0.        ],\n",
       "       [-0.0855487 ,  0.13726589,  1.        ],\n",
       "       [ 0.40505317, -0.15362871,  1.        ],\n",
       "       [-0.28178945,  0.02090805,  0.        ],\n",
       "       [ 1.28813655,  2.20261751,  0.        ],\n",
       "       [ 0.11069205,  0.74814454,  1.        ],\n",
       "       [-1.36111358,  0.54451832,  0.        ],\n",
       "       [ 1.97497918,  0.71905508,  0.        ],\n",
       "       [-1.26299321, -1.40447546,  1.        ],\n",
       "       [ 0.3069328 , -0.32816546,  1.        ],\n",
       "       [-0.96863208,  0.54451832,  1.        ],\n",
       "       [ 0.40505317,  0.28271318,  0.        ],\n",
       "       [ 0.40505317,  1.09721805,  0.        ],\n",
       "       [ 0.79753468,  0.74814454,  0.        ],\n",
       "       [ 0.89565505,  1.24266535,  0.        ],\n",
       "       [-0.4780302 , -1.22993871,  0.        ],\n",
       "       [-1.85171546, -1.31720709,  1.        ],\n",
       "       [ 1.0918958 ,  0.54451832,  1.        ],\n",
       "       [-0.67427095, -1.60810168,  0.        ],\n",
       "       [-0.77239133,  0.25362372,  0.        ],\n",
       "       [ 0.99377543,  2.05717021,  1.        ],\n",
       "       [-0.57615058,  1.35902318,  0.        ],\n",
       "       [-0.0855487 ,  0.02090805,  0.        ],\n",
       "       [-1.94983583,  0.45724994,  0.        ],\n",
       "       [ 0.40505317,  0.25362372,  0.        ],\n",
       "       [-1.06675246,  0.39907102,  0.        ],\n",
       "       [ 0.20881242, -0.15362871,  1.        ],\n",
       "       [ 1.87685881,  0.10817643,  1.        ],\n",
       "       [-1.16487283, -1.60810168,  0.        ],\n",
       "       [-1.16487283,  0.28271318,  0.        ],\n",
       "       [-0.87051171, -0.79359682,  1.        ],\n",
       "       [-0.4780302 ,  2.28988589,  0.        ],\n",
       "       [ 0.11069205, -0.82268628,  1.        ],\n",
       "       [ 1.58249768,  0.98086021,  0.        ],\n",
       "       [-0.18366908, -1.08449141,  1.        ],\n",
       "       [ 0.79753468, -1.11358087,  0.        ],\n",
       "       [ 0.20881242,  2.08625967,  0.        ],\n",
       "       [-0.0855487 , -0.24089709,  0.        ],\n",
       "       [-0.87051171,  2.26079643,  1.        ],\n",
       "       [-0.0855487 , -0.38634438,  0.        ],\n",
       "       [-0.28178945, -0.5899706 ,  1.        ],\n",
       "       [ 0.40505317, -0.50270222,  0.        ],\n",
       "       [-0.28178945, -0.93904411,  1.        ],\n",
       "       [ 0.3069328 , -1.17175979,  0.        ],\n",
       "       [ 0.20881242,  0.04999751,  0.        ],\n",
       "       [-1.16487283, -1.60810168,  1.        ],\n",
       "       [-0.67427095, -0.06636033,  0.        ],\n",
       "       [-0.28178945, -0.50270222,  1.        ],\n",
       "       [-0.28178945, -1.31720709,  0.        ],\n",
       "       [-0.77239133,  0.54451832,  1.        ],\n",
       "       [ 0.3069328 ,  0.04999751,  1.        ],\n",
       "       [-0.96863208,  1.53355994,  1.        ],\n",
       "       [ 0.79753468,  0.3408921 ,  0.        ],\n",
       "       [-1.55735433, -0.21180763,  0.        ],\n",
       "       [ 0.6994143 , -1.40447546,  0.        ],\n",
       "       [-0.77239133, -0.61906006,  1.        ],\n",
       "       [-0.37990983, -1.31720709,  0.        ],\n",
       "       [ 0.20881242,  0.13726589,  0.        ],\n",
       "       [-0.57615058,  1.35902318,  0.        ],\n",
       "       [-1.45923396,  0.3408921 ,  0.        ],\n",
       "       [-1.16487283,  0.28271318,  1.        ],\n",
       "       [ 0.99377543,  1.76627562,  0.        ],\n",
       "       [ 2.07309956,  2.11534913,  1.        ],\n",
       "       [-0.28178945, -0.4445233 ,  1.        ],\n",
       "       [-0.37990983, -0.79359682,  1.        ],\n",
       "       [ 0.11069205, -0.26998655,  0.        ],\n",
       "       [-1.06675246,  0.74814454,  0.        ],\n",
       "       [ 2.17121993,  0.36998156,  1.        ],\n",
       "       [-1.36111358, -0.4445233 ,  1.        ],\n",
       "       [ 1.97497918,  2.14443859,  1.        ],\n",
       "       [ 1.4843773 ,  0.98086021,  0.        ],\n",
       "       [-0.28178945,  0.25362372,  1.        ],\n",
       "       [-0.18366908,  0.83541291,  1.        ],\n",
       "       [ 1.87685881, -0.29907601,  1.        ],\n",
       "       [-0.0855487 ,  1.94081237,  0.        ],\n",
       "       [-0.4780302 , -0.79359682,  1.        ],\n",
       "       [ 0.3069328 ,  0.02090805,  0.        ],\n",
       "       [ 1.38625693, -1.43356492,  0.        ],\n",
       "       [ 1.38625693,  2.31897535,  1.        ],\n",
       "       [-0.0855487 , -0.00818141,  1.        ],\n",
       "       [-1.16487283,  0.39907102,  0.        ],\n",
       "       [-1.16487283,  0.04999751,  0.        ],\n",
       "       [-1.16487283, -0.53179168,  0.        ],\n",
       "       [ 0.3069328 , -0.29907601,  0.        ],\n",
       "       [-0.67427095, -0.12453925,  1.        ],\n",
       "       [-0.0855487 ,  2.14443859,  1.        ],\n",
       "       [ 0.01257167, -0.26998655,  1.        ],\n",
       "       [-0.67427095, -1.05540195,  0.        ],\n",
       "       [ 0.40505317,  0.13726589,  0.        ],\n",
       "       [ 0.79753468,  1.35902318,  1.        ],\n",
       "       [-0.18366908, -0.53179168,  1.        ],\n",
       "       [ 0.01257167,  0.02090805,  1.        ],\n",
       "       [ 1.0918958 ,  0.51542886,  1.        ],\n",
       "       [ 1.87685881, -1.08449141,  0.        ],\n",
       "       [ 0.99377543,  1.96990183,  0.        ],\n",
       "       [ 0.89565505, -0.5899706 ,  0.        ],\n",
       "       [-0.4780302 , -0.03727087,  0.        ],\n",
       "       [-0.0855487 ,  2.20261751,  0.        ],\n",
       "       [-1.75359508,  0.3408921 ,  0.        ],\n",
       "       [ 0.20881242, -0.67723898,  1.        ],\n",
       "       [-0.28178945, -1.40447546,  1.        ],\n",
       "       [-1.75359508, -0.99722303,  0.        ],\n",
       "       [ 0.6994143 , -0.7354179 ,  0.        ],\n",
       "       [-1.16487283, -0.79359682,  0.        ],\n",
       "       [ 1.97497918,  0.89359183,  0.        ],\n",
       "       [ 0.20881242, -0.38634438,  1.        ],\n",
       "       [ 0.01257167,  1.21357589,  0.        ],\n",
       "       [-0.0855487 ,  0.28271318,  0.        ],\n",
       "       [ 1.0918958 , -1.22993871,  1.        ],\n",
       "       [-0.18366908,  0.13726589,  0.        ],\n",
       "       [ 0.3069328 ,  0.04999751,  0.        ],\n",
       "       [-0.28178945, -0.29907601,  0.        ],\n",
       "       [ 0.50317355,  1.7080967 ,  1.        ],\n",
       "       [ 0.3069328 ,  0.4863394 ,  1.        ],\n",
       "       [ 0.01257167,  1.24266535,  0.        ],\n",
       "       [ 1.97497918, -1.37538601,  0.        ],\n",
       "       [-1.16487283, -1.11358087,  1.        ],\n",
       "       [-0.57615058, -1.5208333 ,  1.        ],\n",
       "       [ 0.3069328 , -0.53179168,  1.        ],\n",
       "       [-0.67427095, -1.5208333 ,  1.        ],\n",
       "       [-0.28178945,  0.51542886,  1.        ],\n",
       "       [ 0.99377543, -1.02631249,  0.        ],\n",
       "       [-1.06675246,  0.54451832,  1.        ],\n",
       "       [-0.28178945,  0.777234  ,  0.        ],\n",
       "       [ 0.40505317,  0.07908697,  1.        ],\n",
       "       [-1.65547471, -0.06636033,  0.        ],\n",
       "       [ 0.3069328 ,  0.04999751,  0.        ],\n",
       "       [-0.4780302 , -0.29907601,  0.        ],\n",
       "       [ 0.11069205,  1.853544  ,  1.        ],\n",
       "       [-0.96863208,  0.39907102,  0.        ],\n",
       "       [ 0.79753468,  0.51542886,  1.        ],\n",
       "       [-1.36111358, -0.35725492,  1.        ],\n",
       "       [-0.67427095,  1.38811264,  0.        ],\n",
       "       [ 1.19001618,  0.51542886,  0.        ],\n",
       "       [-1.75359508,  0.3408921 ,  0.        ],\n",
       "       [-0.57615058,  1.88263345,  0.        ],\n",
       "       [-1.75359508,  0.45724994,  1.        ],\n",
       "       [-0.28178945, -1.25902817,  1.        ],\n",
       "       [-0.87051171, -0.79359682,  1.        ],\n",
       "       [-1.65547471,  0.51542886,  1.        ],\n",
       "       [-0.28178945, -0.32816546,  1.        ],\n",
       "       [ 0.6994143 , -1.11358087,  1.        ],\n",
       "       [ 2.17121993, -0.82268628,  1.        ],\n",
       "       [-0.28178945,  0.60269724,  1.        ],\n",
       "       [-0.28178945, -0.76450736,  0.        ],\n",
       "       [-1.94983583, -0.76450736,  0.        ],\n",
       "       [ 0.40505317,  2.28988589,  1.        ],\n",
       "       [ 0.6994143 ,  0.25362372,  1.        ],\n",
       "       [ 0.20881242, -0.29907601,  0.        ],\n",
       "       [-1.36111358, -1.37538601,  1.        ],\n",
       "       [-0.4780302 , -0.56088114,  0.        ],\n",
       "       [ 0.40505317, -0.00818141,  0.        ],\n",
       "       [ 1.68061805,  1.73718616,  0.        ],\n",
       "       [ 1.19001618, -0.76450736,  0.        ],\n",
       "       [ 0.99377543,  1.4172021 ,  0.        ],\n",
       "       [-1.85171546,  0.16635535,  1.        ],\n",
       "       [ 0.3069328 ,  0.04999751,  0.        ],\n",
       "       [ 0.20881242,  0.02090805,  1.        ],\n",
       "       [-1.06675246,  0.51542886,  1.        ],\n",
       "       [-0.18366908,  1.62082832,  0.        ],\n",
       "       [-0.28178945,  0.13726589,  1.        ],\n",
       "       [-0.28178945, -0.35725492,  1.        ],\n",
       "       [-0.37990983,  1.30084427,  1.        ],\n",
       "       [-0.28178945,  0.07908697,  1.        ],\n",
       "       [ 2.17121993,  1.09721805,  0.        ],\n",
       "       [-1.26299321,  0.4863394 ,  1.        ],\n",
       "       [-1.06675246, -0.47361276,  0.        ],\n",
       "       [-1.65547471, -1.57901222,  0.        ],\n",
       "       [-0.0855487 ,  0.10817643,  1.        ],\n",
       "       [-0.28178945, -0.90995465,  1.        ],\n",
       "       [ 1.58249768, -0.00818141,  1.        ],\n",
       "       [ 0.89565505, -1.17175979,  0.        ],\n",
       "       [ 0.01257167, -0.5899706 ,  0.        ],\n",
       "       [-0.28178945,  2.23170697,  0.        ],\n",
       "       [-0.28178945,  0.19544481,  0.        ],\n",
       "       [ 0.3069328 ,  0.25362372,  1.        ],\n",
       "       [-0.0855487 , -1.08449141,  0.        ],\n",
       "       [ 2.17121993, -0.70632844,  0.        ],\n",
       "       [-0.96863208, -0.32816546,  0.        ],\n",
       "       [-1.45923396, -0.12453925,  0.        ],\n",
       "       [-1.45923396, -0.21180763,  1.        ],\n",
       "       [-0.77239133, -1.54992276,  1.        ],\n",
       "       [-1.26299321, -1.08449141,  1.        ],\n",
       "       [ 2.07309956,  0.36998156,  0.        ],\n",
       "       [ 1.97497918, -0.93904411,  0.        ],\n",
       "       [-1.94983583,  0.3408921 ,  1.        ],\n",
       "       [ 0.79753468, -0.32816546,  1.        ],\n",
       "       [-1.06675246, -1.54992276,  0.        ],\n",
       "       [ 1.97497918, -0.67723898,  0.        ],\n",
       "       [ 0.99377543, -1.17175979,  0.        ],\n",
       "       [ 1.0918958 , -0.15362871,  1.        ],\n",
       "       [ 1.19001618, -0.99722303,  0.        ],\n",
       "       [ 1.4843773 ,  0.04999751,  1.        ],\n",
       "       [ 0.20881242, -0.38634438,  1.        ],\n",
       "       [ 1.38625693,  1.27175481,  0.        ],\n",
       "       [ 2.07309956, -0.82268628,  0.        ],\n",
       "       [-0.18366908, -0.21180763,  0.        ],\n",
       "       [ 0.40505317,  0.98086021,  1.        ],\n",
       "       [-0.0855487 , -0.53179168,  1.        ],\n",
       "       [ 0.99377543, -1.08449141,  1.        ],\n",
       "       [ 2.07309956, -1.20084925,  0.        ],\n",
       "       [-0.0855487 ,  0.25362372,  1.        ],\n",
       "       [ 0.20881242, -0.26998655,  1.        ],\n",
       "       [ 1.0918958 ,  0.10817643,  1.        ],\n",
       "       [-1.26299321,  0.57360778,  1.        ],\n",
       "       [-0.77239133, -1.60810168,  1.        ],\n",
       "       [ 0.20881242,  0.22453427,  1.        ],\n",
       "       [-1.36111358,  0.39907102,  1.        ],\n",
       "       [ 0.01257167, -0.5899706 ,  0.        ],\n",
       "       [ 0.6994143 ,  1.76627562,  0.        ],\n",
       "       [-1.65547471,  0.04999751,  1.        ],\n",
       "       [-0.28178945, -1.37538601,  0.        ],\n",
       "       [-0.28178945, -1.46265438,  1.        ],\n",
       "       [-0.67427095,  0.54451832,  0.        ],\n",
       "       [-0.77239133,  0.28271318,  1.        ],\n",
       "       [ 0.89565505, -0.67723898,  0.        ],\n",
       "       [-1.06675246,  0.57360778,  1.        ],\n",
       "       [-0.28178945,  0.04999751,  0.        ],\n",
       "       [-0.77239133,  1.32993372,  0.        ],\n",
       "       [ 0.11069205,  1.50447048,  1.        ],\n",
       "       [-0.87051171,  0.36998156,  0.        ],\n",
       "       [ 0.3069328 , -0.21180763,  0.        ],\n",
       "       [ 0.99377543,  0.57360778,  1.        ],\n",
       "       [ 0.01257167, -0.32816546,  1.        ],\n",
       "       [-0.57615058, -1.5208333 ,  1.        ],\n",
       "       [ 0.11069205,  0.13726589,  0.        ],\n",
       "       [-1.16487283,  0.31180264,  1.        ],\n",
       "       [ 0.11069205,  1.03903913,  1.        ],\n",
       "       [-1.55735433, -0.4445233 ,  0.        ],\n",
       "       [-0.18366908,  1.38811264,  1.        ],\n",
       "       [ 2.17121993, -0.82268628,  1.        ],\n",
       "       [-0.96863208, -0.4445233 ,  0.        ],\n",
       "       [ 1.28813655,  1.853544  ,  0.        ],\n",
       "       [ 1.0918958 , -1.22993871,  1.        ],\n",
       "       [-0.18366908, -0.29907601,  1.        ],\n",
       "       [ 1.77873843,  0.98086021,  0.        ],\n",
       "       [-1.06675246, -0.35725492,  0.        ],\n",
       "       [-1.36111358, -1.11358087,  0.        ],\n",
       "       [-0.37990983,  0.04999751,  0.        ],\n",
       "       [-0.96863208, -1.11358087,  1.        ],\n",
       "       [ 1.19001618, -1.46265438,  0.        ],\n",
       "       [-0.4780302 , -0.85177573,  0.        ],\n",
       "       [-0.87051171, -0.67723898,  0.        ],\n",
       "       [-1.55735433, -1.5208333 ,  1.        ],\n",
       "       [-0.77239133,  1.88263345,  1.        ],\n",
       "       [ 0.89565505,  1.00994967,  1.        ],\n",
       "       [ 0.79753468,  0.25362372,  1.        ],\n",
       "       [ 0.99377543,  1.853544  ,  0.        ],\n",
       "       [ 0.89565505, -0.61906006,  0.        ],\n",
       "       [ 1.0918958 ,  2.05717021,  0.        ],\n",
       "       [-0.57615058,  0.86450237,  1.        ],\n",
       "       [ 0.01257167,  0.02090805,  1.        ],\n",
       "       [-1.85171546, -1.28811763,  0.        ],\n",
       "       [-0.0855487 ,  0.19544481,  1.        ],\n",
       "       [ 0.89565505, -0.56088114,  0.        ],\n",
       "       [ 0.20881242, -0.38634438,  1.        ],\n",
       "       [-0.18366908,  1.59173886,  1.        ],\n",
       "       [-1.75359508,  0.10817643,  1.        ],\n",
       "       [-0.67427095, -0.35725492,  1.        ],\n",
       "       [ 0.3069328 , -0.7354179 ,  1.        ],\n",
       "       [ 0.40505317, -0.47361276,  1.        ],\n",
       "       [-0.96863208, -0.96813357,  0.        ],\n",
       "       [ 0.11069205,  0.07908697,  0.        ],\n",
       "       [-0.96863208,  0.42816048,  0.        ],\n",
       "       [ 0.01257167, -0.56088114,  1.        ],\n",
       "       [ 0.89565505, -0.79359682,  1.        ],\n",
       "       [-0.0855487 ,  0.04999751,  1.        ],\n",
       "       [ 1.0918958 , -0.99722303,  0.        ],\n",
       "       [ 0.6994143 , -1.40447546,  1.        ],\n",
       "       [-0.28178945,  0.04999751,  1.        ],\n",
       "       [-1.36111358, -1.25902817,  0.        ],\n",
       "       [-1.16487283, -1.02631249,  0.        ],\n",
       "       [ 0.50317355,  1.82445454,  0.        ],\n",
       "       [ 0.11069205,  0.19544481,  1.        ],\n",
       "       [-0.57615058,  0.45724994,  0.        ]])"
      ]
     },
     "execution_count": 169,
     "metadata": {},
     "output_type": "execute_result"
    }
   ],
   "source": [
    "X_train_scaled_encoded"
   ]
  },
  {
   "cell_type": "code",
   "execution_count": 170,
   "id": "2059ab29",
   "metadata": {},
   "outputs": [
    {
     "data": {
      "image/png": "[encoded data removed]",
      "text/plain": [
       "<Figure size 720x432 with 1 Axes>"
      ]
     },
     "metadata": {
      "needs_background": "light"
     },
     "output_type": "display_data"
    }
   ],
   "source": [
    "# Original class distribution\n",
    "plt.figure(figsize=(10, 6))\n",
    "sns.countplot(data=data, x='Purchased')\n",
    "plt.title(\"Original Class Distribution\")\n",
    "plt.xlabel(\"Purchased\")\n",
    "plt.ylabel(\"Count\")\n",
    "plt.show()"
   ]
  },
  {
   "cell_type": "code",
   "execution_count": 172,
   "id": "f12e3153",
   "metadata": {},
   "outputs": [],
   "source": [
    "# Handle class imbalance using RandomOverSampler\n",
    "from imblearn.over_sampling import RandomOverSampler,SMOTE\n",
    "\n",
    "ros = RandomOverSampler(random_state=42)\n",
    "X_train_resampled, y_train_resampled = ros.fit_resample(X_train_scaled_encoded, y_train)\n",
    "\n",
    "# ros = SMOTE()\n",
    "# x_train,y_train = oversample.fit_resample(X_train_scaled_encoded,y_train)"
   ]
  },
  {
   "cell_type": "code",
   "execution_count": 173,
   "id": "c3ad5156",
   "metadata": {},
   "outputs": [
    {
     "data": {
      "image/png": "[encoded data removed]",
      "text/plain": [
       "<Figure size 720x432 with 1 Axes>"
      ]
     },
     "metadata": {
      "needs_background": "light"
     },
     "output_type": "display_data"
    }
   ],
   "source": [
    "# Resampled class distribution\n",
    "plt.figure(figsize=(10, 6))\n",
    "sns.countplot(y_train_resampled)\n",
    "plt.title(\"Resampled Class Distribution\")\n",
    "plt.xlabel(\"Purchased\")\n",
    "plt.ylabel(\"Count\")\n",
    "plt.show()"
   ]
  },
  {
   "cell_type": "code",
   "execution_count": 174,
   "id": "fe3e7523",
   "metadata": {},
   "outputs": [],
   "source": [
    "# Initialize the KNN classifier\n",
    "knn_classifier = KNeighborsClassifier()\n",
    "\n",
    "# Train the KNN classifier on resampled data\n",
    "knn_classifier.fit(X_train_resampled, y_train_resampled)\n",
    "\n",
    "# Predict on the test set\n",
    "y_pred = knn_classifier.predict(X_test_scaled_encoded)"
   ]
  },
  {
   "cell_type": "code",
   "execution_count": 175,
   "id": "19ed6f3a",
   "metadata": {},
   "outputs": [
    {
     "name": "stdout",
     "output_type": "stream",
     "text": [
      "Accuracy (with resampling): 0.9125\n"
     ]
    }
   ],
   "source": [
    "# Calculate accuracy\n",
    "accuracy = accuracy_score(y_test, y_pred)\n",
    "print(\"Accuracy (with resampling):\", accuracy)"
   ]
  },
  {
   "cell_type": "code",
   "execution_count": 176,
   "id": "b6d4290b",
   "metadata": {},
   "outputs": [
    {
     "name": "stdout",
     "output_type": "stream",
     "text": [
      "\n",
      "Classification Report (with resampling):\n",
      "               precision    recall  f1-score   support\n",
      "\n",
      "Not Purchased       0.96      0.90      0.93        52\n",
      "    Purchased       0.84      0.93      0.88        28\n",
      "\n",
      "     accuracy                           0.91        80\n",
      "    macro avg       0.90      0.92      0.91        80\n",
      " weighted avg       0.92      0.91      0.91        80\n",
      "\n"
     ]
    }
   ],
   "source": [
    "# Generate classification report\n",
    "class_names = [\"Not Purchased\", \"Purchased\"]\n",
    "print(\"\\nClassification Report (with resampling):\")\n",
    "print(classification_report(y_test, y_pred, target_names=class_names))"
   ]
  },
  {
   "cell_type": "code",
   "execution_count": 177,
   "id": "8329bdf2",
   "metadata": {},
   "outputs": [
    {
     "data": {
      "image/png": "[encoded data removed]",
      "text/plain": [
       "<Figure size 576x432 with 1 Axes>"
      ]
     },
     "metadata": {
      "needs_background": "light"
     },
     "output_type": "display_data"
    }
   ],
   "source": [
    "# Generate confusion matrix as a heatmap\n",
    "conf_matrix = confusion_matrix(y_test, y_pred)\n",
    "plt.figure(figsize=(8, 6))\n",
    "sns.heatmap(conf_matrix, annot=True, fmt=\"d\", cmap=\"Blues\", cbar=False,\n",
    "            xticklabels=class_names, yticklabels=class_names)\n",
    "plt.xlabel(\"Predicted\")\n",
    "plt.ylabel(\"Actual\")\n",
    "plt.title(\"Confusion Matrix (with resampling)\")\n",
    "plt.show()"
   ]
  },
  {
   "cell_type": "code",
   "execution_count": 178,
   "id": "064e201b",
   "metadata": {},
   "outputs": [],
   "source": [
    "# Find the best n_neighbors for original data\n",
    "max_neighbors = 20\n",
    "accuracy_scores_original = []\n",
    "\n",
    "for n_neighbors in range(1, max_neighbors + 1):\n",
    "    knn_classifier = KNeighborsClassifier(n_neighbors=n_neighbors)\n",
    "    knn_classifier.fit(X_train_scaled_encoded, y_train)\n",
    "    y_pred = knn_classifier.predict(X_test_scaled_encoded)\n",
    "    accuracy = accuracy_score(y_test, y_pred)\n",
    "    accuracy_scores_original.append(accuracy)"
   ]
  },
  {
   "cell_type": "code",
   "execution_count": 181,
   "id": "39692ff8",
   "metadata": {},
   "outputs": [],
   "source": [
    "# Find the best n_neighbors for resampled data\n",
    "accuracy_scores_resampled = []\n",
    "\n",
    "for n_neighbors in range(1, max_neighbors + 1):\n",
    "    knn_classifier = KNeighborsClassifier(n_neighbors=n_neighbors)\n",
    "    knn_classifier.fit(X_train_resampled, y_train_resampled)\n",
    "    y_pred = knn_classifier.predict(X_test_scaled_encoded)\n",
    "    accuracy = accuracy_score(y_test, y_pred)\n",
    "    accuracy_scores_resampled.append(accuracy)"
   ]
  },
  {
   "cell_type": "code",
   "execution_count": 182,
   "id": "c79a001c",
   "metadata": {
    "scrolled": false
   },
   "outputs": [
    {
     "data": {
      "image/png": "[encoded data removed]",
      "text/plain": [
       "<Figure size 864x432 with 1 Axes>"
      ]
     },
     "metadata": {
      "needs_background": "light"
     },
     "output_type": "display_data"
    }
   ],
   "source": [
    "# Plot the accuracy scores for original and resampled data\n",
    "plt.figure(figsize=(12, 6))\n",
    "plt.plot(range(1, max_neighbors + 1), accuracy_scores_original, marker='o', label='Original Data')\n",
    "plt.plot(range(1, max_neighbors + 1), accuracy_scores_resampled, marker='o', label='Resampled Data')\n",
    "plt.title(\"Accuracy vs. Number of Neighbors\")\n",
    "plt.xlabel(\"Number of Neighbors\")\n",
    "plt.ylabel(\"Accuracy\")\n",
    "plt.xticks(range(1, max_neighbors + 1))\n",
    "plt.legend()\n",
    "plt.grid(True)\n",
    "plt.show()"
   ]
  },
  {
   "cell_type": "markdown",
   "id": "008e1fcb",
   "metadata": {},
   "source": [
    "## Naïve Bayes Resample"
   ]
  },
  {
   "cell_type": "code",
   "execution_count": 183,
   "id": "c4a2d3ec",
   "metadata": {},
   "outputs": [],
   "source": [
    "# Initialize the Naive Bayes classifier\n",
    "naive_bayes_classifier = GaussianNB()"
   ]
  },
  {
   "cell_type": "code",
   "execution_count": 184,
   "id": "e4e51fd6",
   "metadata": {},
   "outputs": [],
   "source": [
    "# Train the Naive Bayes classifier on resampled data\n",
    "naive_bayes_classifier.fit(X_train_resampled, y_train_resampled)\n",
    "\n",
    "# Predict on the test set\n",
    "y_pred = naive_bayes_classifier.predict(X_test_scaled_encoded)"
   ]
  },
  {
   "cell_type": "code",
   "execution_count": 185,
   "id": "c5665e92",
   "metadata": {},
   "outputs": [
    {
     "name": "stdout",
     "output_type": "stream",
     "text": [
      "Accuracy (Naive Bayes with resampling): 0.925\n"
     ]
    }
   ],
   "source": [
    "# Calculate accuracy\n",
    "accuracy = accuracy_score(y_test, y_pred)\n",
    "print(\"Accuracy (Naive Bayes with resampling):\", accuracy)"
   ]
  },
  {
   "cell_type": "code",
   "execution_count": 187,
   "id": "afa12df7",
   "metadata": {},
   "outputs": [
    {
     "name": "stdout",
     "output_type": "stream",
     "text": [
      "\n",
      "Classification Report (Naive Bayes with resampling):\n",
      "               precision    recall  f1-score   support\n",
      "\n",
      "Not Purchased       0.98      0.90      0.94        52\n",
      "    Purchased       0.84      0.96      0.90        28\n",
      "\n",
      "     accuracy                           0.93        80\n",
      "    macro avg       0.91      0.93      0.92        80\n",
      " weighted avg       0.93      0.93      0.93        80\n",
      "\n"
     ]
    }
   ],
   "source": [
    "# Generate classification report\n",
    "class_names = [\"Not Purchased\", \"Purchased\"]\n",
    "print(\"\\nClassification Report (Naive Bayes with resampling):\")\n",
    "print(classification_report(y_test, y_pred, target_names=class_names))"
   ]
  },
  {
   "cell_type": "code",
   "execution_count": 188,
   "id": "34fe1986",
   "metadata": {},
   "outputs": [
    {
     "data": {
      "image/png": "[encoded data removed]",
      "text/plain": [
       "<Figure size 576x432 with 1 Axes>"
      ]
     },
     "metadata": {
      "needs_background": "light"
     },
     "output_type": "display_data"
    }
   ],
   "source": [
    "# Generate confusion matrix as a heatmap\n",
    "conf_matrix = confusion_matrix(y_test, y_pred)\n",
    "plt.figure(figsize=(8, 6))\n",
    "sns.heatmap(conf_matrix, annot=True, fmt=\"d\", cmap=\"Blues\", cbar=False,\n",
    "            xticklabels=class_names, yticklabels=class_names)\n",
    "plt.xlabel(\"Predicted\")\n",
    "plt.ylabel(\"Actual\")\n",
    "plt.title(\"Confusion Matrix (Naive Bayes with resampling)\")\n",
    "plt.show()"
   ]
  }
 ],
 "metadata": {
  "kernelspec": {
   "display_name": "Python 3 (ipykernel)",
   "language": "python",
   "name": "python3"
  },
  "language_info": {
   "codemirror_mode": {
    "name": "ipython",
    "version": 3
   },
   "file_extension": ".py",
   "mimetype": "text/x-python",
   "name": "python",
   "nbconvert_exporter": "python",
   "pygments_lexer": "ipython3",
   "version": "3.9.12"
  }
 },
 "nbformat": 4,
 "nbformat_minor": 5
}
