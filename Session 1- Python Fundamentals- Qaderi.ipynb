{
 "cells": [
  {
   "cell_type": "markdown",
   "id": "87f340ea",
   "metadata": {},
   "source": [
    "<div style=\"background-color: rgba(247, 200, 115, 0.3); padding: 30px 0;\">\n",
    "    <div style=\"max-width: 800px; margin: 0 auto; text-align: center;\">\n",
    "        <h1 style=\"font-size: 48px; color: #cc7a00; margin-bottom: 10px;\">🚀 Machine Learning 📊</h1>\n",
    "        <h3 style=\"font-size: 28px; color: #cc7a00; margin-bottom: 10px;\">Python Fundamentals</h3>\n",
    "        <h4 style=\"font-size: 18px; color: #cc7a00;\"><a href=\"https://www.linkedin.com/in/mohammadreza-qaderi/\" style=\"color: #1e90ff; text-decoration: none;\">MohammadReza Qaderi</a></h4>\n",
    "        <h4 style=\"font-size: 18px; color: #cc7a00;\"><a href=\"https://github.com/MR-Qaderi/MachineLearningCourseMaterials\" style=\"color: #1e90ff; text-decoration: none;\">GitHub Repository</a></h4>\n",
    "    </div>\n",
    "</div>\n"
   ]
  },
  {
   "cell_type": "markdown",
   "id": "b28bb6bb",
   "metadata": {},
   "source": [
    "### Step 1: Install Anaconda\n",
    "\n",
    "To get started with this course, we recommend installing Anaconda, which includes Jupyter Notebook.\n",
    "\n",
    "1. Visit the official Anaconda website: [Anaconda.com](https://www.anaconda.com/products/distribution).\n",
    "2. Download the appropriate version for your operating system (Windows, macOS, or Linux).\n",
    "3. Follow the installation instructions provided on the website.\n",
    "\n",
    "Once Anaconda is installed, you'll have access to Jupyter Notebook, which we'll be using throughout this course."
   ]
  },
  {
   "cell_type": "markdown",
   "id": "d01f60ff",
   "metadata": {},
   "source": [
    "<img src=\"https://logos-world.net/wp-content/uploads/2021/10/Python-Logo.png\" />"
   ]
  },
  {
   "cell_type": "markdown",
   "id": "13657d5b",
   "metadata": {},
   "source": [
    "<div style=\"border: 1px solid #000000; padding: 10px;\">\n",
    "\n",
    "# Session 1: Python Fundamentals\n",
    "\n",
    "Welcome to the first session! Our primary goal today is to establish a strong foundation in Python. We'll cover a range of fundamental topics, ensuring you have a solid grasp of the essentials:\n",
    "\n",
    "- Variables and Data Types\n",
    "- Conditional Statements (`if-else`)\n",
    "- Loops (`for` and `while`)\n",
    "- Lists\n",
    "- Functions\n",
    "- Strings and String Formatting\n",
    "- Dictionaries\n",
    "- User Input\n",
    "- Introduction to Libraries\n",
    "\n",
    "Each of these topics is crucial in building a robust understanding of Python programming. Let's dive in!\n",
    "\n",
    "</div>\n"
   ]
  },
  {
   "cell_type": "markdown",
   "id": "af1daf45",
   "metadata": {},
   "source": [
    "## Variables in Python\n",
    "\n",
    "Variables are like labeled containers that hold information. In Python, you can create a variable and assign it a value using a simple syntax:\n",
    "\n",
    "```python\n",
    "variable_name = value\n"
   ]
  },
  {
   "cell_type": "code",
   "execution_count": 2,
   "id": "081a54b1",
   "metadata": {},
   "outputs": [
    {
     "name": "stdout",
     "output_type": "stream",
     "text": [
      "Name: John\n"
     ]
    }
   ],
   "source": [
    "# String variable\n",
    "name = \"John\"\n",
    "print(\"Name:\", name)"
   ]
  },
  {
   "cell_type": "code",
   "execution_count": 3,
   "id": "e756afef",
   "metadata": {},
   "outputs": [
    {
     "name": "stdout",
     "output_type": "stream",
     "text": [
      "Age: 25\n"
     ]
    }
   ],
   "source": [
    "# Integer variable\n",
    "age = 25\n",
    "print(\"Age:\", age)"
   ]
  },
  {
   "cell_type": "code",
   "execution_count": 4,
   "id": "88e3d62b",
   "metadata": {},
   "outputs": [
    {
     "name": "stdout",
     "output_type": "stream",
     "text": [
      "Height: 1.75\n"
     ]
    }
   ],
   "source": [
    "# Float variable\n",
    "height = 1.75\n",
    "print(\"Height:\", height)"
   ]
  },
  {
   "cell_type": "code",
   "execution_count": 5,
   "id": "1584ac22",
   "metadata": {},
   "outputs": [],
   "source": [
    "# Difference between integer and float\n",
    "integer_number = 10\n",
    "float_number = 3.14"
   ]
  },
  {
   "cell_type": "code",
   "execution_count": 6,
   "id": "6821f5e5",
   "metadata": {},
   "outputs": [
    {
     "name": "stdout",
     "output_type": "stream",
     "text": [
      "Integer Number: 10 | Type: <class 'int'>\n",
      "Float Number: 3.14 | Type: <class 'float'>\n"
     ]
    }
   ],
   "source": [
    "# Displaying the values and types of the variables\n",
    "print(\"Integer Number:\", integer_number, \"| Type:\", type(integer_number))\n",
    "print(\"Float Number:\", float_number, \"| Type:\", type(float_number))"
   ]
  },
  {
   "cell_type": "code",
   "execution_count": 7,
   "id": "af4f3538",
   "metadata": {},
   "outputs": [
    {
     "name": "stdout",
     "output_type": "stream",
     "text": [
      "Integer to Float: 10.0 | Type: <class 'float'>\n"
     ]
    }
   ],
   "source": [
    "# Integer to Float Conversion\n",
    "integer_to_float = float(integer_number)\n",
    "print(\"Integer to Float:\", integer_to_float, \"| Type:\", type(integer_to_float))"
   ]
  },
  {
   "cell_type": "code",
   "execution_count": 8,
   "id": "21861abf",
   "metadata": {},
   "outputs": [
    {
     "name": "stdout",
     "output_type": "stream",
     "text": [
      "Float to Integer: 3 | Type: <class 'int'>\n"
     ]
    }
   ],
   "source": [
    "# Float to Integer Conversion\n",
    "float_to_integer = int(float_number)\n",
    "print(\"Float to Integer:\", float_to_integer, \"| Type:\", type(float_to_integer))"
   ]
  },
  {
   "cell_type": "code",
   "execution_count": 9,
   "id": "bba35aeb",
   "metadata": {},
   "outputs": [
    {
     "name": "stdout",
     "output_type": "stream",
     "text": [
      "Is Student: True\n"
     ]
    }
   ],
   "source": [
    "# Boolean variable\n",
    "is_student = True\n",
    "print(\"Is Student:\", is_student)"
   ]
  },
  {
   "cell_type": "code",
   "execution_count": 10,
   "id": "e4f3ed40",
   "metadata": {},
   "outputs": [
    {
     "name": "stdout",
     "output_type": "stream",
     "text": [
      "Fruits List: ['apple', 'banana', 'orange']\n"
     ]
    }
   ],
   "source": [
    "# List variable\n",
    "fruits = [\"apple\", \"banana\", \"orange\"]\n",
    "print(\"Fruits List:\", fruits)"
   ]
  },
  {
   "cell_type": "code",
   "execution_count": 11,
   "id": "c2950d57",
   "metadata": {},
   "outputs": [
    {
     "name": "stdout",
     "output_type": "stream",
     "text": [
      "Student Dictionary: {'name': 'Alice', 'age': 22, 'major': 'Computer Science'}\n"
     ]
    }
   ],
   "source": [
    "# Dictionary variable\n",
    "student = {\n",
    "    \"name\": \"Alice\",\n",
    "    \"age\": 22,\n",
    "    \"major\": \"Computer Science\"\n",
    "}\n",
    "print(\"Student Dictionary:\", student)"
   ]
  },
  {
   "cell_type": "code",
   "execution_count": 12,
   "id": "6bf0715b",
   "metadata": {},
   "outputs": [
    {
     "name": "stdout",
     "output_type": "stream",
     "text": [
      "Hello, Alice\n"
     ]
    }
   ],
   "source": [
    "# Combining strings\n",
    "greeting = \"Hello\"\n",
    "name = \"Alice\"\n",
    "message = greeting + \", \" + name\n",
    "print(message)"
   ]
  },
  {
   "cell_type": "code",
   "execution_count": 13,
   "id": "0357f779",
   "metadata": {},
   "outputs": [
    {
     "name": "stdout",
     "output_type": "stream",
     "text": [
      "Updated Student Dictionary: {'name': 'John', 'age': 26, 'major': 'Physics'}\n"
     ]
    }
   ],
   "source": [
    "# Dictionary operations\n",
    "student = {\n",
    "    \"name\": \"John\",\n",
    "    \"age\": 25,\n",
    "    \"major\": \"Physics\"\n",
    "}\n",
    "student[\"age\"] = 26  # Updating the value of the \"age\" key\n",
    "print(\"Updated Student Dictionary:\", student)"
   ]
  },
  {
   "cell_type": "code",
   "execution_count": 14,
   "id": "ea9d66e2",
   "metadata": {},
   "outputs": [],
   "source": [
    "x = 5\n",
    "y = 3"
   ]
  },
  {
   "cell_type": "code",
   "execution_count": 15,
   "id": "36a543ae",
   "metadata": {},
   "outputs": [
    {
     "data": {
      "text/plain": [
       "8"
      ]
     },
     "execution_count": 15,
     "metadata": {},
     "output_type": "execute_result"
    }
   ],
   "source": [
    "x + y "
   ]
  },
  {
   "cell_type": "code",
   "execution_count": 16,
   "id": "26ae3bb6",
   "metadata": {},
   "outputs": [],
   "source": [
    "addition_result = x + y\n",
    "subtraction_result = x - y\n",
    "multiplication_result = x * y\n",
    "division_result = x / y\n",
    "exponentiation_result = x ** y"
   ]
  },
  {
   "cell_type": "code",
   "execution_count": 17,
   "id": "677ca7eb",
   "metadata": {},
   "outputs": [
    {
     "name": "stdout",
     "output_type": "stream",
     "text": [
      "x + y = 8\n",
      "x - y = 2\n",
      "x * y = 15\n",
      "x / y = 1.6666666666666667\n",
      "x ** y = 125\n"
     ]
    }
   ],
   "source": [
    "print(\"x + y =\", addition_result)\n",
    "print(\"x - y =\", subtraction_result)\n",
    "print(\"x * y =\", multiplication_result)\n",
    "print(\"x / y =\", division_result)\n",
    "print(\"x ** y =\", exponentiation_result)"
   ]
  },
  {
   "cell_type": "markdown",
   "id": "5e006c56",
   "metadata": {},
   "source": [
    "## Conditionals (if-else statements)"
   ]
  },
  {
   "cell_type": "markdown",
   "id": "b4e7a271",
   "metadata": {},
   "source": [
    "### Conditionals in Python\n",
    "\n",
    "Conditionals, often referred to as 'if-else statements', allow your program to make decisions based on certain conditions. This enables your code to take different paths depending on whether a condition is true or false."
   ]
  },
  {
   "cell_type": "code",
   "execution_count": 18,
   "id": "2921945d",
   "metadata": {},
   "outputs": [
    {
     "name": "stdout",
     "output_type": "stream",
     "text": [
      "You are an adult.\n"
     ]
    }
   ],
   "source": [
    "# Example 1: if statement\n",
    "age = 25\n",
    "\n",
    "if age >= 18:\n",
    "    print(\"You are an adult.\")"
   ]
  },
  {
   "cell_type": "code",
   "execution_count": 19,
   "id": "ffa6d1c6",
   "metadata": {},
   "outputs": [
    {
     "name": "stdout",
     "output_type": "stream",
     "text": [
      "It's a moderate day.\n"
     ]
    }
   ],
   "source": [
    "# Example 2: if-else statement\n",
    "temperature = 25\n",
    "\n",
    "if temperature >= 30:\n",
    "    print(\"It's a hot day.\")\n",
    "else:\n",
    "    print(\"It's a moderate day.\")"
   ]
  },
  {
   "cell_type": "code",
   "execution_count": 20,
   "id": "5bfaa879",
   "metadata": {},
   "outputs": [
    {
     "name": "stdout",
     "output_type": "stream",
     "text": [
      "Your grade is: B\n"
     ]
    }
   ],
   "source": [
    "# Example 3: if-elif-else statement\n",
    "score = 85\n",
    "\n",
    "if score >= 90:\n",
    "    grade = \"A\"\n",
    "elif score >= 80:\n",
    "    grade = \"B\"\n",
    "elif score >= 70:\n",
    "    grade = \"C\"\n",
    "else:\n",
    "    grade = \"F\"\n",
    "\n",
    "print(\"Your grade is:\", grade)"
   ]
  },
  {
   "cell_type": "code",
   "execution_count": 21,
   "id": "8eaacb81",
   "metadata": {},
   "outputs": [
    {
     "name": "stdout",
     "output_type": "stream",
     "text": [
      "You are a student and an adult.\n"
     ]
    }
   ],
   "source": [
    "# Example 4: Nested if statement\n",
    "is_student = True\n",
    "age = 20\n",
    "\n",
    "if is_student:\n",
    "    if age >= 18:\n",
    "        print(\"You are a student and an adult.\")\n",
    "    else:\n",
    "        print(\"You are a student but not an adult.\")\n",
    "else:\n",
    "    print(\"You are not a student.\")"
   ]
  },
  {
   "cell_type": "markdown",
   "id": "fb21f6af",
   "metadata": {},
   "source": [
    "## Loops (for and while loops)\n",
    "\n",
    "Loops are a fundamental concept in programming that allow you to execute a block of code repeatedly. They are used when you need to perform a task multiple times, or when you want to iterate over a collection of items like a list or dictionary.\n",
    "\n",
    "### 1. For Loops:\n",
    "\n",
    "A for loop is used to iterate over a sequence of elements. It executes a block of code a fixed number of times, which is determined by the length of the sequence.\n",
    "\n",
    "### 2. While Loops:\n",
    "\n",
    "A while loop is used to repeatedly execute a block of code as long as a specified condition is met. It continues execution as long as the condition remains true.\n",
    "\n",
    "Loops are invaluable for automating repetitive tasks, processing large amounts of data, and performing iterative operations in a program.\n"
   ]
  },
  {
   "cell_type": "code",
   "execution_count": 22,
   "id": "cf0408b4",
   "metadata": {},
   "outputs": [
    {
     "name": "stdout",
     "output_type": "stream",
     "text": [
      "apple\n",
      "banana\n",
      "orange\n",
      "grape\n"
     ]
    }
   ],
   "source": [
    "# Example 1: for loop\n",
    "fruits = [\"apple\", \"banana\", \"orange\", \"grape\"]\n",
    "\n",
    "# Using a for loop to iterate through the elements of the list\n",
    "for fruit in fruits:\n",
    "    print(fruit)"
   ]
  },
  {
   "cell_type": "code",
   "execution_count": 23,
   "id": "ac01af66",
   "metadata": {},
   "outputs": [
    {
     "name": "stdout",
     "output_type": "stream",
     "text": [
      "1\n",
      "2\n",
      "3\n",
      "4\n",
      "5\n"
     ]
    }
   ],
   "source": [
    "# Example 2: for loop with range()\n",
    "# Using a for loop with range() to print numbers from 1 to 5\n",
    "for num in range(1, 6):\n",
    "    print(num)"
   ]
  },
  {
   "cell_type": "code",
   "execution_count": 24,
   "id": "817e46e9",
   "metadata": {},
   "outputs": [
    {
     "name": "stdout",
     "output_type": "stream",
     "text": [
      "0\n",
      "1\n",
      "2\n",
      "3\n",
      "4\n"
     ]
    }
   ],
   "source": [
    "# Example 3: while loop\n",
    "count = 0\n",
    "\n",
    "# Using a while loop to print numbers from 0 to 4\n",
    "while count < 5:\n",
    "    print(count)\n",
    "    count += 1"
   ]
  },
  {
   "cell_type": "code",
   "execution_count": 26,
   "id": "aee464b9",
   "metadata": {},
   "outputs": [
    {
     "name": "stdout",
     "output_type": "stream",
     "text": [
      "Enter numbers to get their sum. Enter 'done' to finish.\n",
      "Enter a number: 4\n",
      "Enter a number: 7\n",
      "Enter a number: 5\n",
      "Enter a number: done\n",
      "Total sum: 16\n"
     ]
    }
   ],
   "source": [
    "# Example 4: while loop with user input\n",
    "# Using a while loop to get the sum of numbers entered by the user\n",
    "total = 0\n",
    "print(\"Enter numbers to get their sum. Enter 'done' to finish.\")\n",
    "while True:\n",
    "    user_input = input(\"Enter a number: \")\n",
    "    if user_input == \"done\":\n",
    "        break\n",
    "    total += int(user_input)\n",
    "\n",
    "print(\"Total sum:\", total)"
   ]
  },
  {
   "cell_type": "code",
   "execution_count": 27,
   "id": "e7553082",
   "metadata": {},
   "outputs": [
    {
     "name": "stdout",
     "output_type": "stream",
     "text": [
      "False\n",
      "True\n"
     ]
    }
   ],
   "source": [
    "# Assignment\n",
    "x = 5\n",
    "y = \"Hello\"\n",
    "\n",
    "# Equality Comparison\n",
    "a = 10\n",
    "b = 20\n",
    "\n",
    "result1 = (a == b)  # Check if 'a' is equal to 'b'\n",
    "print(result1)  # Output: False\n",
    "\n",
    "result2 = (a == 10)  # Check if 'a' is equal to 10\n",
    "print(result2)  # Output: True"
   ]
  },
  {
   "cell_type": "markdown",
   "id": "3f8c2839",
   "metadata": {},
   "source": [
    "## Lists in Python\n",
    "\n",
    "Lists are one of the most versatile data structures in Python. They allow you to store collections of items, which can be of any type, such as numbers, strings, or even other lists.\n",
    "\n",
    "### Creating a List:\n",
    "\n",
    "You can create a list by enclosing a comma-separated sequence of elements within square brackets `[]`.\n",
    "\n",
    "For example:\n",
    "\n",
    "```python\n",
    "my_list = [1, 2, 3, 4, 5]\n"
   ]
  },
  {
   "cell_type": "code",
   "execution_count": 28,
   "id": "4e86b788",
   "metadata": {},
   "outputs": [
    {
     "name": "stdout",
     "output_type": "stream",
     "text": [
      "List: [1, 2, 3, 4, 5]\n"
     ]
    }
   ],
   "source": [
    "# Lists\n",
    "numbers = [1, 2, 3, 4, 5]\n",
    "print(\"List:\", numbers)"
   ]
  },
  {
   "cell_type": "code",
   "execution_count": 29,
   "id": "5c1bdcce",
   "metadata": {},
   "outputs": [
    {
     "name": "stdout",
     "output_type": "stream",
     "text": [
      "Squared Numbers: [1, 4, 9, 16, 25]\n"
     ]
    }
   ],
   "source": [
    "squared_numbers = [x ** 2 for x in numbers]\n",
    "print(\"Squared Numbers:\", squared_numbers)"
   ]
  },
  {
   "cell_type": "code",
   "execution_count": 30,
   "id": "97a2d18c",
   "metadata": {},
   "outputs": [],
   "source": [
    "fruits = [\"apple\", \"banana\", \"orange\", \"grape\"]"
   ]
  },
  {
   "cell_type": "code",
   "execution_count": 31,
   "id": "bd85bb54",
   "metadata": {},
   "outputs": [
    {
     "name": "stdout",
     "output_type": "stream",
     "text": [
      "First fruit: apple\n",
      "Second fruit: banana\n",
      "Last fruit: grape\n"
     ]
    }
   ],
   "source": [
    "# Accessing elements in the list\n",
    "print(\"First fruit:\", fruits[0])\n",
    "print(\"Second fruit:\", fruits[1])\n",
    "print(\"Last fruit:\", fruits[-1])"
   ]
  },
  {
   "cell_type": "code",
   "execution_count": 32,
   "id": "57b67877",
   "metadata": {},
   "outputs": [
    {
     "name": "stdout",
     "output_type": "stream",
     "text": [
      "Slice 1: ['banana', 'orange']\n",
      "Slice 2: ['orange', 'grape']\n",
      "Slice 3: ['apple', 'banana']\n"
     ]
    }
   ],
   "source": [
    "# Slicing the list\n",
    "print(\"Slice 1:\", fruits[1:3])\n",
    "print(\"Slice 2:\", fruits[2:])\n",
    "print(\"Slice 3:\", fruits[:2])"
   ]
  },
  {
   "cell_type": "code",
   "execution_count": 33,
   "id": "ac2363fc",
   "metadata": {},
   "outputs": [
    {
     "name": "stdout",
     "output_type": "stream",
     "text": [
      "Updated list: ['pear', 'banana', 'orange', 'grape']\n"
     ]
    }
   ],
   "source": [
    "# Modifying elements in the list\n",
    "fruits[0] = \"pear\"\n",
    "print(\"Updated list:\", fruits)"
   ]
  },
  {
   "cell_type": "code",
   "execution_count": 34,
   "id": "43a1d92c",
   "metadata": {},
   "outputs": [
    {
     "name": "stdout",
     "output_type": "stream",
     "text": [
      "List after appending: ['pear', 'banana', 'orange', 'grape', 'kiwi']\n"
     ]
    }
   ],
   "source": [
    "# Appending an element to the list\n",
    "fruits.append(\"kiwi\")\n",
    "print(\"List after appending:\", fruits)"
   ]
  },
  {
   "cell_type": "code",
   "execution_count": 35,
   "id": "c093dcf0",
   "metadata": {},
   "outputs": [
    {
     "name": "stdout",
     "output_type": "stream",
     "text": [
      "Removed fruit: orange\n",
      "List after removing: ['pear', 'banana', 'grape', 'kiwi']\n"
     ]
    }
   ],
   "source": [
    "# Removing an element from the list\n",
    "removed_fruit = fruits.pop(2)\n",
    "print(\"Removed fruit:\", removed_fruit)\n",
    "print(\"List after removing:\", fruits)"
   ]
  },
  {
   "cell_type": "code",
   "execution_count": 36,
   "id": "8f8f4c59",
   "metadata": {},
   "outputs": [
    {
     "name": "stdout",
     "output_type": "stream",
     "text": [
      "Number of fruits in the list: 4\n"
     ]
    }
   ],
   "source": [
    "# Length of the list\n",
    "print(\"Number of fruits in the list:\", len(fruits))"
   ]
  },
  {
   "cell_type": "code",
   "execution_count": 37,
   "id": "148bc40e",
   "metadata": {},
   "outputs": [
    {
     "name": "stdout",
     "output_type": "stream",
     "text": [
      "Is 'banana' in the list? True\n"
     ]
    }
   ],
   "source": [
    "# Checking if an element is in the list\n",
    "print(\"Is 'banana' in the list?\", \"banana\" in fruits)"
   ]
  },
  {
   "cell_type": "code",
   "execution_count": 38,
   "id": "901a8463",
   "metadata": {},
   "outputs": [
    {
     "name": "stdout",
     "output_type": "stream",
     "text": [
      "List contents:\n",
      "pear\n",
      "banana\n",
      "grape\n",
      "kiwi\n"
     ]
    }
   ],
   "source": [
    "# Iterating through the list\n",
    "print(\"List contents:\")\n",
    "for fruit in fruits:\n",
    "    print(fruit)"
   ]
  },
  {
   "cell_type": "code",
   "execution_count": 39,
   "id": "1edeccd0",
   "metadata": {},
   "outputs": [
    {
     "name": "stdout",
     "output_type": "stream",
     "text": [
      "Sorted list: ['banana', 'grape', 'kiwi', 'pear']\n"
     ]
    }
   ],
   "source": [
    "# Sorting the list alphabetically\n",
    "fruits.sort()\n",
    "print(\"Sorted list:\", fruits)"
   ]
  },
  {
   "cell_type": "code",
   "execution_count": 40,
   "id": "18d723e4",
   "metadata": {},
   "outputs": [
    {
     "name": "stdout",
     "output_type": "stream",
     "text": [
      "Copied list: ['banana', 'grape', 'kiwi', 'pear']\n"
     ]
    }
   ],
   "source": [
    "# Creating a copy of the list\n",
    "copied_fruits = fruits.copy()\n",
    "print(\"Copied list:\", copied_fruits)"
   ]
  },
  {
   "cell_type": "code",
   "execution_count": 41,
   "id": "f2266cf5",
   "metadata": {},
   "outputs": [
    {
     "name": "stdout",
     "output_type": "stream",
     "text": [
      "List after adding a new fruit: ['banana', 'grape', 'kiwi', 'peach', 'pear']\n"
     ]
    }
   ],
   "source": [
    "# Adding a new fruit between index 2 and 3\n",
    "new_fruit = \"peach\"\n",
    "fruits.insert(3, new_fruit)\n",
    "\n",
    "print(\"List after adding a new fruit:\", fruits)"
   ]
  },
  {
   "cell_type": "markdown",
   "id": "1efeec3c",
   "metadata": {},
   "source": [
    "## Functions in Python\n",
    "\n",
    "Functions are blocks of reusable code that perform a specific task. They help organize your code and make it more modular, allowing you to break down complex tasks into smaller, manageable parts.\n",
    "\n",
    "### Defining a Function:\n",
    "\n",
    "In Python, you define a function using the `def` keyword, followed by the function name and a pair of parentheses.\n"
   ]
  },
  {
   "cell_type": "code",
   "execution_count": 42,
   "id": "6453d635",
   "metadata": {},
   "outputs": [],
   "source": [
    "def add_numbers(a, b):\n",
    "    return a + b"
   ]
  },
  {
   "cell_type": "code",
   "execution_count": 43,
   "id": "2535d5ad",
   "metadata": {},
   "outputs": [
    {
     "name": "stdout",
     "output_type": "stream",
     "text": [
      "Result: 8\n"
     ]
    }
   ],
   "source": [
    "result = add_numbers(3, 5)\n",
    "print(\"Result:\", result)"
   ]
  },
  {
   "cell_type": "code",
   "execution_count": 44,
   "id": "77782258",
   "metadata": {},
   "outputs": [],
   "source": [
    "# Defining a function to greet the user\n",
    "def greet_user(name):\n",
    "    print(f\"Hello, {name}! Welcome to our program.\")\n",
    "\n",
    "# Defining a function to add two numbers\n",
    "def add_numbers(num1, num2):\n",
    "    return num1 + num2\n",
    "\n",
    "# Defining a function to check if a number is even\n",
    "def is_even(number):\n",
    "    return number % 2 == 0"
   ]
  },
  {
   "cell_type": "code",
   "execution_count": 45,
   "id": "8cc191e4",
   "metadata": {},
   "outputs": [
    {
     "name": "stdout",
     "output_type": "stream",
     "text": [
      "Enter your name: MohammadReza\n",
      "Hello, MohammadReza! Welcome to our program.\n"
     ]
    }
   ],
   "source": [
    "# Using the functions\n",
    "user_name = input(\"Enter your name: \")\n",
    "greet_user(user_name)"
   ]
  },
  {
   "cell_type": "code",
   "execution_count": 46,
   "id": "8374bfe7",
   "metadata": {},
   "outputs": [
    {
     "name": "stdout",
     "output_type": "stream",
     "text": [
      "The sum of 5 and 3 is: 8\n"
     ]
    }
   ],
   "source": [
    "num1 = 5\n",
    "num2 = 3\n",
    "result = add_numbers(num1, num2)\n",
    "print(f\"The sum of {num1} and {num2} is: {result}\")"
   ]
  },
  {
   "cell_type": "code",
   "execution_count": 47,
   "id": "d78daaf0",
   "metadata": {},
   "outputs": [
    {
     "name": "stdout",
     "output_type": "stream",
     "text": [
      "Enter a number to check if it's even: 7\n",
      "7 is odd.\n"
     ]
    }
   ],
   "source": [
    "check_number = int(input(\"Enter a number to check if it's even: \"))\n",
    "if is_even(check_number):\n",
    "    print(f\"{check_number} is even.\")\n",
    "else:\n",
    "    print(f\"{check_number} is odd.\")"
   ]
  },
  {
   "cell_type": "markdown",
   "id": "180bbb3f",
   "metadata": {},
   "source": [
    "## Strings and String Formatting in Python\n",
    "\n",
    "Strings are a fundamental data type in Python used to represent text. They can contain letters, numbers, symbols, and spaces.\n",
    "\n",
    "### Creating a String:\n",
    "\n",
    "You can create a string by enclosing text in either single (`'`) or double (`\"`) quotes.\n",
    "\n",
    "```python\n",
    "my_string = 'Hello, World!'\n"
   ]
  },
  {
   "cell_type": "code",
   "execution_count": 48,
   "id": "33ce0f57",
   "metadata": {},
   "outputs": [
    {
     "name": "stdout",
     "output_type": "stream",
     "text": [
      "Hello, Alice\n"
     ]
    }
   ],
   "source": [
    "# Strings\n",
    "name = \"Alice\"\n",
    "print(\"Hello, \" + name)"
   ]
  },
  {
   "cell_type": "code",
   "execution_count": 49,
   "id": "7f0607d0",
   "metadata": {},
   "outputs": [
    {
     "name": "stdout",
     "output_type": "stream",
     "text": [
      "My name is Alice and I am 30 years old.\n"
     ]
    }
   ],
   "source": [
    "age = 30\n",
    "message = \"My name is {} and I am {} years old.\".format(name, age)\n",
    "print(message)"
   ]
  },
  {
   "cell_type": "markdown",
   "id": "435b2e69",
   "metadata": {},
   "source": [
    "## Dictionaries in Python\n",
    "\n",
    "Dictionaries are a versatile data structure in Python that allow you to store key-value pairs. They are also known as associative arrays, maps, or hash tables in other programming languages.\n",
    "\n",
    "### Creating a Dictionary:\n",
    "\n",
    "You can create a dictionary by enclosing a comma-separated list of key-value pairs within curly braces `{}`.\n",
    "\n",
    "```python\n",
    "my_dict = {'name': 'John Doe', 'age': 30, 'city': 'New York'}\n"
   ]
  },
  {
   "cell_type": "code",
   "execution_count": 46,
   "id": "fac06017",
   "metadata": {},
   "outputs": [],
   "source": [
    "# Creating a dictionary to store information about a person\n",
    "person = {\n",
    "    \"name\": \"John Doe\",\n",
    "    \"age\": 30,\n",
    "    \"occupation\": \"Engineer\",\n",
    "    \"email\": \"john@example.com\",\n",
    "    \"is_married\": False\n",
    "}"
   ]
  },
  {
   "cell_type": "code",
   "execution_count": 49,
   "id": "251d97e4",
   "metadata": {},
   "outputs": [
    {
     "name": "stdout",
     "output_type": "stream",
     "text": [
      "Name: John Doe\n",
      "Age: 30\n",
      "Occupation: Engineer\n",
      "Email: john@example.com\n",
      "Is Married: False\n"
     ]
    }
   ],
   "source": [
    "# Accessing elements in the dictionary\n",
    "print(\"Name:\", person[\"name\"])\n",
    "print(\"Age:\", person[\"age\"])\n",
    "print(\"Occupation:\", person[\"occupation\"])\n",
    "print(\"Email:\", person[\"email\"])\n",
    "print(\"Is Married:\", person[\"is_married\"])"
   ]
  },
  {
   "cell_type": "code",
   "execution_count": 50,
   "id": "f67ffe27",
   "metadata": {},
   "outputs": [
    {
     "data": {
      "text/plain": [
       "{'name': 'John Doe',\n",
       " 'age': 31,\n",
       " 'occupation': 'Engineer',\n",
       " 'email': 'john@example.com',\n",
       " 'is_married': True}"
      ]
     },
     "execution_count": 50,
     "metadata": {},
     "output_type": "execute_result"
    }
   ],
   "source": [
    "# Modifying elements in the dictionary\n",
    "person[\"age\"] = 31\n",
    "person[\"is_married\"] = True\n",
    "person"
   ]
  },
  {
   "cell_type": "code",
   "execution_count": 47,
   "id": "eecf0c0e",
   "metadata": {},
   "outputs": [],
   "source": [
    "# Adding a new key-value pair to the dictionary\n",
    "person[\"location\"] = \"New York\""
   ]
  },
  {
   "cell_type": "code",
   "execution_count": 48,
   "id": "5a795305",
   "metadata": {},
   "outputs": [
    {
     "data": {
      "text/plain": [
       "{'name': 'John Doe',\n",
       " 'age': 30,\n",
       " 'occupation': 'Engineer',\n",
       " 'is_married': False,\n",
       " 'location': 'New York'}"
      ]
     },
     "execution_count": 48,
     "metadata": {},
     "output_type": "execute_result"
    }
   ],
   "source": [
    "# Removing a key-value pair from the dictionary\n",
    "del person[\"email\"]\n",
    "person"
   ]
  },
  {
   "cell_type": "code",
   "execution_count": 49,
   "id": "b9e75065",
   "metadata": {},
   "outputs": [
    {
     "name": "stdout",
     "output_type": "stream",
     "text": [
      "Email not found in the dictionary.\n"
     ]
    }
   ],
   "source": [
    "# Checking if a key exists in the dictionary\n",
    "if \"email\" in person:\n",
    "    print(\"Email:\", person[\"email\"])\n",
    "else:\n",
    "    print(\"Email not found in the dictionary.\")"
   ]
  },
  {
   "cell_type": "code",
   "execution_count": 50,
   "id": "170f1927",
   "metadata": {},
   "outputs": [
    {
     "name": "stdout",
     "output_type": "stream",
     "text": [
      "Person details:\n",
      "name: John Doe\n",
      "age: 30\n",
      "occupation: Engineer\n",
      "is_married: False\n",
      "location: New York\n"
     ]
    }
   ],
   "source": [
    "# Iterating through the dictionary\n",
    "print(\"Person details:\")\n",
    "for key, value in person.items():\n",
    "    print(f\"{key}: {value}\")"
   ]
  },
  {
   "cell_type": "markdown",
   "id": "d6adf862",
   "metadata": {},
   "source": [
    "## Taking User Input in Python\n",
    "\n",
    "The `input()` function allows you to prompt the user for input during the execution of a program. This enables interaction between the user and the program, making it more dynamic and responsive.\n"
   ]
  },
  {
   "cell_type": "code",
   "execution_count": 51,
   "id": "3c5be346",
   "metadata": {},
   "outputs": [
    {
     "name": "stdout",
     "output_type": "stream",
     "text": [
      "Enter your name: Dorsa\n",
      "Enter your age: 20\n",
      "Hello, Dorsa! You are 20 years old.\n"
     ]
    }
   ],
   "source": [
    "name = input(\"Enter your name: \")\n",
    "age = int(input(\"Enter your age: \"))\n",
    "\n",
    "print(\"Hello, \" + name + \"! You are \" + str(age) + \" years old.\")"
   ]
  },
  {
   "cell_type": "markdown",
   "id": "8ae12406",
   "metadata": {},
   "source": [
    "## Library"
   ]
  },
  {
   "cell_type": "markdown",
   "id": "01304db6",
   "metadata": {},
   "source": [
    "<font size = 3> What is library in python!?"
   ]
  },
  {
   "cell_type": "markdown",
   "id": "fe77b39e",
   "metadata": {},
   "source": [
    "Imagine you are building a house, and you need to install various appliances and fixtures, such as a refrigerator, a stove, a TV, and a shower. Instead of designing and building each of these items from scratch, you decide to buy ready-made appliances from a store.\n",
    "\n",
    "In this analogy:\n",
    "\n",
    "Python is like the construction site or the platform where you build your house (write your code).\n",
    "Libraries in Python are like the appliances and fixtures you buy from the store. They are pre-built sets of tools, functions, and code that you can use in your Python programs to perform specific tasks or solve particular problems."
   ]
  },
  {
   "cell_type": "code",
   "execution_count": 52,
   "id": "b80b1405",
   "metadata": {},
   "outputs": [],
   "source": [
    "import random"
   ]
  },
  {
   "cell_type": "code",
   "execution_count": 54,
   "id": "cd8f8d8e",
   "metadata": {},
   "outputs": [
    {
     "name": "stdout",
     "output_type": "stream",
     "text": [
      "Random number: 48\n"
     ]
    }
   ],
   "source": [
    "# Generate a random integer between 1 and 100 (inclusive)\n",
    "random_number = random.randint(1, 100)\n",
    "print(\"Random number:\", random_number)"
   ]
  },
  {
   "cell_type": "code",
   "execution_count": 55,
   "id": "323cf523",
   "metadata": {},
   "outputs": [
    {
     "name": "stdout",
     "output_type": "stream",
     "text": [
      "Random float: 0.6393856149558488\n"
     ]
    }
   ],
   "source": [
    "# Generate a random float between 0 and 1\n",
    "random_float = random.random()\n",
    "print(\"Random float:\", random_float)"
   ]
  },
  {
   "cell_type": "code",
   "execution_count": 57,
   "id": "fc1f1de5",
   "metadata": {},
   "outputs": [],
   "source": [
    "import datetime"
   ]
  },
  {
   "cell_type": "code",
   "execution_count": 58,
   "id": "2914d6d1",
   "metadata": {},
   "outputs": [
    {
     "name": "stdout",
     "output_type": "stream",
     "text": [
      "Current date and time: 2023-07-30 15:17:13.538389\n"
     ]
    }
   ],
   "source": [
    "# Get the current date and time\n",
    "current_datetime = datetime.datetime.now()\n",
    "print(\"Current date and time:\", current_datetime)"
   ]
  }
 ],
 "metadata": {
  "kernelspec": {
   "display_name": "Python 3 (ipykernel)",
   "language": "python",
   "name": "python3"
  },
  "language_info": {
   "codemirror_mode": {
    "name": "ipython",
    "version": 3
   },
   "file_extension": ".py",
   "mimetype": "text/x-python",
   "name": "python",
   "nbconvert_exporter": "python",
   "pygments_lexer": "ipython3",
   "version": "3.9.12"
  }
 },
 "nbformat": 4,
 "nbformat_minor": 5
}
